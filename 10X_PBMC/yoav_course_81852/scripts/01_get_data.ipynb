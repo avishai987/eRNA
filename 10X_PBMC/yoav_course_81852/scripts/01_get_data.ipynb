{
 "cells": [
  {
   "cell_type": "code",
   "execution_count": 7,
   "id": "fe1f57e4-4c21-4901-9f3a-306d133a21a6",
   "metadata": {},
   "outputs": [
    {
     "name": "stdout",
     "output_type": "stream",
     "text": [
      "/sci/labs/yotamd/lab_share/avishai.wizel/eRNA\n"
     ]
    },
    {
     "name": "stderr",
     "output_type": "stream",
     "text": [
      "/sci/labs/yotamd/lab_share/avishai.wizel/python_envs/miniconda/envs/tf_gpu_env/lib/python3.9/site-packages/IPython/core/magics/osm.py:417: UserWarning: using dhist requires you to install the `pickleshare` library.\n",
      "  self.shell.db['dhist'] = compress_dhist(dhist)[-100:]\n"
     ]
    }
   ],
   "source": [
    " %cd /sci/labs/yotamd/lab_share/avishai.wizel/eRNA/"
   ]
  },
  {
   "cell_type": "code",
   "execution_count": 15,
   "id": "41b37573-a4ea-4089-bc3d-c4519362786e",
   "metadata": {},
   "outputs": [],
   "source": [
    "import h5py\n",
    "import anndata as ad\n",
    "import pandas as pd\n",
    "import numpy as np\n",
    "from scipy.sparse import csr_matrix\n",
    "from scipy.sparse import csc_matrix, csr_matrix # Import csc_matrix"
   ]
  },
  {
   "cell_type": "code",
   "execution_count": 16,
   "id": "6dbfde1d-8f7e-429e-8ca4-e16e115b9625",
   "metadata": {},
   "outputs": [],
   "source": [
    "file_path = \"./10X_PBMC/01_raw_data/pbmc_granulocyte_sorted_10k_filtered_feature_bc_matrix.h5\""
   ]
  },
  {
   "cell_type": "code",
   "execution_count": 19,
   "id": "f52bfbc1-ffc2-4db6-a0b4-fe4e03ac375a",
   "metadata": {},
   "outputs": [],
   "source": [
    "def split_multiome_h5_to_anndata(h5_file_path: str) -> tuple[ad.AnnData, ad.AnnData]:\n",
    "    \"\"\"\n",
    "    Splits a 10x Genomics Multiome H5 file (containing both Gene Expression and ATAC data)\n",
    "    into two separate AnnData objects. This version correctly handles 10x's CSC matrix\n",
    "    storage format.\n",
    "\n",
    "    Args:\n",
    "        h5_file_path (str): The full path to the combined Multiome H5 file.\n",
    "\n",
    "    Returns:\n",
    "        tuple[ad.AnnData, ad.AnnData]: A tuple containing:\n",
    "            - adata_rna (ad.AnnData): AnnData object for Gene Expression (cells x genes).\n",
    "            - adata_atac (ad.AnnData): AnnData object for ATAC (cells x peaks).\n",
    "            Both AnnData objects will have cleaned cell barcodes (without '-1' suffix).\n",
    "    \"\"\"\n",
    "    print(f\"Loading and splitting Multiome data from: {h5_file_path}\")\n",
    "\n",
    "    with h5py.File(h5_file_path, 'r') as f:\n",
    "        # Load sparse matrix components\n",
    "        data = f['matrix']['data'][:]\n",
    "        indices = f['matrix']['indices'][:]  # Row indices for CSC\n",
    "        indptr = f['matrix']['indptr'][:]    # Column pointers for CSC\n",
    "        original_shape_h5 = f['matrix']['shape'][:] # (n_features, n_cells) as stored in H5\n",
    "\n",
    "        # Load barcodes (cells)\n",
    "        barcodes_raw = f['matrix']['barcodes'][:].astype(str)\n",
    "\n",
    "        # Load features (genes/peaks) and their types\n",
    "        feature_names_raw = f['matrix']['features']['name'][:].astype(str)\n",
    "        feature_types = f['matrix']['features']['feature_type'][:].astype(str)\n",
    "        \n",
    "        # Load other feature metadata (common in 10x Multiome H5)\n",
    "        feature_ids_raw = f['matrix']['features']['id'][:].astype(str)\n",
    "        feature_genomes_raw = f['matrix']['features']['genome'][:].astype(str)\n",
    "        # Add more if other fields like 'interval' are consistently useful\n",
    "        # e.g., if 'interval' in f['matrix']['features']:\n",
    "        #    intervals_raw = f['matrix']['features']['interval'][:].astype(str)\n",
    "\n",
    "    print(f\"Original shape from H5 (features x cells): {original_shape_h5}\")\n",
    "    print(f\"Length of loaded data: {len(data)}\")\n",
    "    print(f\"Length of loaded indices: {len(indices)}\")\n",
    "    print(f\"Length of loaded indptr: {len(indptr)} (should be n_cells + 1 if CSC)\")\n",
    "    print(f\"Number of loaded barcodes (cells): {len(barcodes_raw)}\")\n",
    "    print(f\"Number of loaded features (genes+peaks): {len(feature_names_raw)}\")\n",
    "\n",
    "    # Crucial step: Construct as CSC matrix first\n",
    "    # The (data, indices, indptr) from 10x H5 are structured for CSC (features x cells)\n",
    "    print(f\"Constructing initial CSC matrix with shape {original_shape_h5} (features x cells)...\")\n",
    "    full_sparse_matrix_features_cells_csc = csc_matrix(\n",
    "        (data, indices, indptr), \n",
    "        shape=original_shape_h5\n",
    "    )\n",
    "    \n",
    "\n",
    "    print(f\"Successfully constructed CSC matrix: {full_sparse_matrix_features_cells_csc.shape}\")\n",
    "\n",
    "    # 1. Clean cell barcodes (remove '-1' suffix)\n",
    "    cleaned_barcodes = pd.Index(barcodes_raw).str.replace(r'-\\d+$', '', regex=True)\n",
    "    print(f\"First 5 raw barcodes: {barcodes_raw[:5].tolist()}\")\n",
    "    print(f\"First 5 cleaned barcodes: {cleaned_barcodes[:5].tolist()}\")\n",
    "\n",
    "    # 2. Filter features by 'feature_type'\n",
    "    rna_mask = (feature_types == 'Gene Expression')\n",
    "    atac_mask = (feature_types == 'Peaks')\n",
    "\n",
    "    rna_feature_names = pd.Index(feature_names_raw[rna_mask])\n",
    "    atac_peak_names = pd.Index(feature_names_raw[atac_mask])\n",
    "    \n",
    "    print(f\"Found {len(rna_feature_names)} Gene Expression features (genes).\")\n",
    "    print(f\"Found {len(atac_peak_names)} ATAC features (peaks).\")\n",
    "\n",
    "    # Prepare feature metadata DataFrames for .var\n",
    "    rna_var_df = pd.DataFrame({\n",
    "        'feature_id': feature_ids_raw[rna_mask],\n",
    "        'feature_type': feature_types[rna_mask],\n",
    "        'genome': feature_genomes_raw[rna_mask]\n",
    "    }, index=rna_feature_names)\n",
    "\n",
    "    atac_var_df = pd.DataFrame({\n",
    "        'feature_id': feature_ids_raw[atac_mask],\n",
    "        'feature_type': feature_types[atac_mask],\n",
    "        'genome': feature_genomes_raw[atac_mask]\n",
    "        # Example for adding 'interval' if it's there and useful:\n",
    "        # 'interval': intervals_raw[atac_mask] if 'interval' in locals() else None\n",
    "    }, index=atac_peak_names)\n",
    "\n",
    "\n",
    "    # 3. Create sparse matrices for each modality\n",
    "    # Slice the full CSC matrix (features x cells) by feature type.\n",
    "    # Then transpose the result to get (cells x features) and convert to CSR for AnnData.X.\n",
    "    \n",
    "    # RNA data\n",
    "    # Select rows (features) corresponding to RNA genes, keep all columns (cells)\n",
    "    rna_sparse_matrix_features_cells_csc = full_sparse_matrix_features_cells_csc[rna_mask, :]\n",
    "    adata_rna = ad.AnnData(\n",
    "        X=rna_sparse_matrix_features_cells_csc.T.tocsr(), # Transpose to (cells x genes) and convert to CSR\n",
    "        obs=pd.DataFrame(index=cleaned_barcodes), # Cells are observations\n",
    "        var=rna_var_df # Genes are variables/features\n",
    "    )\n",
    "    print(f\"\\nCreated adata_rna: {adata_rna.shape} (cells x genes)\")\n",
    "    print(f\"adata_rna .X is of type: {type(adata_rna.X)}\")\n",
    "\n",
    "    # ATAC data\n",
    "    # Select rows (features) corresponding to ATAC peaks, keep all columns (cells)\n",
    "    atac_sparse_matrix_features_cells_csc = full_sparse_matrix_features_cells_csc[atac_mask, :]\n",
    "    adata_atac = ad.AnnData(\n",
    "        X=atac_sparse_matrix_features_cells_csc.T.tocsr(), # Transpose to (cells x peaks) and convert to CSR\n",
    "        obs=pd.DataFrame(index=cleaned_barcodes), # Cells are observations\n",
    "        var=atac_var_df # Peaks are variables/features\n",
    "    )\n",
    "    print(f\"Created adata_atac: {adata_atac.shape} (cells x peaks)\")\n",
    "    print(f\"adata_atac .X is of type: {type(adata_atac.X)}\")\n",
    "\n",
    "    return adata_rna, adata_atac\n"
   ]
  },
  {
   "cell_type": "code",
   "execution_count": 20,
   "id": "e3f44de8-9d84-47d9-8032-96376e4e28e4",
   "metadata": {},
   "outputs": [
    {
     "name": "stdout",
     "output_type": "stream",
     "text": [
      "Loading and splitting Multiome data from: ./10X_PBMC/01_raw_data/pbmc_granulocyte_sorted_10k_filtered_feature_bc_matrix.h5\n",
      "Original shape from H5 (features x cells): [144978  11909]\n",
      "Length of loaded data: 109104829\n",
      "Length of loaded indices: 109104829\n",
      "Length of loaded indptr: 11910 (should be n_cells + 1 if CSC)\n",
      "Number of loaded barcodes (cells): 11909\n",
      "Number of loaded features (genes+peaks): 144978\n",
      "Constructing initial CSC matrix with shape [144978  11909] (features x cells)...\n",
      "Successfully constructed CSC matrix: (144978, 11909)\n",
      "First 5 raw barcodes: ['AAACAGCCAAGGAATC-1', 'AAACAGCCAATCCCTT-1', 'AAACAGCCAATGCGCT-1', 'AAACAGCCACACTAAT-1', 'AAACAGCCACCAACCG-1']\n",
      "First 5 cleaned barcodes: ['AAACAGCCAAGGAATC', 'AAACAGCCAATCCCTT', 'AAACAGCCAATGCGCT', 'AAACAGCCACACTAAT', 'AAACAGCCACCAACCG']\n",
      "Found 36601 Gene Expression features (genes).\n",
      "Found 108377 ATAC features (peaks).\n"
     ]
    },
    {
     "name": "stderr",
     "output_type": "stream",
     "text": [
      "/sci/labs/yotamd/lab_share/avishai.wizel/python_envs/miniconda/envs/tf_gpu_env/lib/python3.9/site-packages/anndata/_core/anndata.py:1756: UserWarning: Variable names are not unique. To make them unique, call `.var_names_make_unique`.\n",
      "  utils.warn_names_duplicates(\"var\")\n"
     ]
    },
    {
     "name": "stdout",
     "output_type": "stream",
     "text": [
      "\n",
      "Created adata_rna: (11909, 36601) (cells x genes)\n",
      "adata_rna .X is of type: <class 'scipy.sparse._csr.csr_matrix'>\n",
      "Created adata_atac: (11909, 108377) (cells x peaks)\n",
      "adata_atac .X is of type: <class 'scipy.sparse._csr.csr_matrix'>\n"
     ]
    }
   ],
   "source": [
    "adata_rna, adata_atac = split_multiome_h5_to_anndata(file_path)\n"
   ]
  },
  {
   "cell_type": "code",
   "execution_count": 21,
   "id": "9b1d01a7-fc9d-4ff0-ba1c-c2f7642c3bbf",
   "metadata": {},
   "outputs": [
    {
     "name": "stdout",
     "output_type": "stream",
     "text": [
      "\n",
      "--- Summary of RNA AnnData ---\n",
      "AnnData object with n_obs × n_vars = 11909 × 36601\n",
      "    var: 'feature_id', 'feature_type', 'genome'\n",
      "RNA matrix shape: (11909, 36601)\n",
      "RNA obs_names (first 5): ['AAACAGCCAAGGAATC', 'AAACAGCCAATCCCTT', 'AAACAGCCAATGCGCT', 'AAACAGCCACACTAAT', 'AAACAGCCACCAACCG']\n",
      "RNA var_names (first 5): ['MIR1302-2HG', 'FAM138A', 'OR4F5', 'AL627309.1', 'AL627309.3']\n",
      "RNA var columns: ['feature_id', 'feature_type', 'genome']\n",
      "\n",
      "--- Summary of ATAC AnnData ---\n",
      "AnnData object with n_obs × n_vars = 11909 × 108377\n",
      "    var: 'feature_id', 'feature_type', 'genome'\n",
      "ATAC matrix shape: (11909, 108377)\n",
      "ATAC obs_names (first 5): ['AAACAGCCAAGGAATC', 'AAACAGCCAATCCCTT', 'AAACAGCCAATGCGCT', 'AAACAGCCACACTAAT', 'AAACAGCCACCAACCG']\n",
      "ATAC var_names (first 5): ['chr1:10109-10357', 'chr1:180730-181630', 'chr1:191491-191736', 'chr1:267816-268196', 'chr1:586028-586373']\n",
      "ATAC var columns: ['feature_id', 'feature_type', 'genome']\n",
      "\n",
      "Number of common cells between RNA and ATAC: 11909\n",
      "All cells are common between modalities, as expected for Multiome.\n"
     ]
    }
   ],
   "source": [
    "print(\"\\n--- Summary of RNA AnnData ---\")\n",
    "print(adata_rna)\n",
    "print(f\"RNA matrix shape: {adata_rna.shape}\")\n",
    "print(f\"RNA obs_names (first 5): {adata_rna.obs_names[:5].tolist()}\")\n",
    "print(f\"RNA var_names (first 5): {adata_rna.var_names[:5].tolist()}\")\n",
    "print(\"RNA var columns:\", adata_rna.var.columns.tolist())\n",
    "\n",
    "print(\"\\n--- Summary of ATAC AnnData ---\")\n",
    "print(adata_atac)\n",
    "print(f\"ATAC matrix shape: {adata_atac.shape}\")\n",
    "print(f\"ATAC obs_names (first 5): {adata_atac.obs_names[:5].tolist()}\")\n",
    "print(f\"ATAC var_names (first 5): {adata_atac.var_names[:5].tolist()}\")\n",
    "print(\"ATAC var columns:\", adata_atac.var.columns.tolist())\n",
    "\n",
    "# Check for common cells\n",
    "common_cells_multiome = adata_rna.obs_names.intersection(adata_atac.obs_names)\n",
    "print(f\"\\nNumber of common cells between RNA and ATAC: {len(common_cells_multiome)}\")\n",
    "if len(common_cells_multiome) == adata_rna.shape[0] and len(common_cells_multiome) == adata_atac.shape[0]:\n",
    "    print(\"All cells are common between modalities, as expected for Multiome.\")\n"
   ]
  },
  {
   "cell_type": "code",
   "execution_count": 24,
   "id": "470d99ca-94f4-4653-b14b-b7cf6a841f07",
   "metadata": {},
   "outputs": [],
   "source": [
    "adata_rna.write_h5ad(\"./10X_PBMC/02_counts_data/adata_rna.h5ad\")\n",
    "adata_atac.write_h5ad(\"./10X_PBMC/02_counts_data/adata_atac.h5ad\")"
   ]
  },
  {
   "cell_type": "code",
   "execution_count": null,
   "id": "1478163a-68f3-4df1-bf02-853229ab346f",
   "metadata": {},
   "outputs": [],
   "source": []
  }
 ],
 "metadata": {
  "kernelspec": {
   "display_name": "Python 3 (ipykernel)",
   "language": "python",
   "name": "python3"
  },
  "language_info": {
   "codemirror_mode": {
    "name": "ipython",
    "version": 3
   },
   "file_extension": ".py",
   "mimetype": "text/x-python",
   "name": "python",
   "nbconvert_exporter": "python",
   "pygments_lexer": "ipython3",
   "version": "3.9.23"
  }
 },
 "nbformat": 4,
 "nbformat_minor": 5
}
