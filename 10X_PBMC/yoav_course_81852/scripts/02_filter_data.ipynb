{
 "cells": [
  {
   "cell_type": "code",
   "execution_count": 6,
   "id": "30c4e588-4209-4670-b815-e8f019d1010e",
   "metadata": {},
   "outputs": [
    {
     "name": "stdout",
     "output_type": "stream",
     "text": [
      "/sci/labs/yotamd/lab_share/avishai.wizel/eRNA\n"
     ]
    },
    {
     "name": "stderr",
     "output_type": "stream",
     "text": [
      "/sci/labs/yotamd/lab_share/avishai.wizel/python_envs/miniconda/envs/tf_gpu_env/lib/python3.9/site-packages/IPython/core/magics/osm.py:417: UserWarning: using dhist requires you to install the `pickleshare` library.\n",
      "  self.shell.db['dhist'] = compress_dhist(dhist)[-100:]\n"
     ]
    }
   ],
   "source": [
    " %cd /sci/labs/yotamd/lab_share/avishai.wizel/eRNA/"
   ]
  },
  {
   "cell_type": "code",
   "execution_count": 7,
   "id": "9d0b0e95-276f-4c39-9333-242e7a5724af",
   "metadata": {},
   "outputs": [],
   "source": [
    "import anndata as ad\n",
    "import numpy as np\n",
    "import pandas as pd\n",
    "import anndata as ad\n",
    "from scipy.sparse import issparse, csr_matrix\n",
    "import re\n",
    "import warnings\n"
   ]
  },
  {
   "cell_type": "code",
   "execution_count": 8,
   "id": "727fe8ef-d48c-4705-a044-9d079937af38",
   "metadata": {},
   "outputs": [
    {
     "name": "stderr",
     "output_type": "stream",
     "text": [
      "/sci/labs/yotamd/lab_share/avishai.wizel/python_envs/miniconda/envs/tf_gpu_env/lib/python3.9/site-packages/anndata/_core/anndata.py:1756: UserWarning: Variable names are not unique. To make them unique, call `.var_names_make_unique`.\n",
      "  utils.warn_names_duplicates(\"var\")\n"
     ]
    }
   ],
   "source": [
    "adata_atac = ad.read_h5ad(\"./10X_PBMC/02_counts_data/adata_atac.h5ad\")\n",
    "adata_rna =  ad.read_h5ad(\"./10X_PBMC/02_counts_data/adata_rna.h5ad\")"
   ]
  },
  {
   "cell_type": "code",
   "execution_count": 9,
   "id": "981814fa-b163-4b85-9a50-3c77728d892b",
   "metadata": {},
   "outputs": [],
   "source": [
    "def preprocess_atac_anndata(\n",
    "    adata_atac: ad.AnnData,\n",
    "    genome_assembly: str = \"hg38\", # \"hg38\" or \"mm10\"\n",
    "    min_cells_per_peak: int = 5,\n",
    "    max_cells_percentage_per_peak: float = 0.10\n",
    ") -> ad.AnnData:\n",
    "    \"\"\"\n",
    "    Performs filtering and binarization of an AnnData object containing scATAC-seq data.\n",
    "\n",
    "    The input AnnData object is expected to have cells as rows (obs) and peaks as columns (var).\n",
    "\n",
    "    Args:\n",
    "        adata_atac (anndata.AnnData):\n",
    "            The AnnData object for ATAC-seq data (cells x peaks).\n",
    "        genome_assembly (str):\n",
    "            Genome reference name (\"hg38\" or \"mm10\") for sex chromosome identification.\n",
    "        min_cells_per_peak (int):\n",
    "            Minimum number of cells a peak must appear in to be retained.\n",
    "        max_cells_percentage_per_peak (float):\n",
    "            Maximum percentage of cells a peak can appear in to be retained.\n",
    "\n",
    "    Returns:\n",
    "        anndata.AnnData: An updated AnnData object containing the filtered and binarized matrix and metadata.\n",
    "                         The matrix (adata.X) will remain in 'cells x peaks' format.\n",
    "    \"\"\"\n",
    "\n",
    "    if not isinstance(adata_atac, ad.AnnData):\n",
    "        raise TypeError(\"Input 'adata_atac' must be an anndata.AnnData object.\")\n",
    "    \n",
    "    # Ensure the matrix is sparse, as expected for ATAC data.\n",
    "    # AnnData.X is typically already sparse (csr_matrix) if loaded from 10x H5.\n",
    "    if not issparse(adata_atac.X):\n",
    "        warnings.warn(\"adata_atac.X is not sparse. Converting to CSR sparse matrix.\")\n",
    "        adata_atac.X = csr_matrix(adata_atac.X)\n",
    "\n",
    "    print(f\"Initial AnnData shape (cells x peaks): {adata_atac.shape}\")\n",
    "    print(f\"Initial number of cells: {adata_atac.shape[0]}\")\n",
    "    print(f\"Initial number of peaks: {adata_atac.shape[1]}\\n\")\n",
    "\n",
    "    # --- Filtering Steps ---\n",
    "\n",
    "    ## 1. Binarize data: Replace all non-zero values with 1\n",
    "    print(\"1. Binarizing data: Replacing all non-zero values with 1...\")\n",
    "    # .sign() converts positive values to 1, negative to -1, zero to 0.\n",
    "    # For ATAC-seq, we expect non-negative values, so this effectively converts\n",
    "    # any non-zero count to 1.\n",
    "    adata_atac.X = adata_atac.X.sign()\n",
    "    adata_atac.X.eliminate_zeros() # Remove explicitly stored zeros if any\n",
    "    print(f\"   Matrix non-zero elements after binarization: {adata_atac.X.nnz}\\n\")\n",
    "\n",
    "    ## 2. Remove peaks on sex chromosomes\n",
    "    print(\"2. Removing peaks on sex chromosomes...\")\n",
    "    \n",
    "    sex_chroms_map = {'hg38': ['chrX', 'chrY'], 'mm10': ['chrX', 'chrY']}\n",
    "    \n",
    "    if genome_assembly.lower() not in sex_chroms_map:\n",
    "        warnings.warn(f\"Unsupported genome assembly '{genome_assembly}'. Skipping sex chromosome filtering.\")\n",
    "        is_sex_chrom = np.zeros(adata_atac.shape[1], dtype=bool)\n",
    "    else:\n",
    "        current_sex_chroms = sex_chroms_map[genome_assembly.lower()]\n",
    "        # Extract chromosome from peak name (e.g., 'chr1:100-200' -> 'chr1')\n",
    "        peak_chroms = np.array([p.split(':')[0] for p in adata_atac.var_names])\n",
    "        is_sex_chrom = np.isin(peak_chroms, current_sex_chroms)\n",
    "    \n",
    "    non_sex_chrom_mask = ~is_sex_chrom\n",
    "    adata_atac = adata_atac[:, non_sex_chrom_mask].copy() # Apply filter to var (columns)\n",
    "\n",
    "    print(f\"   Peaks remaining after sex chromosome removal: {adata_atac.shape[1]}\\n\")\n",
    "\n",
    "    ## 3. Merge overlapping peaks (conceptual step - full implementation complex)\n",
    "    # This step is highly dependent on how peaks are defined and requires genomic interval handling\n",
    "    # (e.g., using libraries like pyranges, pybedtools, or specific ArchR/Signac functions).\n",
    "    # It typically involves parsing peak coordinates, sorting, and then merging overlapping intervals.\n",
    "    # For a minimal Python script without external genomic tools, full implementation is beyond scope.\n",
    "    # Assuming this step might be handled externally or peaks are already non-overlapping for this context.\n",
    "    print(\"3. Merging overlapping peaks... (This step requires dedicated genomic tools or advanced logic and is not fully implemented in this minimal example.)\")\n",
    "    print(\"   Assuming peaks are already non-overlapping or this step is handled externally for now.\\n\")\n",
    "\n",
    "\n",
    "    ## 4. Remove peaks occurring in fewer than 'min_cells_per_peak' cells\n",
    "    print(f\"4. Removing peaks occurring in fewer than {min_cells_per_peak} cells...\")\n",
    "    \n",
    "    # sum(axis=0) counts the number of cells each peak appears in\n",
    "    # (since matrix is binary, sum of column is count of 1s)\n",
    "    # .A1 converts the sparse matrix result to a 1D numpy array\n",
    "    n_cells_per_peak = adata_atac.X.sum(axis=0).A1 \n",
    "    \n",
    "    peaks_to_keep_min_cells = n_cells_per_peak >= min_cells_per_peak\n",
    "    adata_atac = adata_atac[:, peaks_to_keep_min_cells].copy()\n",
    "    \n",
    "    print(f\"   Peaks remaining after minimum cell count filter: {adata_atac.shape[1]}\\n\")\n",
    "\n",
    "    ## 5. Remove peaks occurring in more than 'max_cells_percentage_per_peak' of cells\n",
    "    print(f\"5. Removing peaks occurring in more than {max_cells_percentage_per_peak*100:.2f}% of cells...\")\n",
    "    \n",
    "    n_cells_total = adata_atac.shape[0] # Total number of cells (rows in adata.X)\n",
    "    \n",
    "    # Recalculate cell counts per peak for the already filtered matrix\n",
    "    n_cells_per_peak_current = adata_atac.X.sum(axis=0).A1\n",
    "    \n",
    "    # Calculate the maximum allowed cell count threshold\n",
    "    max_cells_count_threshold = int(n_cells_total * max_cells_percentage_per_peak)\n",
    "    \n",
    "    peaks_to_keep_max_cells = n_cells_per_peak_current <= max_cells_count_threshold\n",
    "    adata_atac = adata_atac[:, peaks_to_keep_max_cells].copy()\n",
    "    \n",
    "    print(f\"   Peaks remaining after maximum cell percentage filter: {adata_atac.shape[1]}\\n\")\n",
    "\n",
    "    print(f\"Final AnnData shape (cells x peaks): {adata_atac.shape}\")\n",
    "    print(f\"Final number of cells: {adata_atac.shape[0]}\")\n",
    "    print(f\"Final number of peaks: {adata_atac.shape[1]}\\n\")\n",
    "\n",
    "    return adata_atac\n"
   ]
  },
  {
   "cell_type": "code",
   "execution_count": 10,
   "id": "fd0cd026-7010-4885-91e2-3bd2d1dadaa3",
   "metadata": {},
   "outputs": [
    {
     "name": "stdout",
     "output_type": "stream",
     "text": [
      "Initial AnnData shape (cells x peaks): (11909, 108377)\n",
      "Initial number of cells: 11909\n",
      "Initial number of peaks: 108377\n",
      "\n",
      "1. Binarizing data: Replacing all non-zero values with 1...\n",
      "   Matrix non-zero elements after binarization: 85596796\n",
      "\n",
      "2. Removing peaks on sex chromosomes...\n",
      "   Peaks remaining after sex chromosome removal: 105502\n",
      "\n",
      "3. Merging overlapping peaks... (This step requires dedicated genomic tools or advanced logic and is not fully implemented in this minimal example.)\n",
      "   Assuming peaks are already non-overlapping or this step is handled externally for now.\n",
      "\n",
      "4. Removing peaks occurring in fewer than 100 cells...\n",
      "   Peaks remaining after minimum cell count filter: 84531\n",
      "\n",
      "5. Removing peaks occurring in more than 10.00% of cells...\n",
      "   Peaks remaining after maximum cell percentage filter: 67207\n",
      "\n",
      "Final AnnData shape (cells x peaks): (11909, 67207)\n",
      "Final number of cells: 11909\n",
      "Final number of peaks: 67207\n",
      "\n"
     ]
    }
   ],
   "source": [
    "filtered_atac_adata = preprocess_atac_anndata(\n",
    "            adata_atac=adata_atac,\n",
    "            genome_assembly=\"hg38\", # Make sure this matches your data\n",
    "            min_cells_per_peak=100,\n",
    "            max_cells_percentage_per_peak=0.10\n",
    "        )\n"
   ]
  },
  {
   "cell_type": "code",
   "execution_count": 11,
   "id": "ccba8bdc-1fe2-47f4-9a62-5be71ed19c28",
   "metadata": {},
   "outputs": [],
   "source": [
    "def filter_rna_anndata(\n",
    "    adata_rna: ad.AnnData,\n",
    "    genome_assembly: str = \"hg38\", # \"hg38\" or \"mm10\"\n",
    "    min_genes_per_cell: int = 200\n",
    ") -> ad.AnnData:\n",
    "    \"\"\"\n",
    "    Performs specific filtering of an AnnData object containing scRNA-seq data:\n",
    "    1. Removes genes encoded on sex chromosomes.\n",
    "    2. Removes cells expressing fewer than 'min_genes_per_cell' genes.\n",
    "\n",
    "    The input AnnData object is expected to have cells as rows (obs) and genes as columns (var).\n",
    "\n",
    "    Args:\n",
    "        adata_rna (anndata.AnnData):\n",
    "            The AnnData object for RNA-seq data (cells x genes).\n",
    "        genome_assembly (str):\n",
    "            Genome reference name (\"hg38\" or \"mm10\") for sex chromosome identification.\n",
    "            Assumes gene names in adata.var_names can be parsed for chromosome information\n",
    "            (e.g., if they contain 'chrX', 'chrY', or similar). If not, this step\n",
    "            might require 'var' to have a 'chromosome' column.\n",
    "        min_genes_per_cell (int):\n",
    "            Minimum number of genes a cell must express to be retained.\n",
    "\n",
    "    Returns:\n",
    "        anndata.AnnData: An updated AnnData object containing the filtered matrix and metadata.\n",
    "                         The matrix (adata.X) will remain in 'cells x genes' format.\n",
    "    \"\"\"\n",
    "\n",
    "    if not isinstance(adata_rna, ad.AnnData):\n",
    "        raise TypeError(\"Input 'adata_rna' must be an anndata.AnnData object.\")\n",
    "    \n",
    "    # Ensure the matrix is sparse, typically CSR for cells x genes\n",
    "    if not issparse(adata_rna.X):\n",
    "        warnings.warn(\"adata_rna.X is not sparse. Converting to CSR sparse matrix.\")\n",
    "        adata_rna.X = csr_matrix(adata_rna.X)\n",
    "\n",
    "    print(f\"Initial AnnData shape (cells x genes): {adata_rna.shape}\")\n",
    "    print(f\"Initial number of cells: {adata_rna.shape[0]}\")\n",
    "    print(f\"Initial number of genes: {adata_rna.shape[1]}\\n\")\n",
    "\n",
    "    # --- 1. Remove genes encoded on sex chromosomes ---\n",
    "    print(\"1. Removing genes on sex chromosomes...\")\n",
    "    \n",
    "    sex_chroms_map = {'hg38': ['chrX', 'chrY'], 'mm10': ['chrX', 'chrY']}\n",
    "    \n",
    "    if genome_assembly.lower() not in sex_chroms_map:\n",
    "        warnings.warn(f\"Unsupported genome assembly '{genome_assembly}'. Skipping sex chromosome filtering.\")\n",
    "        is_sex_chrom_gene = np.zeros(adata_rna.shape[1], dtype=bool)\n",
    "    else:\n",
    "        current_sex_chroms = sex_chroms_map[genome_assembly.lower()]\n",
    "        \n",
    "        # This part assumes gene names might contain chromosome info (e.g., 'chrX_GENE')\n",
    "        # or that 'adata_rna.var' has a 'chromosome' column.\n",
    "        # For typical 10x output, gene names are just gene symbols (e.g., 'XIST').\n",
    "        # A more robust approach might be to map gene symbols to chromosomes using an external annotation.\n",
    "        # For simplicity, assuming 'adata.var' might have a 'chromosome' column if available from the AnnData creation.\n",
    "        \n",
    "        # If 'chromosome' is a column in adata.var, use it:\n",
    "        if 'chromosome' in adata_rna.var.columns:\n",
    "            is_sex_chrom_gene = adata_rna.var['chromosome'].isin(current_sex_chroms)\n",
    "            print(\"   Using 'chromosome' column from adata.var for sex chromosome filtering.\")\n",
    "        else:\n",
    "            # Fallback: try to guess from gene names, or warn.\n",
    "            # For 10x data, standard gene symbols often don't contain 'chrX' directly.\n",
    "            # You might need a mapping for specific genes like 'XIST', 'TSIX', 'RPS4Y1', etc.\n",
    "            # This example attempts to match 'chrX' or 'chrY' directly in gene names.\n",
    "            # If your gene names are just symbols (e.g., 'XIST', 'SRY'), this might not work\n",
    "            # and you'd need to provide a list of sex-linked genes.\n",
    "            is_sex_chrom_gene = np.array([\n",
    "                any(chrom_prefix in gene_name for chrom_prefix in current_sex_chroms)\n",
    "                for gene_name in adata_rna.var_names\n",
    "            ])\n",
    "            # Add common sex-linked genes manually if not covered by prefix (example for hg38)\n",
    "            if genome_assembly.lower() == \"hg38\":\n",
    "                common_human_sex_genes = ['XIST', 'TSIX', 'SRY', 'RPS4Y1', 'DDX3Y', 'KDM5C', 'EIF1AY']\n",
    "                is_sex_chrom_gene = is_sex_chrom_gene | adata_rna.var_names.isin(common_human_sex_genes)\n",
    "            elif genome_assembly.lower() == \"mm10\":\n",
    "                common_mouse_sex_genes = ['Xist', 'Tsix', 'Sry', 'Ddx3y', 'Kdm5c', 'Eif2s3y']\n",
    "                is_sex_chrom_gene = is_sex_chrom_gene | adata_rna.var_names.isin(common_mouse_sex_genes)\n",
    "            \n",
    "            if not is_sex_chrom_gene.any():\n",
    "                warnings.warn(\"   No 'chromosome' column found in adata.var, and no sex chromosome genes identified by name. Sex chromosome filtering might be ineffective.\")\n",
    "\n",
    "    non_sex_chrom_mask = ~is_sex_chrom_gene\n",
    "    adata_rna = adata_rna[:, non_sex_chrom_mask].copy() # Apply filter to var (columns)\n",
    "\n",
    "    print(f\"   Genes remaining after sex chromosome removal: {adata_rna.shape[1]}\\n\")\n",
    "\n",
    "    # --- 2. Remove cells expressing fewer than 'min_genes_per_cell' genes ---\n",
    "    print(f\"2. Removing cells expressing fewer than {min_genes_per_cell} genes...\")\n",
    "    \n",
    "    # Calculate number of genes expressed per cell for the *current* matrix\n",
    "    # (adata_rna.X > 0).sum(axis=1) counts non-zero entries per row (cells)\n",
    "    adata_rna.obs['n_genes_after_sex_chrom_filter'] = (adata_rna.X > 0).sum(axis=1).A1\n",
    "\n",
    "    cell_filter_mask = (adata_rna.obs['n_genes_after_sex_chrom_filter'] >= min_genes_per_cell)\n",
    "    \n",
    "    initial_cells = adata_rna.shape[0]\n",
    "    adata_rna = adata_rna[cell_filter_mask, :].copy()\n",
    "    print(f\"   Cells remaining after minimum gene expression filter: {adata_rna.shape[0]} (removed {initial_cells - adata_rna.shape[0]} cells)\\n\")\n",
    "\n",
    "    print(f\"Final AnnData shape (cells x genes): {adata_rna.shape}\")\n",
    "    print(f\"Final number of cells: {adata_rna.shape[0]}\")\n",
    "    print(f\"Final number of genes: {adata_rna.shape[1]}\\n\")\n",
    "\n",
    "    return adata_rna\n"
   ]
  },
  {
   "cell_type": "code",
   "execution_count": 12,
   "id": "ce9a91a7-76a1-48b0-ae4f-a5771e529611",
   "metadata": {},
   "outputs": [
    {
     "name": "stdout",
     "output_type": "stream",
     "text": [
      "Initial AnnData shape (cells x genes): (11909, 36601)\n",
      "Initial number of cells: 11909\n",
      "Initial number of genes: 36601\n",
      "\n",
      "1. Removing genes on sex chromosomes...\n",
      "   Genes remaining after sex chromosome removal: 36594\n",
      "\n",
      "2. Removing cells expressing fewer than 200 genes...\n",
      "   Cells remaining after minimum gene expression filter: 11852 (removed 57 cells)\n",
      "\n",
      "Final AnnData shape (cells x genes): (11852, 36594)\n",
      "Final number of cells: 11852\n",
      "Final number of genes: 36594\n",
      "\n"
     ]
    },
    {
     "name": "stderr",
     "output_type": "stream",
     "text": [
      "/sci/labs/yotamd/lab_share/avishai.wizel/python_envs/miniconda/envs/tf_gpu_env/lib/python3.9/site-packages/anndata/_core/anndata.py:1756: UserWarning: Variable names are not unique. To make them unique, call `.var_names_make_unique`.\n",
      "  utils.warn_names_duplicates(\"var\")\n",
      "/sci/labs/yotamd/lab_share/avishai.wizel/python_envs/miniconda/envs/tf_gpu_env/lib/python3.9/site-packages/anndata/_core/anndata.py:1756: UserWarning: Variable names are not unique. To make them unique, call `.var_names_make_unique`.\n",
      "  utils.warn_names_duplicates(\"var\")\n"
     ]
    }
   ],
   "source": [
    "filtered_rna_adata = filter_rna_anndata(\n",
    "    adata_rna=adata_rna,\n",
    "    genome_assembly=\"hg38\", \n",
    "    min_genes_per_cell=200\n",
    ")"
   ]
  },
  {
   "cell_type": "code",
   "execution_count": 13,
   "id": "1546e9e1-7288-4e8f-b69c-7a917b6299e1",
   "metadata": {},
   "outputs": [],
   "source": [
    "# filter atac cells based on filtered rna cells\n",
    "filtered_cell_barcodes = filtered_rna_adata.obs_names\n",
    "adata_atac_filtered = filtered_atac_adata[filtered_atac_adata.obs_names.isin(filtered_cell_barcodes), :].copy()\n",
    "adata_atac_filtered = adata_atac_filtered[filtered_cell_barcodes, :].copy()\n"
   ]
  },
  {
   "cell_type": "code",
   "execution_count": 14,
   "id": "b39c7c3c-47cf-466e-93d1-4d9eb9330d31",
   "metadata": {},
   "outputs": [],
   "source": [
    "# reorder like rna\n",
    "adata_atac_filtered = adata_atac_filtered[filtered_cell_barcodes, :].copy()"
   ]
  },
  {
   "cell_type": "code",
   "execution_count": 15,
   "id": "15f4fd57-6787-42db-a4fe-17474ccbd8b2",
   "metadata": {},
   "outputs": [
    {
     "data": {
      "text/plain": [
       "AnnData object with n_obs × n_vars = 11852 × 67207\n",
       "    var: 'feature_id', 'feature_type', 'genome'"
      ]
     },
     "execution_count": 15,
     "metadata": {},
     "output_type": "execute_result"
    }
   ],
   "source": [
    "adata_atac_filtered"
   ]
  },
  {
   "cell_type": "code",
   "execution_count": 16,
   "id": "8cc8abe1-f1a2-4852-8cd7-5a58a2892cb2",
   "metadata": {},
   "outputs": [],
   "source": [
    "adata_atac_filtered.write_h5ad(\"./10X_PBMC/03_filtered_data/filtered_atac_adata.h5ad\")"
   ]
  },
  {
   "cell_type": "code",
   "execution_count": 17,
   "id": "5eddac93-2045-453e-b76f-1d758dc11180",
   "metadata": {},
   "outputs": [],
   "source": [
    "filtered_rna_adata.write_h5ad(\"./10X_PBMC/03_filtered_data/filtered_rna_adata.h5ad\")"
   ]
  },
  {
   "cell_type": "code",
   "execution_count": null,
   "id": "e988d21f-491f-478e-82dd-9581a1f7d055",
   "metadata": {},
   "outputs": [],
   "source": []
  },
  {
   "cell_type": "code",
   "execution_count": null,
   "id": "c803e863-9f10-408e-9c13-226310d0841c",
   "metadata": {},
   "outputs": [],
   "source": []
  }
 ],
 "metadata": {
  "kernelspec": {
   "display_name": "Python 3 (ipykernel)",
   "language": "python",
   "name": "python3"
  },
  "language_info": {
   "codemirror_mode": {
    "name": "ipython",
    "version": 3
   },
   "file_extension": ".py",
   "mimetype": "text/x-python",
   "name": "python",
   "nbconvert_exporter": "python",
   "pygments_lexer": "ipython3",
   "version": "3.9.23"
  }
 },
 "nbformat": 4,
 "nbformat_minor": 5
}
