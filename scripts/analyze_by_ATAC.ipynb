{
 "cells": [
  {
   "cell_type": "code",
   "execution_count": 41,
   "id": "b267a324",
   "metadata": {
    "execution": {
     "iopub.execute_input": "2025-10-22T20:21:28.137586Z",
     "iopub.status.busy": "2025-10-22T20:21:28.134757Z",
     "iopub.status.idle": "2025-10-22T20:21:29.508548Z",
     "shell.execute_reply": "2025-10-22T20:21:29.506537Z"
    },
    "papermill": {
     "duration": 1.386386,
     "end_time": "2025-10-22T20:21:29.509867",
     "exception": false,
     "start_time": "2025-10-22T20:21:28.123481",
     "status": "completed"
    },
    "tags": [
     "parameters"
    ],
    "vscode": {
     "languageId": "r"
    }
   },
   "outputs": [],
   "source": [
    "rna_enhancers_counts_path = \"10X_PBMC/04_count/pbmc_granulocyte_sorted_10k_counts_per_cell.txt\"\n",
    "atac_counts_path = \"10X_PBMC/ATAC/01_count_fragments/pbmc_granulocyte_sorted_10k_enhancer_counts.mtx\"\n",
    "atac_barcodes_path = \"10X_PBMC/ATAC/01_count_fragments/pbmc_granulocyte_sorted_10k_barcodes.tsv\"\n",
    "atac_features_path = \"10X_PBMC/ATAC/01_count_fragments/pbmc_granulocyte_sorted_10k_features.tsv\""
   ]
  },
  {
   "cell_type": "markdown",
   "id": "e43c99f3",
   "metadata": {
    "papermill": {
     "duration": 0.005714,
     "end_time": "2025-10-22T20:21:29.573246",
     "exception": false,
     "start_time": "2025-10-22T20:21:29.567532",
     "status": "completed"
    },
    "tags": []
   },
   "source": [
    "# eRNA count matrix analysis"
   ]
  },
  {
   "cell_type": "code",
   "execution_count": 42,
   "id": "69163139",
   "metadata": {
    "execution": {
     "iopub.execute_input": "2025-10-22T20:21:29.589417Z",
     "iopub.status.busy": "2025-10-22T20:21:29.586403Z",
     "iopub.status.idle": "2025-10-22T20:21:29.811700Z",
     "shell.execute_reply": "2025-10-22T20:21:29.809894Z"
    },
    "papermill": {
     "duration": 0.234028,
     "end_time": "2025-10-22T20:21:29.812880",
     "exception": false,
     "start_time": "2025-10-22T20:21:29.578852",
     "status": "completed"
    },
    "tags": [],
    "vscode": {
     "languageId": "r"
    }
   },
   "outputs": [],
   "source": [
    "library(magrittr)\n",
    "library(dplyr)\n",
    "library(stringi)"
   ]
  },
  {
   "cell_type": "code",
   "execution_count": 43,
   "id": "72f9f79b",
   "metadata": {
    "execution": {
     "iopub.execute_input": "2025-10-22T20:21:29.830114Z",
     "iopub.status.busy": "2025-10-22T20:21:29.827637Z",
     "iopub.status.idle": "2025-10-22T20:21:30.059174Z",
     "shell.execute_reply": "2025-10-22T20:21:30.058016Z"
    },
    "papermill": {
     "duration": 0.241322,
     "end_time": "2025-10-22T20:21:30.060963",
     "exception": false,
     "start_time": "2025-10-22T20:21:29.819641",
     "status": "completed"
    },
    "tags": [],
    "vscode": {
     "languageId": "r"
    }
   },
   "outputs": [
    {
     "data": {
      "text/html": [
       "'/sci/labs/yotamd/lab_share/avishai.wizel/Projects/eRNA'"
      ],
      "text/latex": [
       "'/sci/labs/yotamd/lab\\_share/avishai.wizel/Projects/eRNA'"
      ],
      "text/markdown": [
       "'/sci/labs/yotamd/lab_share/avishai.wizel/Projects/eRNA'"
      ],
      "text/plain": [
       "[1] \"/sci/labs/yotamd/lab_share/avishai.wizel/Projects/eRNA\""
      ]
     },
     "metadata": {},
     "output_type": "display_data"
    }
   ],
   "source": [
    "setwd(here::here()) # set working directory to project root\n",
    "getwd()\n"
   ]
  },
  {
   "cell_type": "code",
   "execution_count": 44,
   "id": "c30f4b40",
   "metadata": {
    "execution": {
     "iopub.execute_input": "2025-10-22T20:21:30.082497Z",
     "iopub.status.busy": "2025-10-22T20:21:30.080066Z",
     "iopub.status.idle": "2025-10-22T20:21:30.092940Z",
     "shell.execute_reply": "2025-10-22T20:21:30.091543Z"
    },
    "papermill": {
     "duration": 0.026508,
     "end_time": "2025-10-22T20:21:30.094044",
     "exception": false,
     "start_time": "2025-10-22T20:21:30.067536",
     "status": "completed"
    },
    "tags": [],
    "vscode": {
     "languageId": "r"
    }
   },
   "outputs": [],
   "source": [
    "library(data.table)\n",
    "\n",
    "rna_enhancers <- data.table::fread(rna_enhancers_counts_path, header = TRUE, sep = \"\\t\", data.table = FALSE)\n"
   ]
  },
  {
   "cell_type": "code",
   "execution_count": 45,
   "id": "0fa1e0c8",
   "metadata": {
    "vscode": {
     "languageId": "r"
    }
   },
   "outputs": [
    {
     "data": {
      "text/html": [
       "<table class=\"dataframe\">\n",
       "<caption>A data.frame: 10 × 10</caption>\n",
       "<thead>\n",
       "\t<tr><th></th><th scope=col>AAACAGCCAAGGAATC</th><th scope=col>AAACAGCCAATCCCTT</th><th scope=col>AAACAGCCAATGCGCT</th><th scope=col>AAACAGCCACACTAAT</th><th scope=col>AAACAGCCACCAACCG</th><th scope=col>AAACAGCCAGGATAAC</th><th scope=col>AAACAGCCAGTAGGTG</th><th scope=col>AAACAGCCAGTTTACG</th><th scope=col>AAACAGCCATCCAGGT</th><th scope=col>AAACATGCAAGGTCCT</th></tr>\n",
       "\t<tr><th></th><th scope=col>&lt;int&gt;</th><th scope=col>&lt;int&gt;</th><th scope=col>&lt;int&gt;</th><th scope=col>&lt;int&gt;</th><th scope=col>&lt;int&gt;</th><th scope=col>&lt;int&gt;</th><th scope=col>&lt;int&gt;</th><th scope=col>&lt;int&gt;</th><th scope=col>&lt;int&gt;</th><th scope=col>&lt;int&gt;</th></tr>\n",
       "</thead>\n",
       "<tbody>\n",
       "\t<tr><th scope=row>ENSR10_739T55</th><td>0</td><td>0</td><td>0</td><td>0</td><td>0</td><td>0</td><td>0</td><td>0</td><td>0</td><td>0</td></tr>\n",
       "\t<tr><th scope=row>ENSR10_73C2H3</th><td>0</td><td>0</td><td>0</td><td>0</td><td>0</td><td>0</td><td>0</td><td>0</td><td>0</td><td>0</td></tr>\n",
       "\t<tr><th scope=row>ENSR10_73MXBJ</th><td>0</td><td>0</td><td>0</td><td>0</td><td>0</td><td>0</td><td>0</td><td>0</td><td>0</td><td>0</td></tr>\n",
       "\t<tr><th scope=row>ENSR10_73PWXH</th><td>0</td><td>0</td><td>0</td><td>0</td><td>0</td><td>0</td><td>0</td><td>0</td><td>0</td><td>0</td></tr>\n",
       "\t<tr><th scope=row>ENSR10_74JXL6</th><td>0</td><td>0</td><td>0</td><td>0</td><td>0</td><td>0</td><td>0</td><td>0</td><td>0</td><td>0</td></tr>\n",
       "\t<tr><th scope=row>ENSR10_74XTX8</th><td>0</td><td>0</td><td>0</td><td>0</td><td>0</td><td>0</td><td>0</td><td>0</td><td>0</td><td>0</td></tr>\n",
       "\t<tr><th scope=row>ENSR10_75K6Q4</th><td>0</td><td>0</td><td>0</td><td>0</td><td>0</td><td>0</td><td>0</td><td>0</td><td>0</td><td>0</td></tr>\n",
       "\t<tr><th scope=row>ENSR10_75KNGK</th><td>0</td><td>0</td><td>0</td><td>0</td><td>0</td><td>0</td><td>0</td><td>0</td><td>0</td><td>0</td></tr>\n",
       "\t<tr><th scope=row>ENSR10_75MJTZ</th><td>0</td><td>0</td><td>0</td><td>0</td><td>0</td><td>0</td><td>0</td><td>0</td><td>0</td><td>0</td></tr>\n",
       "\t<tr><th scope=row>ENSR10_7643LR</th><td>0</td><td>0</td><td>0</td><td>0</td><td>0</td><td>0</td><td>0</td><td>0</td><td>0</td><td>0</td></tr>\n",
       "</tbody>\n",
       "</table>\n"
      ],
      "text/latex": [
       "A data.frame: 10 × 10\n",
       "\\begin{tabular}{r|llllllllll}\n",
       "  & AAACAGCCAAGGAATC & AAACAGCCAATCCCTT & AAACAGCCAATGCGCT & AAACAGCCACACTAAT & AAACAGCCACCAACCG & AAACAGCCAGGATAAC & AAACAGCCAGTAGGTG & AAACAGCCAGTTTACG & AAACAGCCATCCAGGT & AAACATGCAAGGTCCT\\\\\n",
       "  & <int> & <int> & <int> & <int> & <int> & <int> & <int> & <int> & <int> & <int>\\\\\n",
       "\\hline\n",
       "\tENSR10\\_739T55 & 0 & 0 & 0 & 0 & 0 & 0 & 0 & 0 & 0 & 0\\\\\n",
       "\tENSR10\\_73C2H3 & 0 & 0 & 0 & 0 & 0 & 0 & 0 & 0 & 0 & 0\\\\\n",
       "\tENSR10\\_73MXBJ & 0 & 0 & 0 & 0 & 0 & 0 & 0 & 0 & 0 & 0\\\\\n",
       "\tENSR10\\_73PWXH & 0 & 0 & 0 & 0 & 0 & 0 & 0 & 0 & 0 & 0\\\\\n",
       "\tENSR10\\_74JXL6 & 0 & 0 & 0 & 0 & 0 & 0 & 0 & 0 & 0 & 0\\\\\n",
       "\tENSR10\\_74XTX8 & 0 & 0 & 0 & 0 & 0 & 0 & 0 & 0 & 0 & 0\\\\\n",
       "\tENSR10\\_75K6Q4 & 0 & 0 & 0 & 0 & 0 & 0 & 0 & 0 & 0 & 0\\\\\n",
       "\tENSR10\\_75KNGK & 0 & 0 & 0 & 0 & 0 & 0 & 0 & 0 & 0 & 0\\\\\n",
       "\tENSR10\\_75MJTZ & 0 & 0 & 0 & 0 & 0 & 0 & 0 & 0 & 0 & 0\\\\\n",
       "\tENSR10\\_7643LR & 0 & 0 & 0 & 0 & 0 & 0 & 0 & 0 & 0 & 0\\\\\n",
       "\\end{tabular}\n"
      ],
      "text/markdown": [
       "\n",
       "A data.frame: 10 × 10\n",
       "\n",
       "| <!--/--> | AAACAGCCAAGGAATC &lt;int&gt; | AAACAGCCAATCCCTT &lt;int&gt; | AAACAGCCAATGCGCT &lt;int&gt; | AAACAGCCACACTAAT &lt;int&gt; | AAACAGCCACCAACCG &lt;int&gt; | AAACAGCCAGGATAAC &lt;int&gt; | AAACAGCCAGTAGGTG &lt;int&gt; | AAACAGCCAGTTTACG &lt;int&gt; | AAACAGCCATCCAGGT &lt;int&gt; | AAACATGCAAGGTCCT &lt;int&gt; |\n",
       "|---|---|---|---|---|---|---|---|---|---|---|\n",
       "| ENSR10_739T55 | 0 | 0 | 0 | 0 | 0 | 0 | 0 | 0 | 0 | 0 |\n",
       "| ENSR10_73C2H3 | 0 | 0 | 0 | 0 | 0 | 0 | 0 | 0 | 0 | 0 |\n",
       "| ENSR10_73MXBJ | 0 | 0 | 0 | 0 | 0 | 0 | 0 | 0 | 0 | 0 |\n",
       "| ENSR10_73PWXH | 0 | 0 | 0 | 0 | 0 | 0 | 0 | 0 | 0 | 0 |\n",
       "| ENSR10_74JXL6 | 0 | 0 | 0 | 0 | 0 | 0 | 0 | 0 | 0 | 0 |\n",
       "| ENSR10_74XTX8 | 0 | 0 | 0 | 0 | 0 | 0 | 0 | 0 | 0 | 0 |\n",
       "| ENSR10_75K6Q4 | 0 | 0 | 0 | 0 | 0 | 0 | 0 | 0 | 0 | 0 |\n",
       "| ENSR10_75KNGK | 0 | 0 | 0 | 0 | 0 | 0 | 0 | 0 | 0 | 0 |\n",
       "| ENSR10_75MJTZ | 0 | 0 | 0 | 0 | 0 | 0 | 0 | 0 | 0 | 0 |\n",
       "| ENSR10_7643LR | 0 | 0 | 0 | 0 | 0 | 0 | 0 | 0 | 0 | 0 |\n",
       "\n"
      ],
      "text/plain": [
       "              AAACAGCCAAGGAATC AAACAGCCAATCCCTT AAACAGCCAATGCGCT\n",
       "ENSR10_739T55 0                0                0               \n",
       "ENSR10_73C2H3 0                0                0               \n",
       "ENSR10_73MXBJ 0                0                0               \n",
       "ENSR10_73PWXH 0                0                0               \n",
       "ENSR10_74JXL6 0                0                0               \n",
       "ENSR10_74XTX8 0                0                0               \n",
       "ENSR10_75K6Q4 0                0                0               \n",
       "ENSR10_75KNGK 0                0                0               \n",
       "ENSR10_75MJTZ 0                0                0               \n",
       "ENSR10_7643LR 0                0                0               \n",
       "              AAACAGCCACACTAAT AAACAGCCACCAACCG AAACAGCCAGGATAAC\n",
       "ENSR10_739T55 0                0                0               \n",
       "ENSR10_73C2H3 0                0                0               \n",
       "ENSR10_73MXBJ 0                0                0               \n",
       "ENSR10_73PWXH 0                0                0               \n",
       "ENSR10_74JXL6 0                0                0               \n",
       "ENSR10_74XTX8 0                0                0               \n",
       "ENSR10_75K6Q4 0                0                0               \n",
       "ENSR10_75KNGK 0                0                0               \n",
       "ENSR10_75MJTZ 0                0                0               \n",
       "ENSR10_7643LR 0                0                0               \n",
       "              AAACAGCCAGTAGGTG AAACAGCCAGTTTACG AAACAGCCATCCAGGT\n",
       "ENSR10_739T55 0                0                0               \n",
       "ENSR10_73C2H3 0                0                0               \n",
       "ENSR10_73MXBJ 0                0                0               \n",
       "ENSR10_73PWXH 0                0                0               \n",
       "ENSR10_74JXL6 0                0                0               \n",
       "ENSR10_74XTX8 0                0                0               \n",
       "ENSR10_75K6Q4 0                0                0               \n",
       "ENSR10_75KNGK 0                0                0               \n",
       "ENSR10_75MJTZ 0                0                0               \n",
       "ENSR10_7643LR 0                0                0               \n",
       "              AAACATGCAAGGTCCT\n",
       "ENSR10_739T55 0               \n",
       "ENSR10_73C2H3 0               \n",
       "ENSR10_73MXBJ 0               \n",
       "ENSR10_73PWXH 0               \n",
       "ENSR10_74JXL6 0               \n",
       "ENSR10_74XTX8 0               \n",
       "ENSR10_75K6Q4 0               \n",
       "ENSR10_75KNGK 0               \n",
       "ENSR10_75MJTZ 0               \n",
       "ENSR10_7643LR 0               "
      ]
     },
     "metadata": {},
     "output_type": "display_data"
    },
    {
     "data": {
      "text/html": [
       "<style>\n",
       ".list-inline {list-style: none; margin:0; padding: 0}\n",
       ".list-inline>li {display: inline-block}\n",
       ".list-inline>li:not(:last-child)::after {content: \"\\00b7\"; padding: 0 .5ex}\n",
       "</style>\n",
       "<ol class=list-inline><li>81246</li><li>11907</li></ol>\n"
      ],
      "text/latex": [
       "\\begin{enumerate*}\n",
       "\\item 81246\n",
       "\\item 11907\n",
       "\\end{enumerate*}\n"
      ],
      "text/markdown": [
       "1. 81246\n",
       "2. 11907\n",
       "\n",
       "\n"
      ],
      "text/plain": [
       "[1] 81246 11907"
      ]
     },
     "metadata": {},
     "output_type": "display_data"
    }
   ],
   "source": [
    "rownames(rna_enhancers) <- rna_enhancers$gene\n",
    "rna_enhancers$gene <- NULL\n",
    "rna_enhancers[1:10, 1:10]\n",
    "dim(rna_enhancers)"
   ]
  },
  {
   "cell_type": "code",
   "execution_count": 46,
   "id": "611f8e07",
   "metadata": {
    "vscode": {
     "languageId": "r"
    }
   },
   "outputs": [
    {
     "data": {
      "text/html": [
       "'unexpressed cells: 0 out of 11907'"
      ],
      "text/latex": [
       "'unexpressed cells: 0 out of 11907'"
      ],
      "text/markdown": [
       "'unexpressed cells: 0 out of 11907'"
      ],
      "text/plain": [
       "[1] \"unexpressed cells: 0 out of 11907\""
      ]
     },
     "metadata": {},
     "output_type": "display_data"
    },
    {
     "data": {
      "text/html": [
       "'unexpressed eRNA: 0 out of 81246'"
      ],
      "text/latex": [
       "'unexpressed eRNA: 0 out of 81246'"
      ],
      "text/markdown": [
       "'unexpressed eRNA: 0 out of 81246'"
      ],
      "text/plain": [
       "[1] \"unexpressed eRNA: 0 out of 81246\""
      ]
     },
     "metadata": {},
     "output_type": "display_data"
    }
   ],
   "source": [
    "# unexpressed cells count\n",
    "unexpr_cells = colSums(rna_enhancers==0)\n",
    "paste0(\"unexpressed cells: \", sum(unexpr_cells==nrow(rna_enhancers)),\" out of \", ncol(rna_enhancers))\n",
    "# unexpressed rows count\n",
    "unexpr_rows = rowSums(rna_enhancers==0)\n",
    "paste0(\"unexpressed eRNA: \", sum(unexpr_rows==ncol(rna_enhancers)),\" out of \", nrow(rna_enhancers))\n",
    "\n"
   ]
  },
  {
   "cell_type": "code",
   "execution_count": null,
   "id": "cbcb9167",
   "metadata": {
    "vscode": {
     "languageId": "r"
    }
   },
   "outputs": [
    {
     "name": "stdout",
     "output_type": "stream",
     "text": [
      "[1] \" precent of zeros: 0.997858002577356\"\n",
      "[1] \"number of cells with more than 0 counts: 11907\"\n",
      "[1] \"number of eRNAs with more than 0 counts: 81246\"\n"
     ]
    }
   ],
   "source": [
    "# precent of zeros in the matrix\n",
    "print(paste0(\" precent of zeros: \",sum(rna_enhancers == 0) / (nrow(rna_enhancers) * ncol(rna_enhancers))))\n",
    "\n"
   ]
  },
  {
   "cell_type": "code",
   "execution_count": null,
   "id": "340ed54c",
   "metadata": {
    "vscode": {
     "languageId": "r"
    }
   },
   "outputs": [
    {
     "data": {
      "text/html": [
       "<style>\n",
       ".dl-inline {width: auto; margin:0; padding: 0}\n",
       ".dl-inline>dt, .dl-inline>dd {float: none; width: auto; display: inline-block}\n",
       ".dl-inline>dt::after {content: \":\\0020\"; padding-right: .5ex}\n",
       ".dl-inline>dt:not(:first-of-type) {padding-left: .5ex}\n",
       "</style><dl class=dl-inline><dt>AAACAGCCAAGGAATC</dt><dd>419</dd><dt>AAACAGCCAATCCCTT</dt><dd>207</dd><dt>AAACAGCCAATGCGCT</dt><dd>306</dd><dt>AAACAGCCACACTAAT</dt><dd>61</dd><dt>AAACAGCCACCAACCG</dt><dd>236</dd><dt>AAACAGCCAGGATAAC</dt><dd>123</dd><dt>AAACAGCCAGTAGGTG</dt><dd>647</dd><dt>AAACAGCCAGTTTACG</dt><dd>141</dd><dt>AAACAGCCATCCAGGT</dt><dd>337</dd><dt>AAACATGCAAGGTCCT</dt><dd>130</dd><dt>AAACATGCACCGGCTA</dt><dd>252</dd><dt>AAACATGCACTTGTTC</dt><dd>120</dd><dt>AAACATGCAGCAAGTG</dt><dd>85</dd><dt>AAACATGCAGGGAGCT</dt><dd>148</dd><dt>AAACCAACACAATGCC</dt><dd>523</dd><dt>AAACCAACACTAAGAA</dt><dd>571</dd><dt>AAACCAACAGGAACTG</dt><dd>368</dd><dt>AAACCAACAGGATGGC</dt><dd>136</dd><dt>AAACCAACATAATCCG</dt><dd>494</dd><dt>AAACCAACATTGTGCA</dt><dd>392</dd><dt>AAACCGAAGCTGGACC</dt><dd>326</dd><dt>AAACCGAAGTGAGCAA</dt><dd>85</dd><dt>AAACCGAAGTTGCGTG</dt><dd>84</dd><dt>AAACCGCGTACTTCAC</dt><dd>791</dd><dt>AAACCGCGTATGGTGC</dt><dd>111</dd><dt>AAACCGCGTCTAACCT</dt><dd>324</dd><dt>AAACCGGCACATTAAC</dt><dd>404</dd><dt>AAACCGGCATAATCAC</dt><dd>395</dd><dt>AAACCGGCATTAGCCA</dt><dd>208</dd><dt>AAACGCGCACCTACTT</dt><dd>102</dd><dt>AAACGCGCAGCAAGAT</dt><dd>467</dd><dt>AAACGGATCATGGCTG</dt><dd>189</dd><dt>AAACGGATCATTCATC</dt><dd>148</dd><dt>AAACGGATCCACCCTG</dt><dd>127</dd><dt>AAACGGATCCCATAGG</dt><dd>197</dd><dt>AAACGGATCGGTAACT</dt><dd>50</dd><dt>AAACGGATCGTTTCTG</dt><dd>90</dd><dt>AAACGTACAAGTGTTT</dt><dd>116</dd><dt>AAACGTACACAACAGG</dt><dd>99</dd><dt>AAACGTACACAAGCCT</dt><dd>136</dd><dt>AAACGTACAGCTAATT</dt><dd>120</dd><dt>AAACGTACAGGGAGGA</dt><dd>129</dd><dt>AAAGCAAGTCCTTTAA</dt><dd>389</dd><dt>AAAGCAAGTGCTAGCG</dt><dd>79</dd><dt>AAAGCAAGTGTAATAC</dt><dd>131</dd><dt>AAAGCAAGTTAACGGC</dt><dd>224</dd><dt>AAAGCACCAAATGCCC</dt><dd>287</dd><dt>AAAGCACCACAATTAC</dt><dd>770</dd><dt>AAAGCACCAGCCTTGG</dt><dd>190</dd><dt>AAAGCACCATGGCCCA</dt><dd>209</dd><dt>AAAGCACCATTGTGGC</dt><dd>365</dd><dt>AAAGCCCGTATTGAGT</dt><dd>157</dd><dt>AAAGCCCGTCACAGAC</dt><dd>585</dd><dt>AAAGCCCGTCCTTTAA</dt><dd>354</dd><dt>AAAGCCCGTGAGAAAC</dt><dd>99</dd><dt>AAAGCCCGTGCTAGAC</dt><dd>305</dd><dt>AAAGCCCGTGGAAGGC</dt><dd>131</dd><dt>AAAGCCCGTGTTGCTT</dt><dd>90</dd><dt>AAAGCCCGTTATCCTA</dt><dd>386</dd><dt>AAAGCCCGTTGGTTGA</dt><dd>185</dd><dt>AAAGCCGCACATAACT</dt><dd>604</dd><dt>AAAGCCGCACTGACTA</dt><dd>112</dd><dt>AAAGCCGCACTGGCTG</dt><dd>153</dd><dt>AAAGCCGCAGGAACTG</dt><dd>311</dd><dt>AAAGCCGCAGTTAAAG</dt><dd>289</dd><dt>AAAGCCGCATAGACTT</dt><dd>89</dd><dt>AAAGCCGCATAGCTTG</dt><dd>92</dd><dt>AAAGCCGCATGCAACC</dt><dd>192</dd><dt>AAAGCCGCATTAAGCT</dt><dd>399</dd><dt>AAAGCCGCATTGTTGG</dt><dd>142</dd><dt>AAAGCGGGTAAGGTCC</dt><dd>398</dd><dt>AAAGCGGGTAGCCTCC</dt><dd>135</dd><dt>AAAGCGGGTCATCCTG</dt><dd>217</dd><dt>AAAGCGGGTGATCAGC</dt><dd>71</dd><dt>AAAGCGGGTTAACACG</dt><dd>121</dd><dt>AAAGCGGGTTCCGGGA</dt><dd>237</dd><dt>AAAGCGGGTTGAATCG</dt><dd>106</dd><dt>AAAGCGGGTTGCACAA</dt><dd>146</dd><dt>AAAGCGGGTTTACCGT</dt><dd>154</dd><dt>AAAGCTTGTCAATACG</dt><dd>149</dd><dt>AAAGCTTGTCGACTAA</dt><dd>162</dd><dt>AAAGCTTGTTAGAGGG</dt><dd>90</dd><dt>AAAGGACGTCAATAGT</dt><dd>352</dd><dt>AAAGGACGTCCTTCTC</dt><dd>225</dd><dt>AAAGGACGTTGGATCA</dt><dd>103</dd><dt>AAAGGAGCACAGAAAC</dt><dd>212</dd><dt>AAAGGAGCACCTGTAA</dt><dd>104</dd><dt>AAAGGAGCAGGTTAAA</dt><dd>122</dd><dt>AAAGGAGCATTAAGTC</dt><dd>56</dd><dt>AAAGGAGCATTGTCCT</dt><dd>136</dd><dt>AAAGGAGCATTGTGAT</dt><dd>292</dd><dt>AAAGGCTCAATCCTAG</dt><dd>235</dd><dt>AAAGGCTCAATGCCCG</dt><dd>126</dd><dt>AAAGGCTCACAACAAA</dt><dd>141</dd><dt>AAAGGCTCACAGCCAT</dt><dd>294</dd><dt>AAAGGCTCACCTACGG</dt><dd>338</dd><dt>AAAGGCTCACTAGGTC</dt><dd>342</dd><dt>AAAGGCTCACTTCACT</dt><dd>347</dd><dt>AAAGGCTCAGGACACA</dt><dd>120</dd><dt>AAAGGCTCAGGATAAC</dt><dd>271</dd></dl>\n"
      ],
      "text/latex": [
       "\\begin{description*}\n",
       "\\item[AAACAGCCAAGGAATC] 419\n",
       "\\item[AAACAGCCAATCCCTT] 207\n",
       "\\item[AAACAGCCAATGCGCT] 306\n",
       "\\item[AAACAGCCACACTAAT] 61\n",
       "\\item[AAACAGCCACCAACCG] 236\n",
       "\\item[AAACAGCCAGGATAAC] 123\n",
       "\\item[AAACAGCCAGTAGGTG] 647\n",
       "\\item[AAACAGCCAGTTTACG] 141\n",
       "\\item[AAACAGCCATCCAGGT] 337\n",
       "\\item[AAACATGCAAGGTCCT] 130\n",
       "\\item[AAACATGCACCGGCTA] 252\n",
       "\\item[AAACATGCACTTGTTC] 120\n",
       "\\item[AAACATGCAGCAAGTG] 85\n",
       "\\item[AAACATGCAGGGAGCT] 148\n",
       "\\item[AAACCAACACAATGCC] 523\n",
       "\\item[AAACCAACACTAAGAA] 571\n",
       "\\item[AAACCAACAGGAACTG] 368\n",
       "\\item[AAACCAACAGGATGGC] 136\n",
       "\\item[AAACCAACATAATCCG] 494\n",
       "\\item[AAACCAACATTGTGCA] 392\n",
       "\\item[AAACCGAAGCTGGACC] 326\n",
       "\\item[AAACCGAAGTGAGCAA] 85\n",
       "\\item[AAACCGAAGTTGCGTG] 84\n",
       "\\item[AAACCGCGTACTTCAC] 791\n",
       "\\item[AAACCGCGTATGGTGC] 111\n",
       "\\item[AAACCGCGTCTAACCT] 324\n",
       "\\item[AAACCGGCACATTAAC] 404\n",
       "\\item[AAACCGGCATAATCAC] 395\n",
       "\\item[AAACCGGCATTAGCCA] 208\n",
       "\\item[AAACGCGCACCTACTT] 102\n",
       "\\item[AAACGCGCAGCAAGAT] 467\n",
       "\\item[AAACGGATCATGGCTG] 189\n",
       "\\item[AAACGGATCATTCATC] 148\n",
       "\\item[AAACGGATCCACCCTG] 127\n",
       "\\item[AAACGGATCCCATAGG] 197\n",
       "\\item[AAACGGATCGGTAACT] 50\n",
       "\\item[AAACGGATCGTTTCTG] 90\n",
       "\\item[AAACGTACAAGTGTTT] 116\n",
       "\\item[AAACGTACACAACAGG] 99\n",
       "\\item[AAACGTACACAAGCCT] 136\n",
       "\\item[AAACGTACAGCTAATT] 120\n",
       "\\item[AAACGTACAGGGAGGA] 129\n",
       "\\item[AAAGCAAGTCCTTTAA] 389\n",
       "\\item[AAAGCAAGTGCTAGCG] 79\n",
       "\\item[AAAGCAAGTGTAATAC] 131\n",
       "\\item[AAAGCAAGTTAACGGC] 224\n",
       "\\item[AAAGCACCAAATGCCC] 287\n",
       "\\item[AAAGCACCACAATTAC] 770\n",
       "\\item[AAAGCACCAGCCTTGG] 190\n",
       "\\item[AAAGCACCATGGCCCA] 209\n",
       "\\item[AAAGCACCATTGTGGC] 365\n",
       "\\item[AAAGCCCGTATTGAGT] 157\n",
       "\\item[AAAGCCCGTCACAGAC] 585\n",
       "\\item[AAAGCCCGTCCTTTAA] 354\n",
       "\\item[AAAGCCCGTGAGAAAC] 99\n",
       "\\item[AAAGCCCGTGCTAGAC] 305\n",
       "\\item[AAAGCCCGTGGAAGGC] 131\n",
       "\\item[AAAGCCCGTGTTGCTT] 90\n",
       "\\item[AAAGCCCGTTATCCTA] 386\n",
       "\\item[AAAGCCCGTTGGTTGA] 185\n",
       "\\item[AAAGCCGCACATAACT] 604\n",
       "\\item[AAAGCCGCACTGACTA] 112\n",
       "\\item[AAAGCCGCACTGGCTG] 153\n",
       "\\item[AAAGCCGCAGGAACTG] 311\n",
       "\\item[AAAGCCGCAGTTAAAG] 289\n",
       "\\item[AAAGCCGCATAGACTT] 89\n",
       "\\item[AAAGCCGCATAGCTTG] 92\n",
       "\\item[AAAGCCGCATGCAACC] 192\n",
       "\\item[AAAGCCGCATTAAGCT] 399\n",
       "\\item[AAAGCCGCATTGTTGG] 142\n",
       "\\item[AAAGCGGGTAAGGTCC] 398\n",
       "\\item[AAAGCGGGTAGCCTCC] 135\n",
       "\\item[AAAGCGGGTCATCCTG] 217\n",
       "\\item[AAAGCGGGTGATCAGC] 71\n",
       "\\item[AAAGCGGGTTAACACG] 121\n",
       "\\item[AAAGCGGGTTCCGGGA] 237\n",
       "\\item[AAAGCGGGTTGAATCG] 106\n",
       "\\item[AAAGCGGGTTGCACAA] 146\n",
       "\\item[AAAGCGGGTTTACCGT] 154\n",
       "\\item[AAAGCTTGTCAATACG] 149\n",
       "\\item[AAAGCTTGTCGACTAA] 162\n",
       "\\item[AAAGCTTGTTAGAGGG] 90\n",
       "\\item[AAAGGACGTCAATAGT] 352\n",
       "\\item[AAAGGACGTCCTTCTC] 225\n",
       "\\item[AAAGGACGTTGGATCA] 103\n",
       "\\item[AAAGGAGCACAGAAAC] 212\n",
       "\\item[AAAGGAGCACCTGTAA] 104\n",
       "\\item[AAAGGAGCAGGTTAAA] 122\n",
       "\\item[AAAGGAGCATTAAGTC] 56\n",
       "\\item[AAAGGAGCATTGTCCT] 136\n",
       "\\item[AAAGGAGCATTGTGAT] 292\n",
       "\\item[AAAGGCTCAATCCTAG] 235\n",
       "\\item[AAAGGCTCAATGCCCG] 126\n",
       "\\item[AAAGGCTCACAACAAA] 141\n",
       "\\item[AAAGGCTCACAGCCAT] 294\n",
       "\\item[AAAGGCTCACCTACGG] 338\n",
       "\\item[AAAGGCTCACTAGGTC] 342\n",
       "\\item[AAAGGCTCACTTCACT] 347\n",
       "\\item[AAAGGCTCAGGACACA] 120\n",
       "\\item[AAAGGCTCAGGATAAC] 271\n",
       "\\end{description*}\n"
      ],
      "text/markdown": [
       "AAACAGCCAAGGAATC\n",
       ":   419AAACAGCCAATCCCTT\n",
       ":   207AAACAGCCAATGCGCT\n",
       ":   306AAACAGCCACACTAAT\n",
       ":   61AAACAGCCACCAACCG\n",
       ":   236AAACAGCCAGGATAAC\n",
       ":   123AAACAGCCAGTAGGTG\n",
       ":   647AAACAGCCAGTTTACG\n",
       ":   141AAACAGCCATCCAGGT\n",
       ":   337AAACATGCAAGGTCCT\n",
       ":   130AAACATGCACCGGCTA\n",
       ":   252AAACATGCACTTGTTC\n",
       ":   120AAACATGCAGCAAGTG\n",
       ":   85AAACATGCAGGGAGCT\n",
       ":   148AAACCAACACAATGCC\n",
       ":   523AAACCAACACTAAGAA\n",
       ":   571AAACCAACAGGAACTG\n",
       ":   368AAACCAACAGGATGGC\n",
       ":   136AAACCAACATAATCCG\n",
       ":   494AAACCAACATTGTGCA\n",
       ":   392AAACCGAAGCTGGACC\n",
       ":   326AAACCGAAGTGAGCAA\n",
       ":   85AAACCGAAGTTGCGTG\n",
       ":   84AAACCGCGTACTTCAC\n",
       ":   791AAACCGCGTATGGTGC\n",
       ":   111AAACCGCGTCTAACCT\n",
       ":   324AAACCGGCACATTAAC\n",
       ":   404AAACCGGCATAATCAC\n",
       ":   395AAACCGGCATTAGCCA\n",
       ":   208AAACGCGCACCTACTT\n",
       ":   102AAACGCGCAGCAAGAT\n",
       ":   467AAACGGATCATGGCTG\n",
       ":   189AAACGGATCATTCATC\n",
       ":   148AAACGGATCCACCCTG\n",
       ":   127AAACGGATCCCATAGG\n",
       ":   197AAACGGATCGGTAACT\n",
       ":   50AAACGGATCGTTTCTG\n",
       ":   90AAACGTACAAGTGTTT\n",
       ":   116AAACGTACACAACAGG\n",
       ":   99AAACGTACACAAGCCT\n",
       ":   136AAACGTACAGCTAATT\n",
       ":   120AAACGTACAGGGAGGA\n",
       ":   129AAAGCAAGTCCTTTAA\n",
       ":   389AAAGCAAGTGCTAGCG\n",
       ":   79AAAGCAAGTGTAATAC\n",
       ":   131AAAGCAAGTTAACGGC\n",
       ":   224AAAGCACCAAATGCCC\n",
       ":   287AAAGCACCACAATTAC\n",
       ":   770AAAGCACCAGCCTTGG\n",
       ":   190AAAGCACCATGGCCCA\n",
       ":   209AAAGCACCATTGTGGC\n",
       ":   365AAAGCCCGTATTGAGT\n",
       ":   157AAAGCCCGTCACAGAC\n",
       ":   585AAAGCCCGTCCTTTAA\n",
       ":   354AAAGCCCGTGAGAAAC\n",
       ":   99AAAGCCCGTGCTAGAC\n",
       ":   305AAAGCCCGTGGAAGGC\n",
       ":   131AAAGCCCGTGTTGCTT\n",
       ":   90AAAGCCCGTTATCCTA\n",
       ":   386AAAGCCCGTTGGTTGA\n",
       ":   185AAAGCCGCACATAACT\n",
       ":   604AAAGCCGCACTGACTA\n",
       ":   112AAAGCCGCACTGGCTG\n",
       ":   153AAAGCCGCAGGAACTG\n",
       ":   311AAAGCCGCAGTTAAAG\n",
       ":   289AAAGCCGCATAGACTT\n",
       ":   89AAAGCCGCATAGCTTG\n",
       ":   92AAAGCCGCATGCAACC\n",
       ":   192AAAGCCGCATTAAGCT\n",
       ":   399AAAGCCGCATTGTTGG\n",
       ":   142AAAGCGGGTAAGGTCC\n",
       ":   398AAAGCGGGTAGCCTCC\n",
       ":   135AAAGCGGGTCATCCTG\n",
       ":   217AAAGCGGGTGATCAGC\n",
       ":   71AAAGCGGGTTAACACG\n",
       ":   121AAAGCGGGTTCCGGGA\n",
       ":   237AAAGCGGGTTGAATCG\n",
       ":   106AAAGCGGGTTGCACAA\n",
       ":   146AAAGCGGGTTTACCGT\n",
       ":   154AAAGCTTGTCAATACG\n",
       ":   149AAAGCTTGTCGACTAA\n",
       ":   162AAAGCTTGTTAGAGGG\n",
       ":   90AAAGGACGTCAATAGT\n",
       ":   352AAAGGACGTCCTTCTC\n",
       ":   225AAAGGACGTTGGATCA\n",
       ":   103AAAGGAGCACAGAAAC\n",
       ":   212AAAGGAGCACCTGTAA\n",
       ":   104AAAGGAGCAGGTTAAA\n",
       ":   122AAAGGAGCATTAAGTC\n",
       ":   56AAAGGAGCATTGTCCT\n",
       ":   136AAAGGAGCATTGTGAT\n",
       ":   292AAAGGCTCAATCCTAG\n",
       ":   235AAAGGCTCAATGCCCG\n",
       ":   126AAAGGCTCACAACAAA\n",
       ":   141AAAGGCTCACAGCCAT\n",
       ":   294AAAGGCTCACCTACGG\n",
       ":   338AAAGGCTCACTAGGTC\n",
       ":   342AAAGGCTCACTTCACT\n",
       ":   347AAAGGCTCAGGACACA\n",
       ":   120AAAGGCTCAGGATAAC\n",
       ":   271\n",
       "\n"
      ],
      "text/plain": [
       "AAACAGCCAAGGAATC AAACAGCCAATCCCTT AAACAGCCAATGCGCT AAACAGCCACACTAAT \n",
       "             419              207              306               61 \n",
       "AAACAGCCACCAACCG AAACAGCCAGGATAAC AAACAGCCAGTAGGTG AAACAGCCAGTTTACG \n",
       "             236              123              647              141 \n",
       "AAACAGCCATCCAGGT AAACATGCAAGGTCCT AAACATGCACCGGCTA AAACATGCACTTGTTC \n",
       "             337              130              252              120 \n",
       "AAACATGCAGCAAGTG AAACATGCAGGGAGCT AAACCAACACAATGCC AAACCAACACTAAGAA \n",
       "              85              148              523              571 \n",
       "AAACCAACAGGAACTG AAACCAACAGGATGGC AAACCAACATAATCCG AAACCAACATTGTGCA \n",
       "             368              136              494              392 \n",
       "AAACCGAAGCTGGACC AAACCGAAGTGAGCAA AAACCGAAGTTGCGTG AAACCGCGTACTTCAC \n",
       "             326               85               84              791 \n",
       "AAACCGCGTATGGTGC AAACCGCGTCTAACCT AAACCGGCACATTAAC AAACCGGCATAATCAC \n",
       "             111              324              404              395 \n",
       "AAACCGGCATTAGCCA AAACGCGCACCTACTT AAACGCGCAGCAAGAT AAACGGATCATGGCTG \n",
       "             208              102              467              189 \n",
       "AAACGGATCATTCATC AAACGGATCCACCCTG AAACGGATCCCATAGG AAACGGATCGGTAACT \n",
       "             148              127              197               50 \n",
       "AAACGGATCGTTTCTG AAACGTACAAGTGTTT AAACGTACACAACAGG AAACGTACACAAGCCT \n",
       "              90              116               99              136 \n",
       "AAACGTACAGCTAATT AAACGTACAGGGAGGA AAAGCAAGTCCTTTAA AAAGCAAGTGCTAGCG \n",
       "             120              129              389               79 \n",
       "AAAGCAAGTGTAATAC AAAGCAAGTTAACGGC AAAGCACCAAATGCCC AAAGCACCACAATTAC \n",
       "             131              224              287              770 \n",
       "AAAGCACCAGCCTTGG AAAGCACCATGGCCCA AAAGCACCATTGTGGC AAAGCCCGTATTGAGT \n",
       "             190              209              365              157 \n",
       "AAAGCCCGTCACAGAC AAAGCCCGTCCTTTAA AAAGCCCGTGAGAAAC AAAGCCCGTGCTAGAC \n",
       "             585              354               99              305 \n",
       "AAAGCCCGTGGAAGGC AAAGCCCGTGTTGCTT AAAGCCCGTTATCCTA AAAGCCCGTTGGTTGA \n",
       "             131               90              386              185 \n",
       "AAAGCCGCACATAACT AAAGCCGCACTGACTA AAAGCCGCACTGGCTG AAAGCCGCAGGAACTG \n",
       "             604              112              153              311 \n",
       "AAAGCCGCAGTTAAAG AAAGCCGCATAGACTT AAAGCCGCATAGCTTG AAAGCCGCATGCAACC \n",
       "             289               89               92              192 \n",
       "AAAGCCGCATTAAGCT AAAGCCGCATTGTTGG AAAGCGGGTAAGGTCC AAAGCGGGTAGCCTCC \n",
       "             399              142              398              135 \n",
       "AAAGCGGGTCATCCTG AAAGCGGGTGATCAGC AAAGCGGGTTAACACG AAAGCGGGTTCCGGGA \n",
       "             217               71              121              237 \n",
       "AAAGCGGGTTGAATCG AAAGCGGGTTGCACAA AAAGCGGGTTTACCGT AAAGCTTGTCAATACG \n",
       "             106              146              154              149 \n",
       "AAAGCTTGTCGACTAA AAAGCTTGTTAGAGGG AAAGGACGTCAATAGT AAAGGACGTCCTTCTC \n",
       "             162               90              352              225 \n",
       "AAAGGACGTTGGATCA AAAGGAGCACAGAAAC AAAGGAGCACCTGTAA AAAGGAGCAGGTTAAA \n",
       "             103              212              104              122 \n",
       "AAAGGAGCATTAAGTC AAAGGAGCATTGTCCT AAAGGAGCATTGTGAT AAAGGCTCAATCCTAG \n",
       "              56              136              292              235 \n",
       "AAAGGCTCAATGCCCG AAAGGCTCACAACAAA AAAGGCTCACAGCCAT AAAGGCTCACCTACGG \n",
       "             126              141              294              338 \n",
       "AAAGGCTCACTAGGTC AAAGGCTCACTTCACT AAAGGCTCAGGACACA AAAGGCTCAGGATAAC \n",
       "             342              347              120              271 "
      ]
     },
     "metadata": {},
     "output_type": "display_data"
    }
   ],
   "source": [
    "# show first 100 sums of cells\n",
    "colSums(rna_enhancers) %>% head(10)"
   ]
  },
  {
   "cell_type": "code",
   "execution_count": 49,
   "id": "5e53c6da",
   "metadata": {
    "vscode": {
     "languageId": "r"
    }
   },
   "outputs": [
    {
     "data": {
      "image/png": "[encoded data removed]",
      "text/plain": [
       "plot without title"
      ]
     },
     "metadata": {
      "image/png": {
       "height": 420,
       "width": 420
      }
     },
     "output_type": "display_data"
    },
    {
     "data": {
      "image/png": "[encoded data removed]",
      "text/plain": [
       "plot without title"
      ]
     },
     "metadata": {
      "image/png": {
       "height": 420,
       "width": 420
      }
     },
     "output_type": "display_data"
    }
   ],
   "source": [
    "# violin plot of column sums with jittered points\n",
    "data_cols = data.frame(sum = colSums(rna_enhancers))\n",
    "library(ggplot2)\n",
    "p = ggplot(data_cols, aes(x = \"\", y = sum)) +\n",
    "  geom_violin(fill = \"lightblue\") +\n",
    "  geom_boxplot(width = 0.1, fill = \"lightgreen\") +\n",
    "  geom_jitter(width = 0.1, alpha = 0.5, color = \"blue\",height = 0) +\n",
    "  labs(title = \"Violin plot of cells sums\", x = \"\", y = \"Column sums\") +\n",
    "  theme_minimal()\n",
    "\n",
    "print(p)\n",
    "# violin plot of row sums\n",
    "data_rows = data.frame(sum = rowSums(rna_enhancers))\n",
    "p = ggplot(data_rows, aes(x = \"\", y = sum)) +\n",
    "  geom_violin(fill = \"lightblue\") +\n",
    "  geom_boxplot(width = 0.1, fill = \"lightgreen\") +\n",
    "  geom_jitter(width = 0.1, alpha = 0.5, color = \"blue\",height = 0) +\n",
    "  labs(title = \"Violin plot of enhancers sums\", x = \"\", y = \"Row sums\") +\n",
    "  theme_minimal()\n",
    "p\n"
   ]
  },
  {
   "cell_type": "code",
   "execution_count": 50,
   "id": "8f1b2f83",
   "metadata": {
    "vscode": {
     "languageId": "r"
    }
   },
   "outputs": [
    {
     "name": "stderr",
     "output_type": "stream",
     "text": [
      "Warning message in asMethod(object):\n",
      "“sparse->dense coercion: allocating vector of size 15.7 GiB”\n"
     ]
    }
   ],
   "source": [
    "atac_counts <- Matrix::readMM(atac_counts_path) %>% as.matrix()\n"
   ]
  },
  {
   "cell_type": "code",
   "execution_count": 51,
   "id": "ee5baa85",
   "metadata": {
    "vscode": {
     "languageId": "r"
    }
   },
   "outputs": [
    {
     "data": {
      "text/html": [
       "<table class=\"dataframe\">\n",
       "<caption>A matrix: 10 × 10 of type dbl</caption>\n",
       "<thead>\n",
       "\t<tr><th></th><th scope=col>CGTTAAATCCACCCTG</th><th scope=col>TTGCGTCTCGCCTAAG</th><th scope=col>TAGTAAGCAAGGTAAC</th><th scope=col>TATGGGCGTTATAGCG</th><th scope=col>GCCAATTAGGCGGGTA</th><th scope=col>TTTGACCGTCGTTACT</th><th scope=col>CGCCTGTGTGCACGCA</th><th scope=col>CTGGTTACATGTTTGG</th><th scope=col>CAAGTTATCCGCACAA</th><th scope=col>GCATTGCCATCACAGC</th></tr>\n",
       "</thead>\n",
       "<tbody>\n",
       "\t<tr><th scope=row>ENSR1_986</th><td>0</td><td>0</td><td>0</td><td>0</td><td>0</td><td>0</td><td>0</td><td>0</td><td>0</td><td>0</td></tr>\n",
       "\t<tr><th scope=row>ENSR1_B5Q</th><td>0</td><td>0</td><td>0</td><td>0</td><td>0</td><td>0</td><td>0</td><td>0</td><td>0</td><td>0</td></tr>\n",
       "\t<tr><th scope=row>ENSR1_B6N</th><td>0</td><td>0</td><td>0</td><td>0</td><td>0</td><td>0</td><td>0</td><td>0</td><td>0</td><td>0</td></tr>\n",
       "\t<tr><th scope=row>ENSR1_9F7</th><td>0</td><td>0</td><td>0</td><td>0</td><td>0</td><td>0</td><td>0</td><td>0</td><td>0</td><td>0</td></tr>\n",
       "\t<tr><th scope=row>ENSR1_84XG</th><td>0</td><td>0</td><td>0</td><td>0</td><td>0</td><td>0</td><td>0</td><td>0</td><td>0</td><td>0</td></tr>\n",
       "\t<tr><th scope=row>ENSR1_854C</th><td>0</td><td>0</td><td>0</td><td>0</td><td>0</td><td>0</td><td>0</td><td>0</td><td>0</td><td>0</td></tr>\n",
       "\t<tr><th scope=row>ENSR1_93WT</th><td>0</td><td>0</td><td>0</td><td>0</td><td>0</td><td>0</td><td>0</td><td>0</td><td>0</td><td>0</td></tr>\n",
       "\t<tr><th scope=row>ENSR1_B32Q</th><td>0</td><td>0</td><td>0</td><td>0</td><td>0</td><td>0</td><td>0</td><td>0</td><td>0</td><td>0</td></tr>\n",
       "\t<tr><th scope=row>ENSR1_B33F</th><td>0</td><td>0</td><td>0</td><td>0</td><td>0</td><td>0</td><td>0</td><td>0</td><td>0</td><td>0</td></tr>\n",
       "\t<tr><th scope=row>ENSR1_B34B</th><td>0</td><td>0</td><td>0</td><td>0</td><td>0</td><td>0</td><td>0</td><td>0</td><td>0</td><td>0</td></tr>\n",
       "</tbody>\n",
       "</table>\n"
      ],
      "text/latex": [
       "A matrix: 10 × 10 of type dbl\n",
       "\\begin{tabular}{r|llllllllll}\n",
       "  & CGTTAAATCCACCCTG & TTGCGTCTCGCCTAAG & TAGTAAGCAAGGTAAC & TATGGGCGTTATAGCG & GCCAATTAGGCGGGTA & TTTGACCGTCGTTACT & CGCCTGTGTGCACGCA & CTGGTTACATGTTTGG & CAAGTTATCCGCACAA & GCATTGCCATCACAGC\\\\\n",
       "\\hline\n",
       "\tENSR1\\_986 & 0 & 0 & 0 & 0 & 0 & 0 & 0 & 0 & 0 & 0\\\\\n",
       "\tENSR1\\_B5Q & 0 & 0 & 0 & 0 & 0 & 0 & 0 & 0 & 0 & 0\\\\\n",
       "\tENSR1\\_B6N & 0 & 0 & 0 & 0 & 0 & 0 & 0 & 0 & 0 & 0\\\\\n",
       "\tENSR1\\_9F7 & 0 & 0 & 0 & 0 & 0 & 0 & 0 & 0 & 0 & 0\\\\\n",
       "\tENSR1\\_84XG & 0 & 0 & 0 & 0 & 0 & 0 & 0 & 0 & 0 & 0\\\\\n",
       "\tENSR1\\_854C & 0 & 0 & 0 & 0 & 0 & 0 & 0 & 0 & 0 & 0\\\\\n",
       "\tENSR1\\_93WT & 0 & 0 & 0 & 0 & 0 & 0 & 0 & 0 & 0 & 0\\\\\n",
       "\tENSR1\\_B32Q & 0 & 0 & 0 & 0 & 0 & 0 & 0 & 0 & 0 & 0\\\\\n",
       "\tENSR1\\_B33F & 0 & 0 & 0 & 0 & 0 & 0 & 0 & 0 & 0 & 0\\\\\n",
       "\tENSR1\\_B34B & 0 & 0 & 0 & 0 & 0 & 0 & 0 & 0 & 0 & 0\\\\\n",
       "\\end{tabular}\n"
      ],
      "text/markdown": [
       "\n",
       "A matrix: 10 × 10 of type dbl\n",
       "\n",
       "| <!--/--> | CGTTAAATCCACCCTG | TTGCGTCTCGCCTAAG | TAGTAAGCAAGGTAAC | TATGGGCGTTATAGCG | GCCAATTAGGCGGGTA | TTTGACCGTCGTTACT | CGCCTGTGTGCACGCA | CTGGTTACATGTTTGG | CAAGTTATCCGCACAA | GCATTGCCATCACAGC |\n",
       "|---|---|---|---|---|---|---|---|---|---|---|\n",
       "| ENSR1_986 | 0 | 0 | 0 | 0 | 0 | 0 | 0 | 0 | 0 | 0 |\n",
       "| ENSR1_B5Q | 0 | 0 | 0 | 0 | 0 | 0 | 0 | 0 | 0 | 0 |\n",
       "| ENSR1_B6N | 0 | 0 | 0 | 0 | 0 | 0 | 0 | 0 | 0 | 0 |\n",
       "| ENSR1_9F7 | 0 | 0 | 0 | 0 | 0 | 0 | 0 | 0 | 0 | 0 |\n",
       "| ENSR1_84XG | 0 | 0 | 0 | 0 | 0 | 0 | 0 | 0 | 0 | 0 |\n",
       "| ENSR1_854C | 0 | 0 | 0 | 0 | 0 | 0 | 0 | 0 | 0 | 0 |\n",
       "| ENSR1_93WT | 0 | 0 | 0 | 0 | 0 | 0 | 0 | 0 | 0 | 0 |\n",
       "| ENSR1_B32Q | 0 | 0 | 0 | 0 | 0 | 0 | 0 | 0 | 0 | 0 |\n",
       "| ENSR1_B33F | 0 | 0 | 0 | 0 | 0 | 0 | 0 | 0 | 0 | 0 |\n",
       "| ENSR1_B34B | 0 | 0 | 0 | 0 | 0 | 0 | 0 | 0 | 0 | 0 |\n",
       "\n"
      ],
      "text/plain": [
       "           CGTTAAATCCACCCTG TTGCGTCTCGCCTAAG TAGTAAGCAAGGTAAC TATGGGCGTTATAGCG\n",
       "ENSR1_986  0                0                0                0               \n",
       "ENSR1_B5Q  0                0                0                0               \n",
       "ENSR1_B6N  0                0                0                0               \n",
       "ENSR1_9F7  0                0                0                0               \n",
       "ENSR1_84XG 0                0                0                0               \n",
       "ENSR1_854C 0                0                0                0               \n",
       "ENSR1_93WT 0                0                0                0               \n",
       "ENSR1_B32Q 0                0                0                0               \n",
       "ENSR1_B33F 0                0                0                0               \n",
       "ENSR1_B34B 0                0                0                0               \n",
       "           GCCAATTAGGCGGGTA TTTGACCGTCGTTACT CGCCTGTGTGCACGCA CTGGTTACATGTTTGG\n",
       "ENSR1_986  0                0                0                0               \n",
       "ENSR1_B5Q  0                0                0                0               \n",
       "ENSR1_B6N  0                0                0                0               \n",
       "ENSR1_9F7  0                0                0                0               \n",
       "ENSR1_84XG 0                0                0                0               \n",
       "ENSR1_854C 0                0                0                0               \n",
       "ENSR1_93WT 0                0                0                0               \n",
       "ENSR1_B32Q 0                0                0                0               \n",
       "ENSR1_B33F 0                0                0                0               \n",
       "ENSR1_B34B 0                0                0                0               \n",
       "           CAAGTTATCCGCACAA GCATTGCCATCACAGC\n",
       "ENSR1_986  0                0               \n",
       "ENSR1_B5Q  0                0               \n",
       "ENSR1_B6N  0                0               \n",
       "ENSR1_9F7  0                0               \n",
       "ENSR1_84XG 0                0               \n",
       "ENSR1_854C 0                0               \n",
       "ENSR1_93WT 0                0               \n",
       "ENSR1_B32Q 0                0               \n",
       "ENSR1_B33F 0                0               \n",
       "ENSR1_B34B 0                0               "
      ]
     },
     "metadata": {},
     "output_type": "display_data"
    },
    {
     "data": {
      "text/html": [
       "<style>\n",
       ".list-inline {list-style: none; margin:0; padding: 0}\n",
       ".list-inline>li {display: inline-block}\n",
       ".list-inline>li:not(:last-child)::after {content: \"\\00b7\"; padding: 0 .5ex}\n",
       "</style>\n",
       "<ol class=list-inline><li>177340</li><li>11909</li></ol>\n"
      ],
      "text/latex": [
       "\\begin{enumerate*}\n",
       "\\item 177340\n",
       "\\item 11909\n",
       "\\end{enumerate*}\n"
      ],
      "text/markdown": [
       "1. 177340\n",
       "2. 11909\n",
       "\n",
       "\n"
      ],
      "text/plain": [
       "[1] 177340  11909"
      ]
     },
     "metadata": {},
     "output_type": "display_data"
    }
   ],
   "source": [
    "atac_barcodes <- read.table(atac_barcodes_path)\n",
    "atac_features <- read.table(atac_features_path)\n",
    "rownames(atac_counts) <- atac_features$V1\n",
    "colnames(atac_counts) <- atac_barcodes$V1 %>% gsub(\"-1$\", \"\", .)\n",
    "atac_counts[1:10, 1:10]\n",
    "dim(atac_counts)"
   ]
  },
  {
   "cell_type": "code",
   "execution_count": 52,
   "id": "28eb83a7",
   "metadata": {
    "vscode": {
     "languageId": "r"
    }
   },
   "outputs": [
    {
     "data": {
      "text/html": [
       "81246"
      ],
      "text/latex": [
       "81246"
      ],
      "text/markdown": [
       "81246"
      ],
      "text/plain": [
       "[1] 81246"
      ]
     },
     "metadata": {},
     "output_type": "display_data"
    },
    {
     "data": {
      "text/html": [
       "11907"
      ],
      "text/latex": [
       "11907"
      ],
      "text/markdown": [
       "11907"
      ],
      "text/plain": [
       "[1] 11907"
      ]
     },
     "metadata": {},
     "output_type": "display_data"
    }
   ],
   "source": [
    "common_ernas = intersect(rownames(rna_enhancers), rownames(atac_counts))\n",
    "length(common_ernas)\n",
    "common_cells = intersect(colnames(rna_enhancers), colnames(atac_counts))\n",
    "length(common_cells)"
   ]
  },
  {
   "cell_type": "code",
   "execution_count": 53,
   "id": "51d8b097",
   "metadata": {
    "vscode": {
     "languageId": "r"
    }
   },
   "outputs": [],
   "source": [
    "#set common rownames and colnames\n",
    "rna_enhancers = rna_enhancers[common_ernas, common_cells]\n",
    "atac_counts = atac_counts[common_ernas, common_cells]"
   ]
  },
  {
   "cell_type": "code",
   "execution_count": 54,
   "id": "f9ac6d5d",
   "metadata": {
    "vscode": {
     "languageId": "r"
    }
   },
   "outputs": [
    {
     "data": {
      "text/html": [
       "<table class=\"dataframe\">\n",
       "<caption>A matrix: 2 × 6 of type dbl</caption>\n",
       "<thead>\n",
       "\t<tr><th></th><th scope=col>used</th><th scope=col>(Mb)</th><th scope=col>gc trigger</th><th scope=col>(Mb)</th><th scope=col>max used</th><th scope=col>(Mb)</th></tr>\n",
       "</thead>\n",
       "<tbody>\n",
       "\t<tr><th scope=row>Ncells</th><td>   2158400</td><td>  115.3</td><td>   4023930</td><td>  215.0</td><td>   4023930</td><td>  215.0</td></tr>\n",
       "\t<tr><th scope=row>Vcells</th><td>1455596874</td><td>11105.4</td><td>4737505040</td><td>36144.3</td><td>5115765351</td><td>39030.2</td></tr>\n",
       "</tbody>\n",
       "</table>\n"
      ],
      "text/latex": [
       "A matrix: 2 × 6 of type dbl\n",
       "\\begin{tabular}{r|llllll}\n",
       "  & used & (Mb) & gc trigger & (Mb) & max used & (Mb)\\\\\n",
       "\\hline\n",
       "\tNcells &    2158400 &   115.3 &    4023930 &   215.0 &    4023930 &   215.0\\\\\n",
       "\tVcells & 1455596874 & 11105.4 & 4737505040 & 36144.3 & 5115765351 & 39030.2\\\\\n",
       "\\end{tabular}\n"
      ],
      "text/markdown": [
       "\n",
       "A matrix: 2 × 6 of type dbl\n",
       "\n",
       "| <!--/--> | used | (Mb) | gc trigger | (Mb) | max used | (Mb) |\n",
       "|---|---|---|---|---|---|---|\n",
       "| Ncells |    2158400 |   115.3 |    4023930 |   215.0 |    4023930 |   215.0 |\n",
       "| Vcells | 1455596874 | 11105.4 | 4737505040 | 36144.3 | 5115765351 | 39030.2 |\n",
       "\n"
      ],
      "text/plain": [
       "       used       (Mb)    gc trigger (Mb)    max used   (Mb)   \n",
       "Ncells    2158400   115.3    4023930   215.0    4023930   215.0\n",
       "Vcells 1455596874 11105.4 4737505040 36144.3 5115765351 39030.2"
      ]
     },
     "metadata": {},
     "output_type": "display_data"
    }
   ],
   "source": [
    "# clear objects to save memory\n",
    "rm(atac_barcodes, atac_features)\n",
    "gc()"
   ]
  },
  {
   "cell_type": "code",
   "execution_count": 55,
   "id": "7fd8611c",
   "metadata": {
    "vscode": {
     "languageId": "r"
    }
   },
   "outputs": [
    {
     "data": {
      "text/html": [
       "'data.frame'"
      ],
      "text/latex": [
       "'data.frame'"
      ],
      "text/markdown": [
       "'data.frame'"
      ],
      "text/plain": [
       "[1] \"data.frame\""
      ]
     },
     "metadata": {},
     "output_type": "display_data"
    },
    {
     "data": {
      "text/html": [
       "<style>\n",
       ".list-inline {list-style: none; margin:0; padding: 0}\n",
       ".list-inline>li {display: inline-block}\n",
       ".list-inline>li:not(:last-child)::after {content: \"\\00b7\"; padding: 0 .5ex}\n",
       "</style>\n",
       "<ol class=list-inline><li>'matrix'</li><li>'array'</li></ol>\n"
      ],
      "text/latex": [
       "\\begin{enumerate*}\n",
       "\\item 'matrix'\n",
       "\\item 'array'\n",
       "\\end{enumerate*}\n"
      ],
      "text/markdown": [
       "1. 'matrix'\n",
       "2. 'array'\n",
       "\n",
       "\n"
      ],
      "text/plain": [
       "[1] \"matrix\" \"array\" "
      ]
     },
     "metadata": {},
     "output_type": "display_data"
    }
   ],
   "source": [
    "class(rna_enhancers)\n",
    "class(atac_counts)\n",
    "\n"
   ]
  },
  {
   "cell_type": "code",
   "execution_count": null,
   "id": "b3c3bed7",
   "metadata": {
    "vscode": {
     "languageId": "r"
    }
   },
   "outputs": [],
   "source": [
    "#take small subset for testing\n",
    "# rna_enhancers = rna_enhancers[1:1000, 1:1000] %>% as.matrix()\n",
    "# atac_counts = atac_counts[1:1000, 1:1000] %>% as.matrix()"
   ]
  },
  {
   "cell_type": "code",
   "execution_count": 102,
   "id": "be354aa8",
   "metadata": {
    "vscode": {
     "languageId": "r"
    }
   },
   "outputs": [
    {
     "data": {
      "text/html": [
       "<table class=\"dataframe\">\n",
       "<caption>A matrix: 6 × 11907 of type dbl</caption>\n",
       "<thead>\n",
       "\t<tr><th></th><th scope=col>AAACAGCCAAGGAATC</th><th scope=col>AAACAGCCAATCCCTT</th><th scope=col>AAACAGCCAATGCGCT</th><th scope=col>AAACAGCCACACTAAT</th><th scope=col>AAACAGCCACCAACCG</th><th scope=col>AAACAGCCAGGATAAC</th><th scope=col>AAACAGCCAGTAGGTG</th><th scope=col>AAACAGCCAGTTTACG</th><th scope=col>AAACAGCCATCCAGGT</th><th scope=col>AAACATGCAAGGTCCT</th><th scope=col>⋯</th><th scope=col>TTTGTGTTCTCCATAT</th><th scope=col>TTTGTTGGTCAGGAAG</th><th scope=col>TTTGTTGGTCCACAAA</th><th scope=col>TTTGTTGGTCTTTATG</th><th scope=col>TTTGTTGGTGACATGC</th><th scope=col>TTTGTTGGTGTTAAAC</th><th scope=col>TTTGTTGGTTAGGATT</th><th scope=col>TTTGTTGGTTGCAGTA</th><th scope=col>TTTGTTGGTTGGTTAG</th><th scope=col>TTTGTTGGTTTGCAGA</th></tr>\n",
       "</thead>\n",
       "<tbody>\n",
       "\t<tr><th scope=row>ENSR10_739T55</th><td>0</td><td>0</td><td>0</td><td>0</td><td>0</td><td>0</td><td>0</td><td>0</td><td>1</td><td>0</td><td>⋯</td><td>0</td><td>0</td><td>0</td><td>0</td><td>0</td><td>0</td><td>0</td><td>0</td><td>0</td><td>0</td></tr>\n",
       "\t<tr><th scope=row>ENSR10_73C2H3</th><td>0</td><td>0</td><td>0</td><td>0</td><td>0</td><td>0</td><td>0</td><td>0</td><td>0</td><td>0</td><td>⋯</td><td>0</td><td>0</td><td>0</td><td>0</td><td>0</td><td>0</td><td>0</td><td>0</td><td>0</td><td>0</td></tr>\n",
       "\t<tr><th scope=row>ENSR10_73MXBJ</th><td>0</td><td>0</td><td>0</td><td>0</td><td>0</td><td>0</td><td>0</td><td>0</td><td>0</td><td>0</td><td>⋯</td><td>0</td><td>0</td><td>0</td><td>0</td><td>0</td><td>0</td><td>0</td><td>0</td><td>0</td><td>0</td></tr>\n",
       "\t<tr><th scope=row>ENSR10_73PWXH</th><td>0</td><td>0</td><td>0</td><td>0</td><td>0</td><td>0</td><td>0</td><td>0</td><td>0</td><td>0</td><td>⋯</td><td>0</td><td>0</td><td>0</td><td>0</td><td>0</td><td>0</td><td>0</td><td>0</td><td>0</td><td>0</td></tr>\n",
       "\t<tr><th scope=row>ENSR10_74JXL6</th><td>0</td><td>0</td><td>1</td><td>0</td><td>0</td><td>0</td><td>1</td><td>0</td><td>0</td><td>1</td><td>⋯</td><td>0</td><td>0</td><td>0</td><td>0</td><td>0</td><td>0</td><td>0</td><td>0</td><td>0</td><td>0</td></tr>\n",
       "\t<tr><th scope=row>ENSR10_74XTX8</th><td>0</td><td>1</td><td>0</td><td>0</td><td>0</td><td>0</td><td>0</td><td>0</td><td>0</td><td>0</td><td>⋯</td><td>0</td><td>1</td><td>0</td><td>0</td><td>0</td><td>0</td><td>0</td><td>0</td><td>0</td><td>0</td></tr>\n",
       "</tbody>\n",
       "</table>\n"
      ],
      "text/latex": [
       "A matrix: 6 × 11907 of type dbl\n",
       "\\begin{tabular}{r|lllllllllllllllllllll}\n",
       "  & AAACAGCCAAGGAATC & AAACAGCCAATCCCTT & AAACAGCCAATGCGCT & AAACAGCCACACTAAT & AAACAGCCACCAACCG & AAACAGCCAGGATAAC & AAACAGCCAGTAGGTG & AAACAGCCAGTTTACG & AAACAGCCATCCAGGT & AAACATGCAAGGTCCT & ⋯ & TTTGTGTTCTCCATAT & TTTGTTGGTCAGGAAG & TTTGTTGGTCCACAAA & TTTGTTGGTCTTTATG & TTTGTTGGTGACATGC & TTTGTTGGTGTTAAAC & TTTGTTGGTTAGGATT & TTTGTTGGTTGCAGTA & TTTGTTGGTTGGTTAG & TTTGTTGGTTTGCAGA\\\\\n",
       "\\hline\n",
       "\tENSR10\\_739T55 & 0 & 0 & 0 & 0 & 0 & 0 & 0 & 0 & 1 & 0 & ⋯ & 0 & 0 & 0 & 0 & 0 & 0 & 0 & 0 & 0 & 0\\\\\n",
       "\tENSR10\\_73C2H3 & 0 & 0 & 0 & 0 & 0 & 0 & 0 & 0 & 0 & 0 & ⋯ & 0 & 0 & 0 & 0 & 0 & 0 & 0 & 0 & 0 & 0\\\\\n",
       "\tENSR10\\_73MXBJ & 0 & 0 & 0 & 0 & 0 & 0 & 0 & 0 & 0 & 0 & ⋯ & 0 & 0 & 0 & 0 & 0 & 0 & 0 & 0 & 0 & 0\\\\\n",
       "\tENSR10\\_73PWXH & 0 & 0 & 0 & 0 & 0 & 0 & 0 & 0 & 0 & 0 & ⋯ & 0 & 0 & 0 & 0 & 0 & 0 & 0 & 0 & 0 & 0\\\\\n",
       "\tENSR10\\_74JXL6 & 0 & 0 & 1 & 0 & 0 & 0 & 1 & 0 & 0 & 1 & ⋯ & 0 & 0 & 0 & 0 & 0 & 0 & 0 & 0 & 0 & 0\\\\\n",
       "\tENSR10\\_74XTX8 & 0 & 1 & 0 & 0 & 0 & 0 & 0 & 0 & 0 & 0 & ⋯ & 0 & 1 & 0 & 0 & 0 & 0 & 0 & 0 & 0 & 0\\\\\n",
       "\\end{tabular}\n"
      ],
      "text/markdown": [
       "\n",
       "A matrix: 6 × 11907 of type dbl\n",
       "\n",
       "| <!--/--> | AAACAGCCAAGGAATC | AAACAGCCAATCCCTT | AAACAGCCAATGCGCT | AAACAGCCACACTAAT | AAACAGCCACCAACCG | AAACAGCCAGGATAAC | AAACAGCCAGTAGGTG | AAACAGCCAGTTTACG | AAACAGCCATCCAGGT | AAACATGCAAGGTCCT | ⋯ | TTTGTGTTCTCCATAT | TTTGTTGGTCAGGAAG | TTTGTTGGTCCACAAA | TTTGTTGGTCTTTATG | TTTGTTGGTGACATGC | TTTGTTGGTGTTAAAC | TTTGTTGGTTAGGATT | TTTGTTGGTTGCAGTA | TTTGTTGGTTGGTTAG | TTTGTTGGTTTGCAGA |\n",
       "|---|---|---|---|---|---|---|---|---|---|---|---|---|---|---|---|---|---|---|---|---|---|\n",
       "| ENSR10_739T55 | 0 | 0 | 0 | 0 | 0 | 0 | 0 | 0 | 1 | 0 | ⋯ | 0 | 0 | 0 | 0 | 0 | 0 | 0 | 0 | 0 | 0 |\n",
       "| ENSR10_73C2H3 | 0 | 0 | 0 | 0 | 0 | 0 | 0 | 0 | 0 | 0 | ⋯ | 0 | 0 | 0 | 0 | 0 | 0 | 0 | 0 | 0 | 0 |\n",
       "| ENSR10_73MXBJ | 0 | 0 | 0 | 0 | 0 | 0 | 0 | 0 | 0 | 0 | ⋯ | 0 | 0 | 0 | 0 | 0 | 0 | 0 | 0 | 0 | 0 |\n",
       "| ENSR10_73PWXH | 0 | 0 | 0 | 0 | 0 | 0 | 0 | 0 | 0 | 0 | ⋯ | 0 | 0 | 0 | 0 | 0 | 0 | 0 | 0 | 0 | 0 |\n",
       "| ENSR10_74JXL6 | 0 | 0 | 1 | 0 | 0 | 0 | 1 | 0 | 0 | 1 | ⋯ | 0 | 0 | 0 | 0 | 0 | 0 | 0 | 0 | 0 | 0 |\n",
       "| ENSR10_74XTX8 | 0 | 1 | 0 | 0 | 0 | 0 | 0 | 0 | 0 | 0 | ⋯ | 0 | 1 | 0 | 0 | 0 | 0 | 0 | 0 | 0 | 0 |\n",
       "\n"
      ],
      "text/plain": [
       "              AAACAGCCAAGGAATC AAACAGCCAATCCCTT AAACAGCCAATGCGCT\n",
       "ENSR10_739T55 0                0                0               \n",
       "ENSR10_73C2H3 0                0                0               \n",
       "ENSR10_73MXBJ 0                0                0               \n",
       "ENSR10_73PWXH 0                0                0               \n",
       "ENSR10_74JXL6 0                0                1               \n",
       "ENSR10_74XTX8 0                1                0               \n",
       "              AAACAGCCACACTAAT AAACAGCCACCAACCG AAACAGCCAGGATAAC\n",
       "ENSR10_739T55 0                0                0               \n",
       "ENSR10_73C2H3 0                0                0               \n",
       "ENSR10_73MXBJ 0                0                0               \n",
       "ENSR10_73PWXH 0                0                0               \n",
       "ENSR10_74JXL6 0                0                0               \n",
       "ENSR10_74XTX8 0                0                0               \n",
       "              AAACAGCCAGTAGGTG AAACAGCCAGTTTACG AAACAGCCATCCAGGT\n",
       "ENSR10_739T55 0                0                1               \n",
       "ENSR10_73C2H3 0                0                0               \n",
       "ENSR10_73MXBJ 0                0                0               \n",
       "ENSR10_73PWXH 0                0                0               \n",
       "ENSR10_74JXL6 1                0                0               \n",
       "ENSR10_74XTX8 0                0                0               \n",
       "              AAACATGCAAGGTCCT ⋯ TTTGTGTTCTCCATAT TTTGTTGGTCAGGAAG\n",
       "ENSR10_739T55 0                ⋯ 0                0               \n",
       "ENSR10_73C2H3 0                ⋯ 0                0               \n",
       "ENSR10_73MXBJ 0                ⋯ 0                0               \n",
       "ENSR10_73PWXH 0                ⋯ 0                0               \n",
       "ENSR10_74JXL6 1                ⋯ 0                0               \n",
       "ENSR10_74XTX8 0                ⋯ 0                1               \n",
       "              TTTGTTGGTCCACAAA TTTGTTGGTCTTTATG TTTGTTGGTGACATGC\n",
       "ENSR10_739T55 0                0                0               \n",
       "ENSR10_73C2H3 0                0                0               \n",
       "ENSR10_73MXBJ 0                0                0               \n",
       "ENSR10_73PWXH 0                0                0               \n",
       "ENSR10_74JXL6 0                0                0               \n",
       "ENSR10_74XTX8 0                0                0               \n",
       "              TTTGTTGGTGTTAAAC TTTGTTGGTTAGGATT TTTGTTGGTTGCAGTA\n",
       "ENSR10_739T55 0                0                0               \n",
       "ENSR10_73C2H3 0                0                0               \n",
       "ENSR10_73MXBJ 0                0                0               \n",
       "ENSR10_73PWXH 0                0                0               \n",
       "ENSR10_74JXL6 0                0                0               \n",
       "ENSR10_74XTX8 0                0                0               \n",
       "              TTTGTTGGTTGGTTAG TTTGTTGGTTTGCAGA\n",
       "ENSR10_739T55 0                0               \n",
       "ENSR10_73C2H3 0                0               \n",
       "ENSR10_73MXBJ 0                0               \n",
       "ENSR10_73PWXH 0                0               \n",
       "ENSR10_74JXL6 0                0               \n",
       "ENSR10_74XTX8 0                0               "
      ]
     },
     "metadata": {},
     "output_type": "display_data"
    },
    {
     "data": {
      "text/html": [
       "<table class=\"dataframe\">\n",
       "<caption>A data.frame: 6 × 11907</caption>\n",
       "<thead>\n",
       "\t<tr><th></th><th scope=col>AAACAGCCAAGGAATC</th><th scope=col>AAACAGCCAATCCCTT</th><th scope=col>AAACAGCCAATGCGCT</th><th scope=col>AAACAGCCACACTAAT</th><th scope=col>AAACAGCCACCAACCG</th><th scope=col>AAACAGCCAGGATAAC</th><th scope=col>AAACAGCCAGTAGGTG</th><th scope=col>AAACAGCCAGTTTACG</th><th scope=col>AAACAGCCATCCAGGT</th><th scope=col>AAACATGCAAGGTCCT</th><th scope=col>⋯</th><th scope=col>TTTGTGTTCTCCATAT</th><th scope=col>TTTGTTGGTCAGGAAG</th><th scope=col>TTTGTTGGTCCACAAA</th><th scope=col>TTTGTTGGTCTTTATG</th><th scope=col>TTTGTTGGTGACATGC</th><th scope=col>TTTGTTGGTGTTAAAC</th><th scope=col>TTTGTTGGTTAGGATT</th><th scope=col>TTTGTTGGTTGCAGTA</th><th scope=col>TTTGTTGGTTGGTTAG</th><th scope=col>TTTGTTGGTTTGCAGA</th></tr>\n",
       "\t<tr><th></th><th scope=col>&lt;int&gt;</th><th scope=col>&lt;int&gt;</th><th scope=col>&lt;int&gt;</th><th scope=col>&lt;int&gt;</th><th scope=col>&lt;int&gt;</th><th scope=col>&lt;int&gt;</th><th scope=col>&lt;int&gt;</th><th scope=col>&lt;int&gt;</th><th scope=col>&lt;int&gt;</th><th scope=col>&lt;int&gt;</th><th scope=col>⋯</th><th scope=col>&lt;int&gt;</th><th scope=col>&lt;int&gt;</th><th scope=col>&lt;int&gt;</th><th scope=col>&lt;int&gt;</th><th scope=col>&lt;int&gt;</th><th scope=col>&lt;int&gt;</th><th scope=col>&lt;int&gt;</th><th scope=col>&lt;int&gt;</th><th scope=col>&lt;int&gt;</th><th scope=col>&lt;int&gt;</th></tr>\n",
       "</thead>\n",
       "<tbody>\n",
       "\t<tr><th scope=row>ENSR10_739T55</th><td>0</td><td>0</td><td>0</td><td>0</td><td>0</td><td>0</td><td>0</td><td>0</td><td>0</td><td>0</td><td>⋯</td><td>0</td><td>0</td><td>0</td><td>0</td><td>0</td><td>0</td><td>0</td><td>0</td><td>0</td><td>0</td></tr>\n",
       "\t<tr><th scope=row>ENSR10_73C2H3</th><td>0</td><td>0</td><td>0</td><td>0</td><td>0</td><td>0</td><td>0</td><td>0</td><td>0</td><td>0</td><td>⋯</td><td>0</td><td>0</td><td>0</td><td>0</td><td>0</td><td>0</td><td>0</td><td>0</td><td>0</td><td>0</td></tr>\n",
       "\t<tr><th scope=row>ENSR10_73MXBJ</th><td>0</td><td>0</td><td>0</td><td>0</td><td>0</td><td>0</td><td>0</td><td>0</td><td>0</td><td>0</td><td>⋯</td><td>0</td><td>0</td><td>0</td><td>0</td><td>0</td><td>0</td><td>0</td><td>0</td><td>0</td><td>0</td></tr>\n",
       "\t<tr><th scope=row>ENSR10_73PWXH</th><td>0</td><td>0</td><td>0</td><td>0</td><td>0</td><td>0</td><td>0</td><td>0</td><td>0</td><td>0</td><td>⋯</td><td>0</td><td>0</td><td>0</td><td>0</td><td>0</td><td>0</td><td>0</td><td>0</td><td>0</td><td>0</td></tr>\n",
       "\t<tr><th scope=row>ENSR10_74JXL6</th><td>0</td><td>0</td><td>0</td><td>0</td><td>0</td><td>0</td><td>0</td><td>0</td><td>0</td><td>0</td><td>⋯</td><td>0</td><td>0</td><td>0</td><td>0</td><td>0</td><td>0</td><td>0</td><td>0</td><td>0</td><td>0</td></tr>\n",
       "\t<tr><th scope=row>ENSR10_74XTX8</th><td>0</td><td>0</td><td>0</td><td>0</td><td>0</td><td>0</td><td>0</td><td>0</td><td>0</td><td>0</td><td>⋯</td><td>0</td><td>0</td><td>0</td><td>0</td><td>0</td><td>0</td><td>0</td><td>0</td><td>0</td><td>0</td></tr>\n",
       "</tbody>\n",
       "</table>\n"
      ],
      "text/latex": [
       "A data.frame: 6 × 11907\n",
       "\\begin{tabular}{r|lllllllllllllllllllll}\n",
       "  & AAACAGCCAAGGAATC & AAACAGCCAATCCCTT & AAACAGCCAATGCGCT & AAACAGCCACACTAAT & AAACAGCCACCAACCG & AAACAGCCAGGATAAC & AAACAGCCAGTAGGTG & AAACAGCCAGTTTACG & AAACAGCCATCCAGGT & AAACATGCAAGGTCCT & ⋯ & TTTGTGTTCTCCATAT & TTTGTTGGTCAGGAAG & TTTGTTGGTCCACAAA & TTTGTTGGTCTTTATG & TTTGTTGGTGACATGC & TTTGTTGGTGTTAAAC & TTTGTTGGTTAGGATT & TTTGTTGGTTGCAGTA & TTTGTTGGTTGGTTAG & TTTGTTGGTTTGCAGA\\\\\n",
       "  & <int> & <int> & <int> & <int> & <int> & <int> & <int> & <int> & <int> & <int> & ⋯ & <int> & <int> & <int> & <int> & <int> & <int> & <int> & <int> & <int> & <int>\\\\\n",
       "\\hline\n",
       "\tENSR10\\_739T55 & 0 & 0 & 0 & 0 & 0 & 0 & 0 & 0 & 0 & 0 & ⋯ & 0 & 0 & 0 & 0 & 0 & 0 & 0 & 0 & 0 & 0\\\\\n",
       "\tENSR10\\_73C2H3 & 0 & 0 & 0 & 0 & 0 & 0 & 0 & 0 & 0 & 0 & ⋯ & 0 & 0 & 0 & 0 & 0 & 0 & 0 & 0 & 0 & 0\\\\\n",
       "\tENSR10\\_73MXBJ & 0 & 0 & 0 & 0 & 0 & 0 & 0 & 0 & 0 & 0 & ⋯ & 0 & 0 & 0 & 0 & 0 & 0 & 0 & 0 & 0 & 0\\\\\n",
       "\tENSR10\\_73PWXH & 0 & 0 & 0 & 0 & 0 & 0 & 0 & 0 & 0 & 0 & ⋯ & 0 & 0 & 0 & 0 & 0 & 0 & 0 & 0 & 0 & 0\\\\\n",
       "\tENSR10\\_74JXL6 & 0 & 0 & 0 & 0 & 0 & 0 & 0 & 0 & 0 & 0 & ⋯ & 0 & 0 & 0 & 0 & 0 & 0 & 0 & 0 & 0 & 0\\\\\n",
       "\tENSR10\\_74XTX8 & 0 & 0 & 0 & 0 & 0 & 0 & 0 & 0 & 0 & 0 & ⋯ & 0 & 0 & 0 & 0 & 0 & 0 & 0 & 0 & 0 & 0\\\\\n",
       "\\end{tabular}\n"
      ],
      "text/markdown": [
       "\n",
       "A data.frame: 6 × 11907\n",
       "\n",
       "| <!--/--> | AAACAGCCAAGGAATC &lt;int&gt; | AAACAGCCAATCCCTT &lt;int&gt; | AAACAGCCAATGCGCT &lt;int&gt; | AAACAGCCACACTAAT &lt;int&gt; | AAACAGCCACCAACCG &lt;int&gt; | AAACAGCCAGGATAAC &lt;int&gt; | AAACAGCCAGTAGGTG &lt;int&gt; | AAACAGCCAGTTTACG &lt;int&gt; | AAACAGCCATCCAGGT &lt;int&gt; | AAACATGCAAGGTCCT &lt;int&gt; | ⋯ ⋯ | TTTGTGTTCTCCATAT &lt;int&gt; | TTTGTTGGTCAGGAAG &lt;int&gt; | TTTGTTGGTCCACAAA &lt;int&gt; | TTTGTTGGTCTTTATG &lt;int&gt; | TTTGTTGGTGACATGC &lt;int&gt; | TTTGTTGGTGTTAAAC &lt;int&gt; | TTTGTTGGTTAGGATT &lt;int&gt; | TTTGTTGGTTGCAGTA &lt;int&gt; | TTTGTTGGTTGGTTAG &lt;int&gt; | TTTGTTGGTTTGCAGA &lt;int&gt; |\n",
       "|---|---|---|---|---|---|---|---|---|---|---|---|---|---|---|---|---|---|---|---|---|---|\n",
       "| ENSR10_739T55 | 0 | 0 | 0 | 0 | 0 | 0 | 0 | 0 | 0 | 0 | ⋯ | 0 | 0 | 0 | 0 | 0 | 0 | 0 | 0 | 0 | 0 |\n",
       "| ENSR10_73C2H3 | 0 | 0 | 0 | 0 | 0 | 0 | 0 | 0 | 0 | 0 | ⋯ | 0 | 0 | 0 | 0 | 0 | 0 | 0 | 0 | 0 | 0 |\n",
       "| ENSR10_73MXBJ | 0 | 0 | 0 | 0 | 0 | 0 | 0 | 0 | 0 | 0 | ⋯ | 0 | 0 | 0 | 0 | 0 | 0 | 0 | 0 | 0 | 0 |\n",
       "| ENSR10_73PWXH | 0 | 0 | 0 | 0 | 0 | 0 | 0 | 0 | 0 | 0 | ⋯ | 0 | 0 | 0 | 0 | 0 | 0 | 0 | 0 | 0 | 0 |\n",
       "| ENSR10_74JXL6 | 0 | 0 | 0 | 0 | 0 | 0 | 0 | 0 | 0 | 0 | ⋯ | 0 | 0 | 0 | 0 | 0 | 0 | 0 | 0 | 0 | 0 |\n",
       "| ENSR10_74XTX8 | 0 | 0 | 0 | 0 | 0 | 0 | 0 | 0 | 0 | 0 | ⋯ | 0 | 0 | 0 | 0 | 0 | 0 | 0 | 0 | 0 | 0 |\n",
       "\n"
      ],
      "text/plain": [
       "              AAACAGCCAAGGAATC AAACAGCCAATCCCTT AAACAGCCAATGCGCT\n",
       "ENSR10_739T55 0                0                0               \n",
       "ENSR10_73C2H3 0                0                0               \n",
       "ENSR10_73MXBJ 0                0                0               \n",
       "ENSR10_73PWXH 0                0                0               \n",
       "ENSR10_74JXL6 0                0                0               \n",
       "ENSR10_74XTX8 0                0                0               \n",
       "              AAACAGCCACACTAAT AAACAGCCACCAACCG AAACAGCCAGGATAAC\n",
       "ENSR10_739T55 0                0                0               \n",
       "ENSR10_73C2H3 0                0                0               \n",
       "ENSR10_73MXBJ 0                0                0               \n",
       "ENSR10_73PWXH 0                0                0               \n",
       "ENSR10_74JXL6 0                0                0               \n",
       "ENSR10_74XTX8 0                0                0               \n",
       "              AAACAGCCAGTAGGTG AAACAGCCAGTTTACG AAACAGCCATCCAGGT\n",
       "ENSR10_739T55 0                0                0               \n",
       "ENSR10_73C2H3 0                0                0               \n",
       "ENSR10_73MXBJ 0                0                0               \n",
       "ENSR10_73PWXH 0                0                0               \n",
       "ENSR10_74JXL6 0                0                0               \n",
       "ENSR10_74XTX8 0                0                0               \n",
       "              AAACATGCAAGGTCCT ⋯ TTTGTGTTCTCCATAT TTTGTTGGTCAGGAAG\n",
       "ENSR10_739T55 0                ⋯ 0                0               \n",
       "ENSR10_73C2H3 0                ⋯ 0                0               \n",
       "ENSR10_73MXBJ 0                ⋯ 0                0               \n",
       "ENSR10_73PWXH 0                ⋯ 0                0               \n",
       "ENSR10_74JXL6 0                ⋯ 0                0               \n",
       "ENSR10_74XTX8 0                ⋯ 0                0               \n",
       "              TTTGTTGGTCCACAAA TTTGTTGGTCTTTATG TTTGTTGGTGACATGC\n",
       "ENSR10_739T55 0                0                0               \n",
       "ENSR10_73C2H3 0                0                0               \n",
       "ENSR10_73MXBJ 0                0                0               \n",
       "ENSR10_73PWXH 0                0                0               \n",
       "ENSR10_74JXL6 0                0                0               \n",
       "ENSR10_74XTX8 0                0                0               \n",
       "              TTTGTTGGTGTTAAAC TTTGTTGGTTAGGATT TTTGTTGGTTGCAGTA\n",
       "ENSR10_739T55 0                0                0               \n",
       "ENSR10_73C2H3 0                0                0               \n",
       "ENSR10_73MXBJ 0                0                0               \n",
       "ENSR10_73PWXH 0                0                0               \n",
       "ENSR10_74JXL6 0                0                0               \n",
       "ENSR10_74XTX8 0                0                0               \n",
       "              TTTGTTGGTTGGTTAG TTTGTTGGTTTGCAGA\n",
       "ENSR10_739T55 0                0               \n",
       "ENSR10_73C2H3 0                0               \n",
       "ENSR10_73MXBJ 0                0               \n",
       "ENSR10_73PWXH 0                0               \n",
       "ENSR10_74JXL6 0                0               \n",
       "ENSR10_74XTX8 0                0               "
      ]
     },
     "metadata": {},
     "output_type": "display_data"
    },
    {
     "data": {
      "text/html": [
       "'data.frame'"
      ],
      "text/latex": [
       "'data.frame'"
      ],
      "text/markdown": [
       "'data.frame'"
      ],
      "text/plain": [
       "[1] \"data.frame\""
      ]
     },
     "metadata": {},
     "output_type": "display_data"
    },
    {
     "data": {
      "text/html": [
       "<style>\n",
       ".list-inline {list-style: none; margin:0; padding: 0}\n",
       ".list-inline>li {display: inline-block}\n",
       ".list-inline>li:not(:last-child)::after {content: \"\\00b7\"; padding: 0 .5ex}\n",
       "</style>\n",
       "<ol class=list-inline><li>'matrix'</li><li>'array'</li></ol>\n"
      ],
      "text/latex": [
       "\\begin{enumerate*}\n",
       "\\item 'matrix'\n",
       "\\item 'array'\n",
       "\\end{enumerate*}\n"
      ],
      "text/markdown": [
       "1. 'matrix'\n",
       "2. 'array'\n",
       "\n",
       "\n"
      ],
      "text/plain": [
       "[1] \"matrix\" \"array\" "
      ]
     },
     "metadata": {},
     "output_type": "display_data"
    },
    {
     "data": {
      "text/html": [
       "<style>\n",
       ".list-inline {list-style: none; margin:0; padding: 0}\n",
       ".list-inline>li {display: inline-block}\n",
       ".list-inline>li:not(:last-child)::after {content: \"\\00b7\"; padding: 0 .5ex}\n",
       "</style>\n",
       "<ol class=list-inline><li>81246</li><li>11907</li></ol>\n"
      ],
      "text/latex": [
       "\\begin{enumerate*}\n",
       "\\item 81246\n",
       "\\item 11907\n",
       "\\end{enumerate*}\n"
      ],
      "text/markdown": [
       "1. 81246\n",
       "2. 11907\n",
       "\n",
       "\n"
      ],
      "text/plain": [
       "[1] 81246 11907"
      ]
     },
     "metadata": {},
     "output_type": "display_data"
    },
    {
     "data": {
      "text/html": [
       "<style>\n",
       ".list-inline {list-style: none; margin:0; padding: 0}\n",
       ".list-inline>li {display: inline-block}\n",
       ".list-inline>li:not(:last-child)::after {content: \"\\00b7\"; padding: 0 .5ex}\n",
       "</style>\n",
       "<ol class=list-inline><li>81246</li><li>11907</li></ol>\n"
      ],
      "text/latex": [
       "\\begin{enumerate*}\n",
       "\\item 81246\n",
       "\\item 11907\n",
       "\\end{enumerate*}\n"
      ],
      "text/markdown": [
       "1. 81246\n",
       "2. 11907\n",
       "\n",
       "\n"
      ],
      "text/plain": [
       "[1] 81246 11907"
      ]
     },
     "metadata": {},
     "output_type": "display_data"
    }
   ],
   "source": [
    "head(atac_counts)\n",
    "head(rna_enhancers)\n",
    "class(rna_enhancers)\n",
    "class(atac_counts)\n",
    "dim(rna_enhancers)\n",
    "dim(atac_counts)"
   ]
  },
  {
   "cell_type": "code",
   "execution_count": 103,
   "id": "100df02e",
   "metadata": {
    "vscode": {
     "languageId": "r"
    }
   },
   "outputs": [],
   "source": [
    "atac_counts[atac_counts > 0] <- 1\n",
    "rna_enhancers[rna_enhancers > 0] <- 1"
   ]
  },
  {
   "cell_type": "code",
   "execution_count": 120,
   "id": "80c6487b",
   "metadata": {
    "vscode": {
     "languageId": "r"
    }
   },
   "outputs": [
    {
     "data": {
      "text/html": [
       "8469"
      ],
      "text/latex": [
       "8469"
      ],
      "text/markdown": [
       "8469"
      ],
      "text/plain": [
       "[1] 8469"
      ]
     },
     "metadata": {},
     "output_type": "display_data"
    }
   ],
   "source": [
    "# keep only rows that expressed in at least  cell\n",
    "rows_to_keep = which(rowSums(rna_enhancers) >= 50)\n",
    "length(rows_to_keep)\n",
    "atac_counts = atac_counts[rows_to_keep, ]\n",
    "rna_enhancers = rna_enhancers[rows_to_keep, ]"
   ]
  },
  {
   "cell_type": "code",
   "execution_count": 143,
   "id": "6bf371e0",
   "metadata": {
    "vscode": {
     "languageId": "r"
    }
   },
   "outputs": [],
   "source": [
    "# remove all 0 cells\n",
    "zero_cells = colSums(atac_counts) == 0 | colSums(rna_enhancers) == 0\n",
    "atac_counts = atac_counts[, !zero_cells]\n",
    "rna_enhancers = rna_enhancers[, !zero_cells]"
   ]
  },
  {
   "cell_type": "code",
   "execution_count": 144,
   "id": "a91925dc",
   "metadata": {
    "vscode": {
     "languageId": "r"
    }
   },
   "outputs": [
    {
     "data": {
      "text/html": [
       "<style>\n",
       ".list-inline {list-style: none; margin:0; padding: 0}\n",
       ".list-inline>li {display: inline-block}\n",
       ".list-inline>li:not(:last-child)::after {content: \"\\00b7\"; padding: 0 .5ex}\n",
       "</style>\n",
       "<ol class=list-inline><li>8469</li><li>11906</li></ol>\n"
      ],
      "text/latex": [
       "\\begin{enumerate*}\n",
       "\\item 8469\n",
       "\\item 11906\n",
       "\\end{enumerate*}\n"
      ],
      "text/markdown": [
       "1. 8469\n",
       "2. 11906\n",
       "\n",
       "\n"
      ],
      "text/plain": [
       "[1]  8469 11906"
      ]
     },
     "metadata": {},
     "output_type": "display_data"
    },
    {
     "data": {
      "text/html": [
       "<style>\n",
       ".list-inline {list-style: none; margin:0; padding: 0}\n",
       ".list-inline>li {display: inline-block}\n",
       ".list-inline>li:not(:last-child)::after {content: \"\\00b7\"; padding: 0 .5ex}\n",
       "</style>\n",
       "<ol class=list-inline><li>8469</li><li>11906</li></ol>\n"
      ],
      "text/latex": [
       "\\begin{enumerate*}\n",
       "\\item 8469\n",
       "\\item 11906\n",
       "\\end{enumerate*}\n"
      ],
      "text/markdown": [
       "1. 8469\n",
       "2. 11906\n",
       "\n",
       "\n"
      ],
      "text/plain": [
       "[1]  8469 11906"
      ]
     },
     "metadata": {},
     "output_type": "display_data"
    }
   ],
   "source": [
    "dim(atac_counts)\n",
    "dim(rna_enhancers)"
   ]
  },
  {
   "cell_type": "code",
   "execution_count": 122,
   "id": "0c5f715c",
   "metadata": {
    "vscode": {
     "languageId": "r"
    }
   },
   "outputs": [],
   "source": [
    "# Jaccard Index = TP / (TP + FP + FN)\n",
    "calculate_jaccard <- function(v1, v2) {\n",
    "    # Check for perfect length match (safety check)\n",
    "    if (length(v1) != length(v2)) stop(\"Vectors must be of equal length.\")\n",
    "    \n",
    "    # True Positives (TP): Both are 1\n",
    "    TP <- sum(v1 == 1 & v2 == 1)\n",
    "    \n",
    "    # Union Size (TP + FP + FN): At least one is 1\n",
    "    union_size <- sum(v1 == 1 | v2 == 1)\n",
    "    # Handle the edge case where a cell has zero activity across all 11,909 enhancers\n",
    "    if (union_size == 0) return(0)  \n",
    "    return(TP / union_size)\n",
    "}"
   ]
  },
  {
   "cell_type": "code",
   "execution_count": 123,
   "id": "232a3480",
   "metadata": {
    "vscode": {
     "languageId": "r"
    }
   },
   "outputs": [
    {
     "name": "stderr",
     "output_type": "stream",
     "text": [
      "Warning message in cor(x, y):\n",
      "“the standard deviation is zero”\n"
     ]
    }
   ],
   "source": [
    "phi_per_cell <- mapply(function(x, y){cor(x, y)}, as.data.frame(rna_enhancers), as.data.frame(atac_counts))\n"
   ]
  },
  {
   "cell_type": "code",
   "execution_count": 124,
   "id": "e1f6e6c9",
   "metadata": {
    "vscode": {
     "languageId": "r"
    }
   },
   "outputs": [
    {
     "data": {
      "text/html": [
       "<style>\n",
       ".dl-inline {width: auto; margin:0; padding: 0}\n",
       ".dl-inline>dt, .dl-inline>dd {float: none; width: auto; display: inline-block}\n",
       ".dl-inline>dt::after {content: \":\\0020\"; padding-right: .5ex}\n",
       ".dl-inline>dt:not(:first-of-type) {padding-left: .5ex}\n",
       "</style><dl class=dl-inline><dt>AAACAGCCAAGGAATC</dt><dd>0.0500117559033282</dd><dt>AAACAGCCAATCCCTT</dt><dd>0.0380941255033508</dd><dt>AAACAGCCAATGCGCT</dt><dd>0.0016576986954973</dd><dt>AAACAGCCACACTAAT</dt><dd>-0.00396425679928085</dd><dt>AAACAGCCACCAACCG</dt><dd>0.00155036183101782</dd><dt>AAACAGCCAGGATAAC</dt><dd>0.0161729282570975</dd></dl>\n"
      ],
      "text/latex": [
       "\\begin{description*}\n",
       "\\item[AAACAGCCAAGGAATC] 0.0500117559033282\n",
       "\\item[AAACAGCCAATCCCTT] 0.0380941255033508\n",
       "\\item[AAACAGCCAATGCGCT] 0.0016576986954973\n",
       "\\item[AAACAGCCACACTAAT] -0.00396425679928085\n",
       "\\item[AAACAGCCACCAACCG] 0.00155036183101782\n",
       "\\item[AAACAGCCAGGATAAC] 0.0161729282570975\n",
       "\\end{description*}\n"
      ],
      "text/markdown": [
       "AAACAGCCAAGGAATC\n",
       ":   0.0500117559033282AAACAGCCAATCCCTT\n",
       ":   0.0380941255033508AAACAGCCAATGCGCT\n",
       ":   0.0016576986954973AAACAGCCACACTAAT\n",
       ":   -0.00396425679928085AAACAGCCACCAACCG\n",
       ":   0.00155036183101782AAACAGCCAGGATAAC\n",
       ":   0.0161729282570975\n",
       "\n"
      ],
      "text/plain": [
       "AAACAGCCAAGGAATC AAACAGCCAATCCCTT AAACAGCCAATGCGCT AAACAGCCACACTAAT \n",
       "     0.050011756      0.038094126      0.001657699     -0.003964257 \n",
       "AAACAGCCACCAACCG AAACAGCCAGGATAAC \n",
       "     0.001550362      0.016172928 "
      ]
     },
     "metadata": {},
     "output_type": "display_data"
    }
   ],
   "source": [
    "\n",
    "head(phi_per_cell)\n"
   ]
  },
  {
   "cell_type": "code",
   "execution_count": 125,
   "id": "67de90bc",
   "metadata": {
    "vscode": {
     "languageId": "r"
    }
   },
   "outputs": [],
   "source": [
    "jaccard_per_cell = mapply(function(x, y){calculate_jaccard(x, y)}, as.data.frame(rna_enhancers), as.data.frame(atac_counts))"
   ]
  },
  {
   "cell_type": "code",
   "execution_count": 126,
   "id": "dbce4587",
   "metadata": {
    "vscode": {
     "languageId": "r"
    }
   },
   "outputs": [
    {
     "data": {
      "text/html": [
       "<style>\n",
       ".dl-inline {width: auto; margin:0; padding: 0}\n",
       ".dl-inline>dt, .dl-inline>dd {float: none; width: auto; display: inline-block}\n",
       ".dl-inline>dt::after {content: \":\\0020\"; padding-right: .5ex}\n",
       ".dl-inline>dt:not(:first-of-type) {padding-left: .5ex}\n",
       "</style><dl class=dl-inline><dt>AAACAGCCAAGGAATC</dt><dd>0.0420382165605096</dd><dt>AAACAGCCAATCCCTT</dt><dd>0.0280112044817927</dd><dt>AAACAGCCAATGCGCT</dt><dd>0.0125944584382872</dd><dt>AAACAGCCACACTAAT</dt><dd>0</dd><dt>AAACAGCCACCAACCG</dt><dd>0.00806451612903226</dd><dt>AAACAGCCAGGATAAC</dt><dd>0.0138248847926267</dd></dl>\n"
      ],
      "text/latex": [
       "\\begin{description*}\n",
       "\\item[AAACAGCCAAGGAATC] 0.0420382165605096\n",
       "\\item[AAACAGCCAATCCCTT] 0.0280112044817927\n",
       "\\item[AAACAGCCAATGCGCT] 0.0125944584382872\n",
       "\\item[AAACAGCCACACTAAT] 0\n",
       "\\item[AAACAGCCACCAACCG] 0.00806451612903226\n",
       "\\item[AAACAGCCAGGATAAC] 0.0138248847926267\n",
       "\\end{description*}\n"
      ],
      "text/markdown": [
       "AAACAGCCAAGGAATC\n",
       ":   0.0420382165605096AAACAGCCAATCCCTT\n",
       ":   0.0280112044817927AAACAGCCAATGCGCT\n",
       ":   0.0125944584382872AAACAGCCACACTAAT\n",
       ":   0AAACAGCCACCAACCG\n",
       ":   0.00806451612903226AAACAGCCAGGATAAC\n",
       ":   0.0138248847926267\n",
       "\n"
      ],
      "text/plain": [
       "AAACAGCCAAGGAATC AAACAGCCAATCCCTT AAACAGCCAATGCGCT AAACAGCCACACTAAT \n",
       "     0.042038217      0.028011204      0.012594458      0.000000000 \n",
       "AAACAGCCACCAACCG AAACAGCCAGGATAAC \n",
       "     0.008064516      0.013824885 "
      ]
     },
     "metadata": {},
     "output_type": "display_data"
    }
   ],
   "source": [
    "head(jaccard_per_cell)"
   ]
  },
  {
   "cell_type": "code",
   "execution_count": 127,
   "id": "e54e1123",
   "metadata": {
    "vscode": {
     "languageId": "r"
    }
   },
   "outputs": [],
   "source": [
    "results_df <- data.frame(\n",
    "    Phi = phi_per_cell,\n",
    "    Jaccard = jaccard_per_cell\n",
    ")"
   ]
  },
  {
   "cell_type": "code",
   "execution_count": 128,
   "id": "bd67604a",
   "metadata": {
    "vscode": {
     "languageId": "r"
    }
   },
   "outputs": [
    {
     "name": "stderr",
     "output_type": "stream",
     "text": [
      "Warning message:\n",
      "“\u001b[1m\u001b[22mRemoved 1 row containing missing values or values outside the scale range\n",
      "(`geom_point()`).”\n"
     ]
    },
    {
     "data": {
      "image/png": "[encoded data removed]",
      "text/plain": [
       "plot without title"
      ]
     },
     "metadata": {
      "image/png": {
       "height": 420,
       "width": 420
      }
     },
     "output_type": "display_data"
    }
   ],
   "source": [
    "ggplot(results_df, aes(x = Phi, y = Jaccard)) +\n",
    "    \n",
    "    # 1. Scatter points with transparency (crucial for large datasets)\n",
    "    # Using geom_point with high alpha to show point density.\n",
    "    geom_point(alpha = 0.1, size = 1.5, color = \"#1f78b4\") + \n",
    "    \n",
    "\n",
    "    \n",
    "    # 3. Add the identity line (y = x) for comparison\n",
    "    geom_abline(intercept = 0, slope = 1, linetype = \"dashed\", color = \"gray50\") +\n",
    "    \n",
    "    # 4. Define axis limits and labels\n",
    "    scale_x_continuous(limits = c(-0.1, 1), breaks = seq(0, 1, 0.2)) + \n",
    "    scale_y_continuous(limits = c(0, 1), breaks = seq(0, 1, 0.2)) + \n",
    "    \n",
    "    labs(\n",
    "        title = \"Single-Cell eRNA Validation: Phi Coefficient vs. Jaccard Index\",\n",
    "        subtitle = paste0(\"N = \", nrow(results_df), \" Cells\"),\n",
    "        x = \"Phi Coefficient (Correlation, Affected by True Negatives)\",\n",
    "        y = \"Jaccard Index (Overlap, Ignores True Negatives)\"\n",
    "    ) +\n",
    "    \n",
    "    # 5. Apply a clean theme\n",
    "    theme_minimal() +\n",
    "    theme(\n",
    "        plot.title = element_text(face = \"bold\", hjust = 0.5),\n",
    "        plot.subtitle = element_text(hjust = 0.5),\n",
    "        axis.title = element_text(face = \"bold\")\n",
    "    )"
   ]
  },
  {
   "cell_type": "code",
   "execution_count": 156,
   "id": "a71df50e",
   "metadata": {
    "vscode": {
     "languageId": "r"
    }
   },
   "outputs": [
    {
     "data": {
      "text/plain": [
       "   \n",
       "           0        1\n",
       "  0 96174047  1356733\n",
       "  1  3216336    84798"
      ]
     },
     "metadata": {},
     "output_type": "display_data"
    }
   ],
   "source": [
    "\n",
    "contingency_table <- table(c(as.matrix(atac_counts)),c(as.matrix(rna_enhancers)))\n",
    "contingency_table"
   ]
  },
  {
   "cell_type": "code",
   "execution_count": 157,
   "id": "12aaade1",
   "metadata": {
    "vscode": {
     "languageId": "r"
    }
   },
   "outputs": [
    {
     "data": {
      "text/plain": [
       "\n",
       "\tFisher's Exact Test for Count Data\n",
       "\n",
       "data:  contingency_table\n",
       "p-value < 2.2e-16\n",
       "alternative hypothesis: true odds ratio is not equal to 1\n",
       "95 percent confidence interval:\n",
       " 1.855844 1.882031\n",
       "sample estimates:\n",
       "odds ratio \n",
       "  1.868963 \n"
      ]
     },
     "metadata": {},
     "output_type": "display_data"
    }
   ],
   "source": [
    "test <- fisher.test(contingency_table)\n",
    "test"
   ]
  },
  {
   "cell_type": "code",
   "execution_count": null,
   "id": "747564b8",
   "metadata": {
    "vscode": {
     "languageId": "r"
    }
   },
   "outputs": [],
   "source": [
    "# histogram of fisher per cell p-values with ggplot2\n",
    "library(ggplot2)\n",
    "fisher_per_cell_test = function(x, y){\n",
    "    fisher.test(table(x, y))$p.value\n",
    "}\n",
    "fisher_per_cell = mapply(fisher_per_cell_test, as.data.frame(rna_enhancers), as.data.frame(atac_counts))\n",
    "\n"
   ]
  },
  {
   "cell_type": "code",
   "execution_count": 152,
   "id": "77dd105d",
   "metadata": {
    "vscode": {
     "languageId": "r"
    }
   },
   "outputs": [],
   "source": [
    "fisher_per_cell_test = function(x, y){\n",
    "    fisher.test(table(x, y))$p.value\n",
    "}\n",
    "fisher_per_cell = mapply(fisher_per_cell_test, as.data.frame(rna_enhancers), as.data.frame(atac_counts))"
   ]
  },
  {
   "cell_type": "code",
   "execution_count": 160,
   "id": "5a255ccb",
   "metadata": {
    "vscode": {
     "languageId": "r"
    }
   },
   "outputs": [
    {
     "name": "stdout",
     "output_type": "stream",
     "text": [
      "[1] \"Number of cells with significant association (FDR < 0.05): 538 out of 11906\"\n"
     ]
    },
    {
     "data": {
      "image/png": "[encoded data removed]",
      "text/plain": [
       "plot without title"
      ]
     },
     "metadata": {
      "image/png": {
       "height": 420,
       "width": 420
      }
     },
     "output_type": "display_data"
    }
   ],
   "source": [
    "# create a data frame for plotting\n",
    "fisher_df = data.frame(fdr = p.adjust(fisher_per_cell,method = \"fdr\"))\n",
    "\n",
    "# plot the histogram\n",
    "ggplot(fisher_df, aes(x = fdr)) +\n",
    "    geom_histogram(binwidth = 0.01) +\n",
    "    xlab(\"Fisher's Exact Test FDR\") +\n",
    "    ylab(\"Frequency\") +\n",
    "    # add line at 0.05 significance level\n",
    "    geom_vline(xintercept = 0.05, color = \"red\", linetype = \"dashed\") +\n",
    "    ggtitle(\"Histogram of Fisher's Exact Test FDR per Cell\")\n",
    "\n",
    "#count cells with significant FDR < 0.05\n",
    "significant_cells = sum(fisher_df$fdr < 0.05)\n",
    "print(paste0(\"Number of cells with significant association (FDR < 0.05): \", significant_cells, \" out of \", length(fisher_per_cell)))"
   ]
  },
  {
   "cell_type": "code",
   "execution_count": 162,
   "id": "80810980",
   "metadata": {
    "vscode": {
     "languageId": "r"
    }
   },
   "outputs": [],
   "source": [
    "# histogram of fisher per enhancer p-values with ggplot2\n",
    "library(ggplot2)\n",
    "fisher_per_enhancer_test = function(x, y){\n",
    "    tryCatch(fisher.test(table(x, y))$p.value, error = function(e) NA)\n",
    "}\n",
    "fisher_per_enhancer = mapply(fisher_per_enhancer_test, as.data.frame(t(rna_enhancers)), as.data.frame(t(atac_counts)))\n",
    "\n"
   ]
  },
  {
   "cell_type": "code",
   "execution_count": 164,
   "id": "3ad90020",
   "metadata": {
    "vscode": {
     "languageId": "r"
    }
   },
   "outputs": [
    {
     "name": "stdout",
     "output_type": "stream",
     "text": [
      "[1] \"Number of enhancers with significant association (FDR < 0.05): 917 out of 8337\"\n"
     ]
    },
    {
     "data": {
      "image/png": "[encoded data removed]",
      "text/plain": [
       "plot without title"
      ]
     },
     "metadata": {
      "image/png": {
       "height": 420,
       "width": 420
      }
     },
     "output_type": "display_data"
    }
   ],
   "source": [
    "fisher_per_enhancer = na.omit(fisher_per_enhancer)\n",
    "# create a data frame for plotting\n",
    "fisher_df = data.frame(fdr = p.adjust(fisher_per_enhancer,method = \"fdr\"))\n",
    "\n",
    "# plot the histogram\n",
    "ggplot(fisher_df, aes(x = fdr)) +\n",
    "    geom_histogram(binwidth = 0.01) +\n",
    "    xlab(\"Fisher's Exact Test FDR\") +\n",
    "    ylab(\"Frequency\") +\n",
    "    # add line at 0.05 significance level\n",
    "    geom_vline(xintercept = 0.05, color = \"red\", linetype = \"dashed\") +\n",
    "    ggtitle(\"Histogram of Fisher's Exact Test FDR per Enhancer\")\n",
    "\n",
    "#count enhancers with significant FDR < 0.05\n",
    "significant_enhancers = sum(fisher_df$fdr < 0.05)\n",
    "print(paste0(\"Number of enhancers with significant association (FDR < 0.05): \", significant_enhancers, \" out of \", length(fisher_per_enhancer)))"
   ]
  }
 ],
 "metadata": {
  "kernelspec": {
   "display_name": "eRNA R",
   "language": "R",
   "name": "erna_r"
  },
  "language_info": {
   "codemirror_mode": "r",
   "file_extension": ".r",
   "mimetype": "text/x-r-source",
   "name": "R",
   "pygments_lexer": "r",
   "version": "4.3.3"
  },
  "papermill": {
   "default_parameters": {},
   "duration": 3.641109,
   "end_time": "2025-10-22T20:21:30.323109",
   "environment_variables": {},
   "exception": null,
   "input_path": "scripts/analyze_by_ATAC.ipynb",
   "output_path": "scripts/analyze_by_ATAC.ipynb",
   "parameters": {
    "param1": "ddd"
   },
   "start_time": "2025-10-22T20:21:26.682000",
   "version": "2.6.0"
  }
 },
 "nbformat": 4,
 "nbformat_minor": 5
}
