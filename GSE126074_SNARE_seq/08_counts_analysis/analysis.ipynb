{
 "cells": [
  {
   "cell_type": "markdown",
   "id": "2212c1d9",
   "metadata": {},
   "source": [
    "# eRNA count matrix analysis"
   ]
  },
  {
   "cell_type": "code",
   "execution_count": null,
   "id": "f01a593b",
   "metadata": {
    "vscode": {
     "languageId": "r"
    }
   },
   "outputs": [],
   "source": [
    "library(magrittr)\n",
    "library(dplyr)\n",
    "library(stringi)"
   ]
  },
  {
   "cell_type": "code",
   "execution_count": null,
   "id": "e0846e48",
   "metadata": {
    "vscode": {
     "languageId": "r"
    }
   },
   "outputs": [
    {
     "name": "stdout",
     "output_type": "stream",
     "text": [
      "[1] 0\n"
     ]
    }
   ],
   "source": [
    "setwd(here::here()) # set working directory to project root\n",
    "getwd()\n"
   ]
  },
  {
   "cell_type": "code",
   "execution_count": 5,
   "id": "17243b8e",
   "metadata": {
    "vscode": {
     "languageId": "r"
    }
   },
   "outputs": [],
   "source": [
    "# read count matrix\n",
    "erna_exrs_matrix <- read.table(\"GSE126074_SNARE_seq/06_count_eRNA/erna_exrs_matrix.tsv\", header = TRUE, sep = \"\\t\", row.names = 1)\n"
   ]
  },
  {
   "cell_type": "code",
   "execution_count": 6,
   "id": "576bac6a",
   "metadata": {
    "vscode": {
     "languageId": "r"
    }
   },
   "outputs": [
    {
     "data": {
      "text/html": [
       "<table class=\"dataframe\">\n",
       "<caption>A data.frame: 10 × 10</caption>\n",
       "<thead>\n",
       "\t<tr><th></th><th scope=col>AAAAACGGCCTG</th><th scope=col>AAAACACTCCTG</th><th scope=col>AAAACCGGTACC</th><th scope=col>AAAACGCCTTTC</th><th scope=col>AAAAGTGTCACG</th><th scope=col>AAAATTCGATCA</th><th scope=col>AAACATCCCAGC</th><th scope=col>AAACCATTCTTC</th><th scope=col>AAACCCATGTAC</th><th scope=col>AAACCGCCATAT</th></tr>\n",
       "\t<tr><th></th><th scope=col>&lt;int&gt;</th><th scope=col>&lt;int&gt;</th><th scope=col>&lt;int&gt;</th><th scope=col>&lt;int&gt;</th><th scope=col>&lt;int&gt;</th><th scope=col>&lt;int&gt;</th><th scope=col>&lt;int&gt;</th><th scope=col>&lt;int&gt;</th><th scope=col>&lt;int&gt;</th><th scope=col>&lt;int&gt;</th></tr>\n",
       "</thead>\n",
       "<tbody>\n",
       "\t<tr><th scope=row>ENSR10_73CRCM</th><td>0</td><td>0</td><td>0</td><td>0</td><td>0</td><td>0</td><td>0</td><td>0</td><td>0</td><td>0</td></tr>\n",
       "\t<tr><th scope=row>ENSR10_73R2M6</th><td>0</td><td>0</td><td>0</td><td>0</td><td>0</td><td>0</td><td>0</td><td>0</td><td>0</td><td>0</td></tr>\n",
       "\t<tr><th scope=row>ENSR10_744KHP</th><td>0</td><td>0</td><td>0</td><td>0</td><td>0</td><td>0</td><td>0</td><td>0</td><td>0</td><td>0</td></tr>\n",
       "\t<tr><th scope=row>ENSR10_74JXL6</th><td>0</td><td>0</td><td>0</td><td>0</td><td>0</td><td>0</td><td>0</td><td>0</td><td>0</td><td>0</td></tr>\n",
       "\t<tr><th scope=row>ENSR10_755P8K</th><td>0</td><td>0</td><td>0</td><td>0</td><td>0</td><td>0</td><td>0</td><td>0</td><td>0</td><td>0</td></tr>\n",
       "\t<tr><th scope=row>ENSR10_75GLKG</th><td>0</td><td>0</td><td>0</td><td>0</td><td>0</td><td>0</td><td>0</td><td>0</td><td>0</td><td>0</td></tr>\n",
       "\t<tr><th scope=row>ENSR10_75J7R5</th><td>0</td><td>0</td><td>0</td><td>0</td><td>0</td><td>0</td><td>0</td><td>0</td><td>0</td><td>0</td></tr>\n",
       "\t<tr><th scope=row>ENSR10_75TMFL</th><td>0</td><td>0</td><td>0</td><td>0</td><td>0</td><td>0</td><td>0</td><td>0</td><td>0</td><td>0</td></tr>\n",
       "\t<tr><th scope=row>ENSR10_765W5T</th><td>0</td><td>0</td><td>0</td><td>0</td><td>0</td><td>0</td><td>0</td><td>0</td><td>0</td><td>0</td></tr>\n",
       "\t<tr><th scope=row>ENSR10_76P4C</th><td>0</td><td>0</td><td>0</td><td>0</td><td>0</td><td>0</td><td>0</td><td>0</td><td>0</td><td>0</td></tr>\n",
       "</tbody>\n",
       "</table>\n"
      ],
      "text/latex": [
       "A data.frame: 10 × 10\n",
       "\\begin{tabular}{r|llllllllll}\n",
       "  & AAAAACGGCCTG & AAAACACTCCTG & AAAACCGGTACC & AAAACGCCTTTC & AAAAGTGTCACG & AAAATTCGATCA & AAACATCCCAGC & AAACCATTCTTC & AAACCCATGTAC & AAACCGCCATAT\\\\\n",
       "  & <int> & <int> & <int> & <int> & <int> & <int> & <int> & <int> & <int> & <int>\\\\\n",
       "\\hline\n",
       "\tENSR10\\_73CRCM & 0 & 0 & 0 & 0 & 0 & 0 & 0 & 0 & 0 & 0\\\\\n",
       "\tENSR10\\_73R2M6 & 0 & 0 & 0 & 0 & 0 & 0 & 0 & 0 & 0 & 0\\\\\n",
       "\tENSR10\\_744KHP & 0 & 0 & 0 & 0 & 0 & 0 & 0 & 0 & 0 & 0\\\\\n",
       "\tENSR10\\_74JXL6 & 0 & 0 & 0 & 0 & 0 & 0 & 0 & 0 & 0 & 0\\\\\n",
       "\tENSR10\\_755P8K & 0 & 0 & 0 & 0 & 0 & 0 & 0 & 0 & 0 & 0\\\\\n",
       "\tENSR10\\_75GLKG & 0 & 0 & 0 & 0 & 0 & 0 & 0 & 0 & 0 & 0\\\\\n",
       "\tENSR10\\_75J7R5 & 0 & 0 & 0 & 0 & 0 & 0 & 0 & 0 & 0 & 0\\\\\n",
       "\tENSR10\\_75TMFL & 0 & 0 & 0 & 0 & 0 & 0 & 0 & 0 & 0 & 0\\\\\n",
       "\tENSR10\\_765W5T & 0 & 0 & 0 & 0 & 0 & 0 & 0 & 0 & 0 & 0\\\\\n",
       "\tENSR10\\_76P4C & 0 & 0 & 0 & 0 & 0 & 0 & 0 & 0 & 0 & 0\\\\\n",
       "\\end{tabular}\n"
      ],
      "text/markdown": [
       "\n",
       "A data.frame: 10 × 10\n",
       "\n",
       "| <!--/--> | AAAAACGGCCTG &lt;int&gt; | AAAACACTCCTG &lt;int&gt; | AAAACCGGTACC &lt;int&gt; | AAAACGCCTTTC &lt;int&gt; | AAAAGTGTCACG &lt;int&gt; | AAAATTCGATCA &lt;int&gt; | AAACATCCCAGC &lt;int&gt; | AAACCATTCTTC &lt;int&gt; | AAACCCATGTAC &lt;int&gt; | AAACCGCCATAT &lt;int&gt; |\n",
       "|---|---|---|---|---|---|---|---|---|---|---|\n",
       "| ENSR10_73CRCM | 0 | 0 | 0 | 0 | 0 | 0 | 0 | 0 | 0 | 0 |\n",
       "| ENSR10_73R2M6 | 0 | 0 | 0 | 0 | 0 | 0 | 0 | 0 | 0 | 0 |\n",
       "| ENSR10_744KHP | 0 | 0 | 0 | 0 | 0 | 0 | 0 | 0 | 0 | 0 |\n",
       "| ENSR10_74JXL6 | 0 | 0 | 0 | 0 | 0 | 0 | 0 | 0 | 0 | 0 |\n",
       "| ENSR10_755P8K | 0 | 0 | 0 | 0 | 0 | 0 | 0 | 0 | 0 | 0 |\n",
       "| ENSR10_75GLKG | 0 | 0 | 0 | 0 | 0 | 0 | 0 | 0 | 0 | 0 |\n",
       "| ENSR10_75J7R5 | 0 | 0 | 0 | 0 | 0 | 0 | 0 | 0 | 0 | 0 |\n",
       "| ENSR10_75TMFL | 0 | 0 | 0 | 0 | 0 | 0 | 0 | 0 | 0 | 0 |\n",
       "| ENSR10_765W5T | 0 | 0 | 0 | 0 | 0 | 0 | 0 | 0 | 0 | 0 |\n",
       "| ENSR10_76P4C | 0 | 0 | 0 | 0 | 0 | 0 | 0 | 0 | 0 | 0 |\n",
       "\n"
      ],
      "text/plain": [
       "              AAAAACGGCCTG AAAACACTCCTG AAAACCGGTACC AAAACGCCTTTC AAAAGTGTCACG\n",
       "ENSR10_73CRCM 0            0            0            0            0           \n",
       "ENSR10_73R2M6 0            0            0            0            0           \n",
       "ENSR10_744KHP 0            0            0            0            0           \n",
       "ENSR10_74JXL6 0            0            0            0            0           \n",
       "ENSR10_755P8K 0            0            0            0            0           \n",
       "ENSR10_75GLKG 0            0            0            0            0           \n",
       "ENSR10_75J7R5 0            0            0            0            0           \n",
       "ENSR10_75TMFL 0            0            0            0            0           \n",
       "ENSR10_765W5T 0            0            0            0            0           \n",
       "ENSR10_76P4C  0            0            0            0            0           \n",
       "              AAAATTCGATCA AAACATCCCAGC AAACCATTCTTC AAACCCATGTAC AAACCGCCATAT\n",
       "ENSR10_73CRCM 0            0            0            0            0           \n",
       "ENSR10_73R2M6 0            0            0            0            0           \n",
       "ENSR10_744KHP 0            0            0            0            0           \n",
       "ENSR10_74JXL6 0            0            0            0            0           \n",
       "ENSR10_755P8K 0            0            0            0            0           \n",
       "ENSR10_75GLKG 0            0            0            0            0           \n",
       "ENSR10_75J7R5 0            0            0            0            0           \n",
       "ENSR10_75TMFL 0            0            0            0            0           \n",
       "ENSR10_765W5T 0            0            0            0            0           \n",
       "ENSR10_76P4C  0            0            0            0            0           "
      ]
     },
     "metadata": {},
     "output_type": "display_data"
    }
   ],
   "source": [
    "erna_exrs_matrix[1:10,1:10]"
   ]
  },
  {
   "cell_type": "markdown",
   "id": "37923ca8",
   "metadata": {},
   "source": []
  },
  {
   "cell_type": "code",
   "execution_count": 7,
   "id": "f5edb05a",
   "metadata": {
    "vscode": {
     "languageId": "r"
    }
   },
   "outputs": [],
   "source": [
    "# remove rows that are not eRNAs\n",
    "ro_remove =  c(\"__no_feature\", \"__ambiguous\", \"__too_low_aQual\", \n",
    "\"__not_aligned\", \"__alignment_not_unique\")\n",
    "erna_exrs_matrix <- erna_exrs_matrix[!rownames(erna_exrs_matrix) %in% ro_remove, ]"
   ]
  },
  {
   "cell_type": "code",
   "execution_count": 8,
   "id": "6a6e0050",
   "metadata": {
    "vscode": {
     "languageId": "r"
    }
   },
   "outputs": [
    {
     "data": {
      "text/html": [
       "<style>\n",
       ".list-inline {list-style: none; margin:0; padding: 0}\n",
       ".list-inline>li {display: inline-block}\n",
       ".list-inline>li:not(:last-child)::after {content: \"\\00b7\"; padding: 0 .5ex}\n",
       "</style>\n",
       "<ol class=list-inline><li>42331</li><li>1047</li></ol>\n"
      ],
      "text/latex": [
       "\\begin{enumerate*}\n",
       "\\item 42331\n",
       "\\item 1047\n",
       "\\end{enumerate*}\n"
      ],
      "text/markdown": [
       "1. 42331\n",
       "2. 1047\n",
       "\n",
       "\n"
      ],
      "text/plain": [
       "[1] 42331  1047"
      ]
     },
     "metadata": {},
     "output_type": "display_data"
    }
   ],
   "source": [
    "dim(erna_exrs_matrix)"
   ]
  },
  {
   "cell_type": "code",
   "execution_count": 9,
   "id": "d14cc9e7",
   "metadata": {
    "vscode": {
     "languageId": "r"
    }
   },
   "outputs": [
    {
     "data": {
      "text/html": [
       "'unexpressed cells: 730 out of 1047'"
      ],
      "text/latex": [
       "'unexpressed cells: 730 out of 1047'"
      ],
      "text/markdown": [
       "'unexpressed cells: 730 out of 1047'"
      ],
      "text/plain": [
       "[1] \"unexpressed cells: 730 out of 1047\""
      ]
     },
     "metadata": {},
     "output_type": "display_data"
    },
    {
     "data": {
      "text/html": [
       "'unexpressed eRNA: 41995 out of 42331'"
      ],
      "text/latex": [
       "'unexpressed eRNA: 41995 out of 42331'"
      ],
      "text/markdown": [
       "'unexpressed eRNA: 41995 out of 42331'"
      ],
      "text/plain": [
       "[1] \"unexpressed eRNA: 41995 out of 42331\""
      ]
     },
     "metadata": {},
     "output_type": "display_data"
    }
   ],
   "source": [
    "# unexpressed cells count\n",
    "unexpr_cells = colSums(erna_exrs_matrix==0)\n",
    "paste0(\"unexpressed cells: \", sum(unexpr_cells==nrow(erna_exrs_matrix)),\" out of \", ncol(erna_exrs_matrix))\n",
    "# unexpssed rows count\n",
    "unexpr_rows = rowSums(erna_exrs_matrix==0)\n",
    "paste0(\"unexpressed eRNA: \", sum(unexpr_rows==ncol(erna_exrs_matrix)),\" out of \", nrow(erna_exrs_matrix))\n",
    "\n"
   ]
  },
  {
   "cell_type": "code",
   "execution_count": 10,
   "id": "77a33100",
   "metadata": {
    "vscode": {
     "languageId": "r"
    }
   },
   "outputs": [
    {
     "name": "stdout",
     "output_type": "stream",
     "text": [
      "[1] \" precent of zeros: 0.999991358411854\"\n",
      "[1] \"number of cells with more than 0 counts: 317\"\n",
      "[1] \"number of eRNAs with more than 0 counts: 336\"\n"
     ]
    }
   ],
   "source": [
    "# precent of zeros in the matrix\n",
    "print(paste0(\" precent of zeros: \",sum(erna_exrs_matrix == 0) / (nrow(erna_exrs_matrix) * ncol(erna_exrs_matrix))))\n",
    "\n",
    "# number of cells with more than 0 counts\n",
    "print(paste0(\"number of cells with more than 0 counts: \", sum(colSums(erna_exrs_matrix) > 0)))\n",
    "\n",
    "# number of eRNAs with more than 0 counts\n",
    "print(paste0(\"number of eRNAs with more than 0 counts: \", sum(rowSums(erna_exrs_matrix) > 0)))\n"
   ]
  },
  {
   "cell_type": "code",
   "execution_count": 11,
   "id": "601051ea",
   "metadata": {
    "vscode": {
     "languageId": "r"
    }
   },
   "outputs": [],
   "source": [
    "# filter the matrix to only include expressed eRNAs and cells with more than 0 counts\n",
    "expressed_erna_exrs_matrix <- erna_exrs_matrix[rowSums(erna_exrs_matrix) > 0,colSums(erna_exrs_matrix) > 0]"
   ]
  },
  {
   "cell_type": "code",
   "execution_count": 12,
   "id": "9897466c",
   "metadata": {
    "vscode": {
     "languageId": "r"
    }
   },
   "outputs": [
    {
     "data": {
      "text/html": [
       "<style>\n",
       ".dl-inline {width: auto; margin:0; padding: 0}\n",
       ".dl-inline>dt, .dl-inline>dd {float: none; width: auto; display: inline-block}\n",
       ".dl-inline>dt::after {content: \":\\0020\"; padding-right: .5ex}\n",
       ".dl-inline>dt:not(:first-of-type) {padding-left: .5ex}\n",
       "</style><dl class=dl-inline><dt>AAACCGCCATAT</dt><dd>1</dd><dt>AAACGAAAAGTC</dt><dd>1</dd><dt>AAAGTGCCACAT</dt><dd>2</dd><dt>AAATACGCCAAG</dt><dd>1</dd><dt>AAATCGATGAAT</dt><dd>1</dd><dt>AAATTCAGGCGG</dt><dd>1</dd><dt>AACATCCCTGAG</dt><dd>1</dd><dt>AACCATAGTTAG</dt><dd>1</dd><dt>AACCCACGTGGT</dt><dd>1</dd><dt>AACGTCCTACTA</dt><dd>1</dd><dt>AACTAGCCAAAG</dt><dd>1</dd><dt>AACTCAGTTATG</dt><dd>1</dd><dt>AACTTGGGACTT</dt><dd>1</dd><dt>AAGCCTGTTGTA</dt><dd>1</dd><dt>AAGCTGGACGAT</dt><dd>1</dd><dt>AAGGAGAAATGT</dt><dd>1</dd><dt>AAGGGTGCTAAC</dt><dd>1</dd><dt>AAGGTGTCTCCA</dt><dd>2</dd><dt>AAGTCGATCAAC</dt><dd>1</dd><dt>AATAAATCTATC</dt><dd>1</dd><dt>AATCTATGTCGC</dt><dd>2</dd><dt>AATTTGGGAGCA</dt><dd>1</dd><dt>ACAAATAACAGT</dt><dd>2</dd><dt>ACAGAGAGGACA</dt><dd>1</dd><dt>ACCCGGGAACGA</dt><dd>1</dd><dt>ACCCTGGAAACC</dt><dd>2</dd><dt>ACCCTGGAGACG</dt><dd>1</dd><dt>ACCGGTAGCTGA</dt><dd>1</dd><dt>ACCGTTTCTCTC</dt><dd>1</dd><dt>ACGCTTATGACC</dt><dd>2</dd><dt>ACGTCATCCGTA</dt><dd>1</dd><dt>ACGTTCCGAGAA</dt><dd>1</dd><dt>ACTAAAGGCCTC</dt><dd>2</dd><dt>ACTCCGTTCACT</dt><dd>1</dd><dt>ACTGCCTATGGA</dt><dd>1</dd><dt>ACTTACAGCGTG</dt><dd>1</dd><dt>ACTTGACTTGGC</dt><dd>1</dd><dt>ACTTGGTTCAAG</dt><dd>1</dd><dt>ACTTTCTAATCA</dt><dd>1</dd><dt>AGAGAAGGTTCC</dt><dd>1</dd><dt>AGATGGGCCGAA</dt><dd>1</dd><dt>AGCACCGTATTT</dt><dd>1</dd><dt>AGCCAATACCCT</dt><dd>1</dd><dt>AGCCCCTCACGC</dt><dd>1</dd><dt>AGCCTTAGAACA</dt><dd>1</dd><dt>AGCGTATACTAA</dt><dd>1</dd><dt>AGCGTTGCGAGC</dt><dd>1</dd><dt>AGGCTTCGTAAC</dt><dd>1</dd><dt>AGGGCGTTGTAG</dt><dd>1</dd><dt>AGGGTCCGAATT</dt><dd>2</dd><dt>AGGTCGACGCGT</dt><dd>1</dd><dt>AGGTGACCACTC</dt><dd>1</dd><dt>AGGTGTGTGTCC</dt><dd>2</dd><dt>AGTCGTTTTCGA</dt><dd>1</dd><dt>AGTCTAAGGTTA</dt><dd>2</dd><dt>AGTCTCCTACTC</dt><dd>1</dd><dt>AGTGTTAGCTTT</dt><dd>1</dd><dt>AGTTTTAGATTA</dt><dd>1</dd><dt>ATAAGCGACGAA</dt><dd>1</dd><dt>ATACAGTCGTCA</dt><dd>1</dd><dt>ATACGACGATTC</dt><dd>1</dd><dt>ATATCAGCCAGA</dt><dd>1</dd><dt>ATATTTTGCTAT</dt><dd>1</dd><dt>ATCAACTAGAAT</dt><dd>1</dd><dt>ATCACAGGCACG</dt><dd>1</dd><dt>ATCACGGTCCAC</dt><dd>1</dd><dt>ATCCCCCAGGGA</dt><dd>1</dd><dt>ATCCTCTTACAT</dt><dd>2</dd><dt>ATCGCGTGTATC</dt><dd>1</dd><dt>ATCGGGCAAACG</dt><dd>1</dd><dt>ATCGTTGGGCTG</dt><dd>1</dd><dt>ATCTCGTGGTGC</dt><dd>1</dd><dt>ATGACTTACGCA</dt><dd>2</dd><dt>ATGTAATTTGTC</dt><dd>1</dd><dt>ATGTGAGGGTGG</dt><dd>1</dd><dt>ATTGAGCAGGAT</dt><dd>1</dd><dt>ATTGGTCAATTA</dt><dd>3</dd><dt>ATTGTTGACTAA</dt><dd>1</dd><dt>CAACTTGGAAAT</dt><dd>1</dd><dt>CAAGACCGAGAA</dt><dd>1</dd><dt>CAAGGCTGAACT</dt><dd>1</dd><dt>CAAGTTAGGTCC</dt><dd>1</dd><dt>CACGCCAACTCT</dt><dd>1</dd><dt>CACTCGGATAAT</dt><dd>1</dd><dt>CACTGAAGGACC</dt><dd>2</dd><dt>CAGCAGTGAGAA</dt><dd>1</dd><dt>CAGTGCCCATCT</dt><dd>1</dd><dt>CATCTATCAAGG</dt><dd>1</dd><dt>CATTGCGATCCT</dt><dd>2</dd><dt>CCAACCGTAGAT</dt><dd>1</dd><dt>CCACCGAGCAAA</dt><dd>1</dd><dt>CCACGGAGACAA</dt><dd>1</dd><dt>CCACTTAGAGAC</dt><dd>1</dd><dt>CCAGATCGAAGA</dt><dd>1</dd><dt>CCATTAGCGACA</dt><dd>1</dd><dt>CCCAACATGGAT</dt><dd>2</dd><dt>CCCACCTTATTT</dt><dd>2</dd><dt>CCCACTGTGGGT</dt><dd>1</dd><dt>CCCCCCTGGGCT</dt><dd>2</dd><dt>CCCCTCAGAGCG</dt><dd>1</dd></dl>\n"
      ],
      "text/latex": [
       "\\begin{description*}\n",
       "\\item[AAACCGCCATAT] 1\n",
       "\\item[AAACGAAAAGTC] 1\n",
       "\\item[AAAGTGCCACAT] 2\n",
       "\\item[AAATACGCCAAG] 1\n",
       "\\item[AAATCGATGAAT] 1\n",
       "\\item[AAATTCAGGCGG] 1\n",
       "\\item[AACATCCCTGAG] 1\n",
       "\\item[AACCATAGTTAG] 1\n",
       "\\item[AACCCACGTGGT] 1\n",
       "\\item[AACGTCCTACTA] 1\n",
       "\\item[AACTAGCCAAAG] 1\n",
       "\\item[AACTCAGTTATG] 1\n",
       "\\item[AACTTGGGACTT] 1\n",
       "\\item[AAGCCTGTTGTA] 1\n",
       "\\item[AAGCTGGACGAT] 1\n",
       "\\item[AAGGAGAAATGT] 1\n",
       "\\item[AAGGGTGCTAAC] 1\n",
       "\\item[AAGGTGTCTCCA] 2\n",
       "\\item[AAGTCGATCAAC] 1\n",
       "\\item[AATAAATCTATC] 1\n",
       "\\item[AATCTATGTCGC] 2\n",
       "\\item[AATTTGGGAGCA] 1\n",
       "\\item[ACAAATAACAGT] 2\n",
       "\\item[ACAGAGAGGACA] 1\n",
       "\\item[ACCCGGGAACGA] 1\n",
       "\\item[ACCCTGGAAACC] 2\n",
       "\\item[ACCCTGGAGACG] 1\n",
       "\\item[ACCGGTAGCTGA] 1\n",
       "\\item[ACCGTTTCTCTC] 1\n",
       "\\item[ACGCTTATGACC] 2\n",
       "\\item[ACGTCATCCGTA] 1\n",
       "\\item[ACGTTCCGAGAA] 1\n",
       "\\item[ACTAAAGGCCTC] 2\n",
       "\\item[ACTCCGTTCACT] 1\n",
       "\\item[ACTGCCTATGGA] 1\n",
       "\\item[ACTTACAGCGTG] 1\n",
       "\\item[ACTTGACTTGGC] 1\n",
       "\\item[ACTTGGTTCAAG] 1\n",
       "\\item[ACTTTCTAATCA] 1\n",
       "\\item[AGAGAAGGTTCC] 1\n",
       "\\item[AGATGGGCCGAA] 1\n",
       "\\item[AGCACCGTATTT] 1\n",
       "\\item[AGCCAATACCCT] 1\n",
       "\\item[AGCCCCTCACGC] 1\n",
       "\\item[AGCCTTAGAACA] 1\n",
       "\\item[AGCGTATACTAA] 1\n",
       "\\item[AGCGTTGCGAGC] 1\n",
       "\\item[AGGCTTCGTAAC] 1\n",
       "\\item[AGGGCGTTGTAG] 1\n",
       "\\item[AGGGTCCGAATT] 2\n",
       "\\item[AGGTCGACGCGT] 1\n",
       "\\item[AGGTGACCACTC] 1\n",
       "\\item[AGGTGTGTGTCC] 2\n",
       "\\item[AGTCGTTTTCGA] 1\n",
       "\\item[AGTCTAAGGTTA] 2\n",
       "\\item[AGTCTCCTACTC] 1\n",
       "\\item[AGTGTTAGCTTT] 1\n",
       "\\item[AGTTTTAGATTA] 1\n",
       "\\item[ATAAGCGACGAA] 1\n",
       "\\item[ATACAGTCGTCA] 1\n",
       "\\item[ATACGACGATTC] 1\n",
       "\\item[ATATCAGCCAGA] 1\n",
       "\\item[ATATTTTGCTAT] 1\n",
       "\\item[ATCAACTAGAAT] 1\n",
       "\\item[ATCACAGGCACG] 1\n",
       "\\item[ATCACGGTCCAC] 1\n",
       "\\item[ATCCCCCAGGGA] 1\n",
       "\\item[ATCCTCTTACAT] 2\n",
       "\\item[ATCGCGTGTATC] 1\n",
       "\\item[ATCGGGCAAACG] 1\n",
       "\\item[ATCGTTGGGCTG] 1\n",
       "\\item[ATCTCGTGGTGC] 1\n",
       "\\item[ATGACTTACGCA] 2\n",
       "\\item[ATGTAATTTGTC] 1\n",
       "\\item[ATGTGAGGGTGG] 1\n",
       "\\item[ATTGAGCAGGAT] 1\n",
       "\\item[ATTGGTCAATTA] 3\n",
       "\\item[ATTGTTGACTAA] 1\n",
       "\\item[CAACTTGGAAAT] 1\n",
       "\\item[CAAGACCGAGAA] 1\n",
       "\\item[CAAGGCTGAACT] 1\n",
       "\\item[CAAGTTAGGTCC] 1\n",
       "\\item[CACGCCAACTCT] 1\n",
       "\\item[CACTCGGATAAT] 1\n",
       "\\item[CACTGAAGGACC] 2\n",
       "\\item[CAGCAGTGAGAA] 1\n",
       "\\item[CAGTGCCCATCT] 1\n",
       "\\item[CATCTATCAAGG] 1\n",
       "\\item[CATTGCGATCCT] 2\n",
       "\\item[CCAACCGTAGAT] 1\n",
       "\\item[CCACCGAGCAAA] 1\n",
       "\\item[CCACGGAGACAA] 1\n",
       "\\item[CCACTTAGAGAC] 1\n",
       "\\item[CCAGATCGAAGA] 1\n",
       "\\item[CCATTAGCGACA] 1\n",
       "\\item[CCCAACATGGAT] 2\n",
       "\\item[CCCACCTTATTT] 2\n",
       "\\item[CCCACTGTGGGT] 1\n",
       "\\item[CCCCCCTGGGCT] 2\n",
       "\\item[CCCCTCAGAGCG] 1\n",
       "\\end{description*}\n"
      ],
      "text/markdown": [
       "AAACCGCCATAT\n",
       ":   1AAACGAAAAGTC\n",
       ":   1AAAGTGCCACAT\n",
       ":   2AAATACGCCAAG\n",
       ":   1AAATCGATGAAT\n",
       ":   1AAATTCAGGCGG\n",
       ":   1AACATCCCTGAG\n",
       ":   1AACCATAGTTAG\n",
       ":   1AACCCACGTGGT\n",
       ":   1AACGTCCTACTA\n",
       ":   1AACTAGCCAAAG\n",
       ":   1AACTCAGTTATG\n",
       ":   1AACTTGGGACTT\n",
       ":   1AAGCCTGTTGTA\n",
       ":   1AAGCTGGACGAT\n",
       ":   1AAGGAGAAATGT\n",
       ":   1AAGGGTGCTAAC\n",
       ":   1AAGGTGTCTCCA\n",
       ":   2AAGTCGATCAAC\n",
       ":   1AATAAATCTATC\n",
       ":   1AATCTATGTCGC\n",
       ":   2AATTTGGGAGCA\n",
       ":   1ACAAATAACAGT\n",
       ":   2ACAGAGAGGACA\n",
       ":   1ACCCGGGAACGA\n",
       ":   1ACCCTGGAAACC\n",
       ":   2ACCCTGGAGACG\n",
       ":   1ACCGGTAGCTGA\n",
       ":   1ACCGTTTCTCTC\n",
       ":   1ACGCTTATGACC\n",
       ":   2ACGTCATCCGTA\n",
       ":   1ACGTTCCGAGAA\n",
       ":   1ACTAAAGGCCTC\n",
       ":   2ACTCCGTTCACT\n",
       ":   1ACTGCCTATGGA\n",
       ":   1ACTTACAGCGTG\n",
       ":   1ACTTGACTTGGC\n",
       ":   1ACTTGGTTCAAG\n",
       ":   1ACTTTCTAATCA\n",
       ":   1AGAGAAGGTTCC\n",
       ":   1AGATGGGCCGAA\n",
       ":   1AGCACCGTATTT\n",
       ":   1AGCCAATACCCT\n",
       ":   1AGCCCCTCACGC\n",
       ":   1AGCCTTAGAACA\n",
       ":   1AGCGTATACTAA\n",
       ":   1AGCGTTGCGAGC\n",
       ":   1AGGCTTCGTAAC\n",
       ":   1AGGGCGTTGTAG\n",
       ":   1AGGGTCCGAATT\n",
       ":   2AGGTCGACGCGT\n",
       ":   1AGGTGACCACTC\n",
       ":   1AGGTGTGTGTCC\n",
       ":   2AGTCGTTTTCGA\n",
       ":   1AGTCTAAGGTTA\n",
       ":   2AGTCTCCTACTC\n",
       ":   1AGTGTTAGCTTT\n",
       ":   1AGTTTTAGATTA\n",
       ":   1ATAAGCGACGAA\n",
       ":   1ATACAGTCGTCA\n",
       ":   1ATACGACGATTC\n",
       ":   1ATATCAGCCAGA\n",
       ":   1ATATTTTGCTAT\n",
       ":   1ATCAACTAGAAT\n",
       ":   1ATCACAGGCACG\n",
       ":   1ATCACGGTCCAC\n",
       ":   1ATCCCCCAGGGA\n",
       ":   1ATCCTCTTACAT\n",
       ":   2ATCGCGTGTATC\n",
       ":   1ATCGGGCAAACG\n",
       ":   1ATCGTTGGGCTG\n",
       ":   1ATCTCGTGGTGC\n",
       ":   1ATGACTTACGCA\n",
       ":   2ATGTAATTTGTC\n",
       ":   1ATGTGAGGGTGG\n",
       ":   1ATTGAGCAGGAT\n",
       ":   1ATTGGTCAATTA\n",
       ":   3ATTGTTGACTAA\n",
       ":   1CAACTTGGAAAT\n",
       ":   1CAAGACCGAGAA\n",
       ":   1CAAGGCTGAACT\n",
       ":   1CAAGTTAGGTCC\n",
       ":   1CACGCCAACTCT\n",
       ":   1CACTCGGATAAT\n",
       ":   1CACTGAAGGACC\n",
       ":   2CAGCAGTGAGAA\n",
       ":   1CAGTGCCCATCT\n",
       ":   1CATCTATCAAGG\n",
       ":   1CATTGCGATCCT\n",
       ":   2CCAACCGTAGAT\n",
       ":   1CCACCGAGCAAA\n",
       ":   1CCACGGAGACAA\n",
       ":   1CCACTTAGAGAC\n",
       ":   1CCAGATCGAAGA\n",
       ":   1CCATTAGCGACA\n",
       ":   1CCCAACATGGAT\n",
       ":   2CCCACCTTATTT\n",
       ":   2CCCACTGTGGGT\n",
       ":   1CCCCCCTGGGCT\n",
       ":   2CCCCTCAGAGCG\n",
       ":   1\n",
       "\n"
      ],
      "text/plain": [
       "AAACCGCCATAT AAACGAAAAGTC AAAGTGCCACAT AAATACGCCAAG AAATCGATGAAT AAATTCAGGCGG \n",
       "           1            1            2            1            1            1 \n",
       "AACATCCCTGAG AACCATAGTTAG AACCCACGTGGT AACGTCCTACTA AACTAGCCAAAG AACTCAGTTATG \n",
       "           1            1            1            1            1            1 \n",
       "AACTTGGGACTT AAGCCTGTTGTA AAGCTGGACGAT AAGGAGAAATGT AAGGGTGCTAAC AAGGTGTCTCCA \n",
       "           1            1            1            1            1            2 \n",
       "AAGTCGATCAAC AATAAATCTATC AATCTATGTCGC AATTTGGGAGCA ACAAATAACAGT ACAGAGAGGACA \n",
       "           1            1            2            1            2            1 \n",
       "ACCCGGGAACGA ACCCTGGAAACC ACCCTGGAGACG ACCGGTAGCTGA ACCGTTTCTCTC ACGCTTATGACC \n",
       "           1            2            1            1            1            2 \n",
       "ACGTCATCCGTA ACGTTCCGAGAA ACTAAAGGCCTC ACTCCGTTCACT ACTGCCTATGGA ACTTACAGCGTG \n",
       "           1            1            2            1            1            1 \n",
       "ACTTGACTTGGC ACTTGGTTCAAG ACTTTCTAATCA AGAGAAGGTTCC AGATGGGCCGAA AGCACCGTATTT \n",
       "           1            1            1            1            1            1 \n",
       "AGCCAATACCCT AGCCCCTCACGC AGCCTTAGAACA AGCGTATACTAA AGCGTTGCGAGC AGGCTTCGTAAC \n",
       "           1            1            1            1            1            1 \n",
       "AGGGCGTTGTAG AGGGTCCGAATT AGGTCGACGCGT AGGTGACCACTC AGGTGTGTGTCC AGTCGTTTTCGA \n",
       "           1            2            1            1            2            1 \n",
       "AGTCTAAGGTTA AGTCTCCTACTC AGTGTTAGCTTT AGTTTTAGATTA ATAAGCGACGAA ATACAGTCGTCA \n",
       "           2            1            1            1            1            1 \n",
       "ATACGACGATTC ATATCAGCCAGA ATATTTTGCTAT ATCAACTAGAAT ATCACAGGCACG ATCACGGTCCAC \n",
       "           1            1            1            1            1            1 \n",
       "ATCCCCCAGGGA ATCCTCTTACAT ATCGCGTGTATC ATCGGGCAAACG ATCGTTGGGCTG ATCTCGTGGTGC \n",
       "           1            2            1            1            1            1 \n",
       "ATGACTTACGCA ATGTAATTTGTC ATGTGAGGGTGG ATTGAGCAGGAT ATTGGTCAATTA ATTGTTGACTAA \n",
       "           2            1            1            1            3            1 \n",
       "CAACTTGGAAAT CAAGACCGAGAA CAAGGCTGAACT CAAGTTAGGTCC CACGCCAACTCT CACTCGGATAAT \n",
       "           1            1            1            1            1            1 \n",
       "CACTGAAGGACC CAGCAGTGAGAA CAGTGCCCATCT CATCTATCAAGG CATTGCGATCCT CCAACCGTAGAT \n",
       "           2            1            1            1            2            1 \n",
       "CCACCGAGCAAA CCACGGAGACAA CCACTTAGAGAC CCAGATCGAAGA CCATTAGCGACA CCCAACATGGAT \n",
       "           1            1            1            1            1            2 \n",
       "CCCACCTTATTT CCCACTGTGGGT CCCCCCTGGGCT CCCCTCAGAGCG \n",
       "           2            1            2            1 "
      ]
     },
     "metadata": {},
     "output_type": "display_data"
    }
   ],
   "source": [
    "# show first 100 sums of cells\n",
    "colSums(expressed_erna_exrs_matrix) %>% head(100)"
   ]
  },
  {
   "cell_type": "code",
   "execution_count": 13,
   "id": "e21e490c",
   "metadata": {
    "vscode": {
     "languageId": "r"
    }
   },
   "outputs": [
    {
     "data": {
      "image/png": "[encoded data removed]",
      "text/plain": [
       "plot without title"
      ]
     },
     "metadata": {
      "image/png": {
       "height": 420,
       "width": 420
      }
     },
     "output_type": "display_data"
    },
    {
     "data": {
      "image/png": "[encoded data removed]",
      "text/plain": [
       "plot without title"
      ]
     },
     "metadata": {
      "image/png": {
       "height": 420,
       "width": 420
      }
     },
     "output_type": "display_data"
    }
   ],
   "source": [
    "# violin plot of column sums with jittered points\n",
    "data_cols = data.frame(sum = colSums(expressed_erna_exrs_matrix))\n",
    "library(ggplot2)\n",
    "p = ggplot(data_cols, aes(x = \"\", y = sum)) +\n",
    "  geom_violin(fill = \"lightblue\") +\n",
    "  geom_boxplot(width = 0.1, fill = \"lightgreen\") +\n",
    "  geom_jitter(width = 0.1, alpha = 0.5, color = \"blue\",height = 0) +\n",
    "  labs(title = \"Violin plot of cells sums\", x = \"\", y = \"Column sums\") +\n",
    "  theme_minimal()\n",
    "\n",
    "print(p)\n",
    "# violin plot of row sums\n",
    "data_rows = data.frame(sum = rowSums(expressed_erna_exrs_matrix))\n",
    "p = ggplot(data_rows, aes(x = \"\", y = sum)) +\n",
    "  geom_violin(fill = \"lightblue\") +\n",
    "  geom_boxplot(width = 0.1, fill = \"lightgreen\") +\n",
    "  geom_jitter(width = 0.1, alpha = 0.5, color = \"blue\",height = 0) +\n",
    "  labs(title = \"Violin plot of enhancers sums\", x = \"\", y = \"Row sums\") +\n",
    "  theme_minimal()\n",
    "p\n",
    "\n",
    "\n"
   ]
  },
  {
   "cell_type": "code",
   "execution_count": null,
   "id": "a00ea010",
   "metadata": {
    "vscode": {
     "languageId": "r"
    }
   },
   "outputs": [
    {
     "name": "stdout",
     "output_type": "stream",
     "text": [
      "  Var1 Freq\n",
      "1    1  250\n",
      "2    2   59\n",
      "3    3    6\n",
      "4    4    1\n",
      "5    5    1\n"
     ]
    },
    {
     "name": "stdout",
     "output_type": "stream",
     "text": [
      "  Var1 Freq\n",
      "1    1  307\n",
      "2    2   23\n",
      "3    3    3\n",
      "4    5    1\n",
      "5    6    1\n",
      "6   22    1\n"
     ]
    },
    {
     "data": {
      "image/png": "[encoded data removed]",
      "text/plain": [
       "plot without title"
      ]
     },
     "metadata": {
      "image/png": {
       "height": 420,
       "width": 420
      }
     },
     "output_type": "display_data"
    },
    {
     "data": {
      "image/png": "[encoded data removed]",
      "text/plain": [
       "plot without title"
      ]
     },
     "metadata": {
      "image/png": {
       "height": 420,
       "width": 420
      }
     },
     "output_type": "display_data"
    }
   ],
   "source": [
    "#bar plot of rows distribution\n",
    "table_data = as.data.frame(table(data_cols$sum))\n",
    "print(table_data)\n",
    "colnames(table_data) = c(\"num_of_expressed_erna\", \"cells_count\")\n",
    "table_data$expression = as.factor(table_data$num_of_expressed_erna)\n",
    "p = ggplot(table_data, aes(x = num_of_expressed_erna, y = cells_count)) +\n",
    "  geom_bar(stat = \"identity\", fill = \"lightblue\") +\n",
    "  labs(title = \"Cells expression counts distribution\") +\n",
    "  theme_minimal()\n",
    "\n",
    "p\n",
    "\n",
    "# bar plot of  cells distribution\n",
    "table_data = as.data.frame(table(data_rows$sum))\n",
    "print(table_data)\n",
    "colnames(table_data) = c(\"num_of_expressed_cells\", \"count\")\n",
    "table_data$expression = as.factor(table_data$num_of_expressed_cells)\n",
    "p = ggplot(table_data, aes(x = num_of_expressed_cells, y = count)) +\n",
    "  geom_bar(stat = \"identity\", fill = \"lightblue\") +\n",
    "  theme_minimal()\n",
    "p \n",
    "\n",
    "\n"
   ]
  },
  {
   "cell_type": "code",
   "execution_count": null,
   "id": "5117c4b8",
   "metadata": {
    "vscode": {
     "languageId": "r"
    }
   },
   "outputs": [],
   "source": [
    "#complex heatmap of the matrix\n",
    "library(ComplexHeatmap)\n",
    "library(circlize)\n",
    "row_labels = rownames(expressed_erna_exrs_matrix)\n",
    "# show only every 100th label\n",
    "row_labels[!((1:length(row_labels)) %% 100 == 1)] <- \"\"\n",
    "#same for column labels\n",
    "column_labels = colnames(expressed_erna_exrs_matrix)\n",
    "column_labels[!((1:length(column_labels)) %% 100 == 1)] <- \"\"\n",
    "p = Heatmap(as.matrix(expressed_erna_exrs_matrix), name = \"eRNA expression\", col = colorRamp2(c(0, 1, 5, 10, 20),\n",
    " c(\"white\", \"lightblue\", \"blue\", \"darkblue\", \"black\")),row_labels = row_labels, column_labels = column_labels, cluster_rows = F, cluster_columns = F,)\n",
    "p"
   ]
  },
  {
   "cell_type": "code",
   "execution_count": null,
   "id": "c0c17826",
   "metadata": {
    "vscode": {
     "languageId": "r"
    }
   },
   "outputs": [],
   "source": [
    "#save p  as pdf\n",
    "pdf(\"GSE126074_SNARE_seq/08_counts_analysis//erna_exrs_heatmap.pdf\", width = 10, height = 10)\n",
    "print(p)\n",
    "dev.off()"
   ]
  },
  {
   "cell_type": "code",
   "execution_count": null,
   "id": "5a8eb328",
   "metadata": {
    "vscode": {
     "languageId": "r"
    }
   },
   "outputs": [],
   "source": [
    "#read GSE126074_SNARE_seq/07_regions_to_erna/associated_enhancers_with_chromatin.bed\n",
    "associated_enhancers_with_chromatin <- read.table(\"GSE126074_SNARE_seq/07_regions_to_erna/associated_enhancers_with_chromatin.bed\", header = FALSE, sep = \"\\t\")\n"
   ]
  },
  {
   "cell_type": "code",
   "execution_count": null,
   "id": "7e374cd9",
   "metadata": {
    "vscode": {
     "languageId": "r"
    }
   },
   "outputs": [
    {
     "data": {
      "text/html": [
       "<table class=\"dataframe\">\n",
       "<caption>A data.frame: 6 × 10</caption>\n",
       "<thead>\n",
       "\t<tr><th></th><th scope=col>chr</th><th scope=col>start</th><th scope=col>end</th><th scope=col>region</th><th scope=col>erna_chr</th><th scope=col>erna_start</th><th scope=col>erna_end</th><th scope=col>erna_id</th><th scope=col>type</th><th scope=col>overlap_bp</th></tr>\n",
       "\t<tr><th></th><th scope=col>&lt;chr&gt;</th><th scope=col>&lt;int&gt;</th><th scope=col>&lt;int&gt;</th><th scope=col>&lt;chr&gt;</th><th scope=col>&lt;chr&gt;</th><th scope=col>&lt;int&gt;</th><th scope=col>&lt;int&gt;</th><th scope=col>&lt;chr&gt;</th><th scope=col>&lt;chr&gt;</th><th scope=col>&lt;int&gt;</th></tr>\n",
       "</thead>\n",
       "<tbody>\n",
       "\t<tr><th scope=row>1</th><td>2 </td><td>148881654</td><td>148881927</td><td>chr2:148881654-148881927</td><td>.</td><td>       -1</td><td>       -1</td><td>.           </td><td>.       </td><td>  0</td></tr>\n",
       "\t<tr><th scope=row>2</th><td>8 </td><td> 99495798</td><td> 99496023</td><td>chr8:99495798-99496023  </td><td>.</td><td>       -1</td><td>       -1</td><td>.           </td><td>.       </td><td>  0</td></tr>\n",
       "\t<tr><th scope=row>3</th><td>22</td><td> 21735444</td><td> 21736416</td><td>chr22:21735444-21736416 </td><td>.</td><td>       -1</td><td>       -1</td><td>.           </td><td>.       </td><td>  0</td></tr>\n",
       "\t<tr><th scope=row>4</th><td>3 </td><td> 28241304</td><td> 28242015</td><td>chr3:28241304-28242015  </td><td>.</td><td>       -1</td><td>       -1</td><td>.           </td><td>.       </td><td>  0</td></tr>\n",
       "\t<tr><th scope=row>5</th><td>5 </td><td>154627638</td><td>154628386</td><td>chr5:154627638-154628386</td><td>5</td><td>154627657</td><td>154628356</td><td>ENSR5_B35NJX</td><td>enhancer</td><td>699</td></tr>\n",
       "\t<tr><th scope=row>6</th><td>15</td><td> 79338695</td><td> 79338894</td><td>chr15:79338695-79338894 </td><td>.</td><td>       -1</td><td>       -1</td><td>.           </td><td>.       </td><td>  0</td></tr>\n",
       "</tbody>\n",
       "</table>\n"
      ],
      "text/latex": [
       "A data.frame: 6 × 10\n",
       "\\begin{tabular}{r|llllllllll}\n",
       "  & chr & start & end & region & erna\\_chr & erna\\_start & erna\\_end & erna\\_id & type & overlap\\_bp\\\\\n",
       "  & <chr> & <int> & <int> & <chr> & <chr> & <int> & <int> & <chr> & <chr> & <int>\\\\\n",
       "\\hline\n",
       "\t1 & 2  & 148881654 & 148881927 & chr2:148881654-148881927 & . &        -1 &        -1 & .            & .        &   0\\\\\n",
       "\t2 & 8  &  99495798 &  99496023 & chr8:99495798-99496023   & . &        -1 &        -1 & .            & .        &   0\\\\\n",
       "\t3 & 22 &  21735444 &  21736416 & chr22:21735444-21736416  & . &        -1 &        -1 & .            & .        &   0\\\\\n",
       "\t4 & 3  &  28241304 &  28242015 & chr3:28241304-28242015   & . &        -1 &        -1 & .            & .        &   0\\\\\n",
       "\t5 & 5  & 154627638 & 154628386 & chr5:154627638-154628386 & 5 & 154627657 & 154628356 & ENSR5\\_B35NJX & enhancer & 699\\\\\n",
       "\t6 & 15 &  79338695 &  79338894 & chr15:79338695-79338894  & . &        -1 &        -1 & .            & .        &   0\\\\\n",
       "\\end{tabular}\n"
      ],
      "text/markdown": [
       "\n",
       "A data.frame: 6 × 10\n",
       "\n",
       "| <!--/--> | chr &lt;chr&gt; | start &lt;int&gt; | end &lt;int&gt; | region &lt;chr&gt; | erna_chr &lt;chr&gt; | erna_start &lt;int&gt; | erna_end &lt;int&gt; | erna_id &lt;chr&gt; | type &lt;chr&gt; | overlap_bp &lt;int&gt; |\n",
       "|---|---|---|---|---|---|---|---|---|---|---|\n",
       "| 1 | 2  | 148881654 | 148881927 | chr2:148881654-148881927 | . |        -1 |        -1 | .            | .        |   0 |\n",
       "| 2 | 8  |  99495798 |  99496023 | chr8:99495798-99496023   | . |        -1 |        -1 | .            | .        |   0 |\n",
       "| 3 | 22 |  21735444 |  21736416 | chr22:21735444-21736416  | . |        -1 |        -1 | .            | .        |   0 |\n",
       "| 4 | 3  |  28241304 |  28242015 | chr3:28241304-28242015   | . |        -1 |        -1 | .            | .        |   0 |\n",
       "| 5 | 5  | 154627638 | 154628386 | chr5:154627638-154628386 | 5 | 154627657 | 154628356 | ENSR5_B35NJX | enhancer | 699 |\n",
       "| 6 | 15 |  79338695 |  79338894 | chr15:79338695-79338894  | . |        -1 |        -1 | .            | .        |   0 |\n",
       "\n"
      ],
      "text/plain": [
       "  chr start     end       region                   erna_chr erna_start\n",
       "1 2   148881654 148881927 chr2:148881654-148881927 .               -1 \n",
       "2 8    99495798  99496023 chr8:99495798-99496023   .               -1 \n",
       "3 22   21735444  21736416 chr22:21735444-21736416  .               -1 \n",
       "4 3    28241304  28242015 chr3:28241304-28242015   .               -1 \n",
       "5 5   154627638 154628386 chr5:154627638-154628386 5        154627657 \n",
       "6 15   79338695  79338894 chr15:79338695-79338894  .               -1 \n",
       "  erna_end  erna_id      type     overlap_bp\n",
       "1        -1 .            .          0       \n",
       "2        -1 .            .          0       \n",
       "3        -1 .            .          0       \n",
       "4        -1 .            .          0       \n",
       "5 154628356 ENSR5_B35NJX enhancer 699       \n",
       "6        -1 .            .          0       "
      ]
     },
     "metadata": {},
     "output_type": "display_data"
    },
    {
     "data": {
      "text/html": [
       "<style>\n",
       ".list-inline {list-style: none; margin:0; padding: 0}\n",
       ".list-inline>li {display: inline-block}\n",
       ".list-inline>li:not(:last-child)::after {content: \"\\00b7\"; padding: 0 .5ex}\n",
       "</style>\n",
       "<ol class=list-inline><li>136798</li><li>10</li></ol>\n"
      ],
      "text/latex": [
       "\\begin{enumerate*}\n",
       "\\item 136798\n",
       "\\item 10\n",
       "\\end{enumerate*}\n"
      ],
      "text/markdown": [
       "1. 136798\n",
       "2. 10\n",
       "\n",
       "\n"
      ],
      "text/plain": [
       "[1] 136798     10"
      ]
     },
     "metadata": {},
     "output_type": "display_data"
    }
   ],
   "source": [
    "\n",
    "colnames(associated_enhancers_with_chromatin) = c(\"chr\", \"start\", \"end\", \"region\", \"erna_chr\", \"erna_start\", \"erna_end\", \"erna_id\", \"type\", \"overlap_bp\")\n",
    "head(associated_enhancers_with_chromatin)\n",
    "dim(associated_enhancers_with_chromatin)"
   ]
  },
  {
   "cell_type": "code",
   "execution_count": null,
   "id": "9a9d75aa",
   "metadata": {
    "vscode": {
     "languageId": "r"
    }
   },
   "outputs": [],
   "source": [
    "all_regions_to_erna = associated_enhancers_with_chromatin %>% dplyr::filter(overlap_bp > 0) "
   ]
  },
  {
   "cell_type": "code",
   "execution_count": null,
   "id": "6b9665d5",
   "metadata": {
    "vscode": {
     "languageId": "r"
    }
   },
   "outputs": [
    {
     "data": {
      "text/html": [
       "<table class=\"dataframe\">\n",
       "<caption>A data.frame: 6 × 2</caption>\n",
       "<thead>\n",
       "\t<tr><th></th><th scope=col>region</th><th scope=col>erna_id</th></tr>\n",
       "\t<tr><th></th><th scope=col>&lt;chr&gt;</th><th scope=col>&lt;chr&gt;</th></tr>\n",
       "</thead>\n",
       "<tbody>\n",
       "\t<tr><th scope=row>1</th><td>chr5:154627638-154628386</td><td>ENSR5_B35NJX</td></tr>\n",
       "\t<tr><th scope=row>2</th><td>chr16:12646516-12646896 </td><td>ENSR16_B4HQN</td></tr>\n",
       "\t<tr><th scope=row>3</th><td>chr16:13873882-13874143 </td><td>ENSR16_8F2CX</td></tr>\n",
       "\t<tr><th scope=row>4</th><td>chr16:17497753-17497979 </td><td>ENSR16_8HW33</td></tr>\n",
       "\t<tr><th scope=row>5</th><td>chr16:17499494-17499825 </td><td>ENSR16_98XJK</td></tr>\n",
       "\t<tr><th scope=row>6</th><td>chr16:4123982-4124241   </td><td>ENSR16_859DL</td></tr>\n",
       "</tbody>\n",
       "</table>\n"
      ],
      "text/latex": [
       "A data.frame: 6 × 2\n",
       "\\begin{tabular}{r|ll}\n",
       "  & region & erna\\_id\\\\\n",
       "  & <chr> & <chr>\\\\\n",
       "\\hline\n",
       "\t1 & chr5:154627638-154628386 & ENSR5\\_B35NJX\\\\\n",
       "\t2 & chr16:12646516-12646896  & ENSR16\\_B4HQN\\\\\n",
       "\t3 & chr16:13873882-13874143  & ENSR16\\_8F2CX\\\\\n",
       "\t4 & chr16:17497753-17497979  & ENSR16\\_8HW33\\\\\n",
       "\t5 & chr16:17499494-17499825  & ENSR16\\_98XJK\\\\\n",
       "\t6 & chr16:4123982-4124241    & ENSR16\\_859DL\\\\\n",
       "\\end{tabular}\n"
      ],
      "text/markdown": [
       "\n",
       "A data.frame: 6 × 2\n",
       "\n",
       "| <!--/--> | region &lt;chr&gt; | erna_id &lt;chr&gt; |\n",
       "|---|---|---|\n",
       "| 1 | chr5:154627638-154628386 | ENSR5_B35NJX |\n",
       "| 2 | chr16:12646516-12646896  | ENSR16_B4HQN |\n",
       "| 3 | chr16:13873882-13874143  | ENSR16_8F2CX |\n",
       "| 4 | chr16:17497753-17497979  | ENSR16_8HW33 |\n",
       "| 5 | chr16:17499494-17499825  | ENSR16_98XJK |\n",
       "| 6 | chr16:4123982-4124241    | ENSR16_859DL |\n",
       "\n"
      ],
      "text/plain": [
       "  region                   erna_id     \n",
       "1 chr5:154627638-154628386 ENSR5_B35NJX\n",
       "2 chr16:12646516-12646896  ENSR16_B4HQN\n",
       "3 chr16:13873882-13874143  ENSR16_8F2CX\n",
       "4 chr16:17497753-17497979  ENSR16_8HW33\n",
       "5 chr16:17499494-17499825  ENSR16_98XJK\n",
       "6 chr16:4123982-4124241    ENSR16_859DL"
      ]
     },
     "metadata": {},
     "output_type": "display_data"
    }
   ],
   "source": [
    "all_regions_to_erna = all_regions_to_erna %>% select(region, erna_id) \n",
    "head(all_regions_to_erna)"
   ]
  },
  {
   "cell_type": "code",
   "execution_count": null,
   "id": "396b0a81",
   "metadata": {
    "vscode": {
     "languageId": "r"
    }
   },
   "outputs": [],
   "source": [
    "atac_counts <- read.table(\"GSE126074_SNARE_seq/01_raw_data/GSE126074/GSE126074_CellLineMixture_SNAREseq_chromatin_counts.tsv\", header = TRUE, sep = \"\\t\", row.names = 1)\n"
   ]
  },
  {
   "cell_type": "code",
   "execution_count": null,
   "id": "b9274d6b",
   "metadata": {
    "vscode": {
     "languageId": "r"
    }
   },
   "outputs": [
    {
     "data": {
      "text/html": [
       "<table class=\"dataframe\">\n",
       "<caption>A data.frame: 6 × 1048</caption>\n",
       "<thead>\n",
       "\t<tr><th></th><th scope=col>ACTTTCTAATCA</th><th scope=col>GAGAGAAAACCT</th><th scope=col>TACGGCTGTTAT</th><th scope=col>GACGCGTAAGTG</th><th scope=col>GAAAGGACTGCA</th><th scope=col>TGACCTGGATAA</th><th scope=col>ACTCCGTTCACT</th><th scope=col>TAGGTAGCGCGC</th><th scope=col>CTCTACCCTTCA</th><th scope=col>GCCCGTTATCTG</th><th scope=col>⋯</th><th scope=col>TTCCCCTACAAC</th><th scope=col>TGTAATCATCTG</th><th scope=col>ACATAAATTAGT</th><th scope=col>ATAGTGCTCGCC</th><th scope=col>GTTCTTCCTAGT</th><th scope=col>ATCCGTTCAACG</th><th scope=col>CCGACTAAGAAT</th><th scope=col>AAGCCTGGGGGC</th><th scope=col>CAGCTGGTGATG</th><th scope=col>region</th></tr>\n",
       "\t<tr><th></th><th scope=col>&lt;int&gt;</th><th scope=col>&lt;int&gt;</th><th scope=col>&lt;int&gt;</th><th scope=col>&lt;int&gt;</th><th scope=col>&lt;int&gt;</th><th scope=col>&lt;int&gt;</th><th scope=col>&lt;int&gt;</th><th scope=col>&lt;int&gt;</th><th scope=col>&lt;int&gt;</th><th scope=col>&lt;int&gt;</th><th scope=col>⋯</th><th scope=col>&lt;int&gt;</th><th scope=col>&lt;int&gt;</th><th scope=col>&lt;int&gt;</th><th scope=col>&lt;int&gt;</th><th scope=col>&lt;int&gt;</th><th scope=col>&lt;int&gt;</th><th scope=col>&lt;int&gt;</th><th scope=col>&lt;int&gt;</th><th scope=col>&lt;int&gt;</th><th scope=col>&lt;chr&gt;</th></tr>\n",
       "</thead>\n",
       "<tbody>\n",
       "\t<tr><th scope=row>chr2:148881654-148881927</th><td>1</td><td>1</td><td>3</td><td>0</td><td>0</td><td>13</td><td>1</td><td>0</td><td>0</td><td>2</td><td>⋯</td><td>0</td><td>0</td><td>0</td><td>0</td><td>0</td><td>0</td><td>4</td><td>0</td><td>2</td><td>chr2:148881654-148881927</td></tr>\n",
       "\t<tr><th scope=row>chr8:99495798-99496023</th><td>1</td><td>1</td><td>0</td><td>0</td><td>0</td><td> 8</td><td>0</td><td>1</td><td>0</td><td>0</td><td>⋯</td><td>0</td><td>1</td><td>0</td><td>0</td><td>2</td><td>3</td><td>0</td><td>1</td><td>1</td><td>chr8:99495798-99496023  </td></tr>\n",
       "\t<tr><th scope=row>chr22:21735444-21736416</th><td>0</td><td>0</td><td>0</td><td>0</td><td>0</td><td> 0</td><td>0</td><td>0</td><td>0</td><td>0</td><td>⋯</td><td>0</td><td>1</td><td>0</td><td>0</td><td>0</td><td>0</td><td>0</td><td>0</td><td>0</td><td>chr22:21735444-21736416 </td></tr>\n",
       "\t<tr><th scope=row>chr3:28241304-28242015</th><td>0</td><td>0</td><td>0</td><td>0</td><td>0</td><td> 0</td><td>0</td><td>0</td><td>0</td><td>0</td><td>⋯</td><td>0</td><td>0</td><td>0</td><td>0</td><td>0</td><td>0</td><td>0</td><td>0</td><td>0</td><td>chr3:28241304-28242015  </td></tr>\n",
       "\t<tr><th scope=row>chr5:154627638-154628386</th><td>0</td><td>0</td><td>0</td><td>0</td><td>0</td><td> 0</td><td>0</td><td>0</td><td>0</td><td>0</td><td>⋯</td><td>0</td><td>0</td><td>0</td><td>0</td><td>0</td><td>0</td><td>0</td><td>0</td><td>0</td><td>chr5:154627638-154628386</td></tr>\n",
       "\t<tr><th scope=row>chr15:79338695-79338894</th><td>0</td><td>0</td><td>0</td><td>0</td><td>0</td><td> 0</td><td>0</td><td>0</td><td>0</td><td>0</td><td>⋯</td><td>0</td><td>0</td><td>0</td><td>0</td><td>0</td><td>0</td><td>0</td><td>0</td><td>0</td><td>chr15:79338695-79338894 </td></tr>\n",
       "</tbody>\n",
       "</table>\n"
      ],
      "text/latex": [
       "A data.frame: 6 × 1048\n",
       "\\begin{tabular}{r|lllllllllllllllllllll}\n",
       "  & ACTTTCTAATCA & GAGAGAAAACCT & TACGGCTGTTAT & GACGCGTAAGTG & GAAAGGACTGCA & TGACCTGGATAA & ACTCCGTTCACT & TAGGTAGCGCGC & CTCTACCCTTCA & GCCCGTTATCTG & ⋯ & TTCCCCTACAAC & TGTAATCATCTG & ACATAAATTAGT & ATAGTGCTCGCC & GTTCTTCCTAGT & ATCCGTTCAACG & CCGACTAAGAAT & AAGCCTGGGGGC & CAGCTGGTGATG & region\\\\\n",
       "  & <int> & <int> & <int> & <int> & <int> & <int> & <int> & <int> & <int> & <int> & ⋯ & <int> & <int> & <int> & <int> & <int> & <int> & <int> & <int> & <int> & <chr>\\\\\n",
       "\\hline\n",
       "\tchr2:148881654-148881927 & 1 & 1 & 3 & 0 & 0 & 13 & 1 & 0 & 0 & 2 & ⋯ & 0 & 0 & 0 & 0 & 0 & 0 & 4 & 0 & 2 & chr2:148881654-148881927\\\\\n",
       "\tchr8:99495798-99496023 & 1 & 1 & 0 & 0 & 0 &  8 & 0 & 1 & 0 & 0 & ⋯ & 0 & 1 & 0 & 0 & 2 & 3 & 0 & 1 & 1 & chr8:99495798-99496023  \\\\\n",
       "\tchr22:21735444-21736416 & 0 & 0 & 0 & 0 & 0 &  0 & 0 & 0 & 0 & 0 & ⋯ & 0 & 1 & 0 & 0 & 0 & 0 & 0 & 0 & 0 & chr22:21735444-21736416 \\\\\n",
       "\tchr3:28241304-28242015 & 0 & 0 & 0 & 0 & 0 &  0 & 0 & 0 & 0 & 0 & ⋯ & 0 & 0 & 0 & 0 & 0 & 0 & 0 & 0 & 0 & chr3:28241304-28242015  \\\\\n",
       "\tchr5:154627638-154628386 & 0 & 0 & 0 & 0 & 0 &  0 & 0 & 0 & 0 & 0 & ⋯ & 0 & 0 & 0 & 0 & 0 & 0 & 0 & 0 & 0 & chr5:154627638-154628386\\\\\n",
       "\tchr15:79338695-79338894 & 0 & 0 & 0 & 0 & 0 &  0 & 0 & 0 & 0 & 0 & ⋯ & 0 & 0 & 0 & 0 & 0 & 0 & 0 & 0 & 0 & chr15:79338695-79338894 \\\\\n",
       "\\end{tabular}\n"
      ],
      "text/markdown": [
       "\n",
       "A data.frame: 6 × 1048\n",
       "\n",
       "| <!--/--> | ACTTTCTAATCA &lt;int&gt; | GAGAGAAAACCT &lt;int&gt; | TACGGCTGTTAT &lt;int&gt; | GACGCGTAAGTG &lt;int&gt; | GAAAGGACTGCA &lt;int&gt; | TGACCTGGATAA &lt;int&gt; | ACTCCGTTCACT &lt;int&gt; | TAGGTAGCGCGC &lt;int&gt; | CTCTACCCTTCA &lt;int&gt; | GCCCGTTATCTG &lt;int&gt; | ⋯ ⋯ | TTCCCCTACAAC &lt;int&gt; | TGTAATCATCTG &lt;int&gt; | ACATAAATTAGT &lt;int&gt; | ATAGTGCTCGCC &lt;int&gt; | GTTCTTCCTAGT &lt;int&gt; | ATCCGTTCAACG &lt;int&gt; | CCGACTAAGAAT &lt;int&gt; | AAGCCTGGGGGC &lt;int&gt; | CAGCTGGTGATG &lt;int&gt; | region &lt;chr&gt; |\n",
       "|---|---|---|---|---|---|---|---|---|---|---|---|---|---|---|---|---|---|---|---|---|---|\n",
       "| chr2:148881654-148881927 | 1 | 1 | 3 | 0 | 0 | 13 | 1 | 0 | 0 | 2 | ⋯ | 0 | 0 | 0 | 0 | 0 | 0 | 4 | 0 | 2 | chr2:148881654-148881927 |\n",
       "| chr8:99495798-99496023 | 1 | 1 | 0 | 0 | 0 |  8 | 0 | 1 | 0 | 0 | ⋯ | 0 | 1 | 0 | 0 | 2 | 3 | 0 | 1 | 1 | chr8:99495798-99496023   |\n",
       "| chr22:21735444-21736416 | 0 | 0 | 0 | 0 | 0 |  0 | 0 | 0 | 0 | 0 | ⋯ | 0 | 1 | 0 | 0 | 0 | 0 | 0 | 0 | 0 | chr22:21735444-21736416  |\n",
       "| chr3:28241304-28242015 | 0 | 0 | 0 | 0 | 0 |  0 | 0 | 0 | 0 | 0 | ⋯ | 0 | 0 | 0 | 0 | 0 | 0 | 0 | 0 | 0 | chr3:28241304-28242015   |\n",
       "| chr5:154627638-154628386 | 0 | 0 | 0 | 0 | 0 |  0 | 0 | 0 | 0 | 0 | ⋯ | 0 | 0 | 0 | 0 | 0 | 0 | 0 | 0 | 0 | chr5:154627638-154628386 |\n",
       "| chr15:79338695-79338894 | 0 | 0 | 0 | 0 | 0 |  0 | 0 | 0 | 0 | 0 | ⋯ | 0 | 0 | 0 | 0 | 0 | 0 | 0 | 0 | 0 | chr15:79338695-79338894  |\n",
       "\n"
      ],
      "text/plain": [
       "                         ACTTTCTAATCA GAGAGAAAACCT TACGGCTGTTAT GACGCGTAAGTG\n",
       "chr2:148881654-148881927 1            1            3            0           \n",
       "chr8:99495798-99496023   1            1            0            0           \n",
       "chr22:21735444-21736416  0            0            0            0           \n",
       "chr3:28241304-28242015   0            0            0            0           \n",
       "chr5:154627638-154628386 0            0            0            0           \n",
       "chr15:79338695-79338894  0            0            0            0           \n",
       "                         GAAAGGACTGCA TGACCTGGATAA ACTCCGTTCACT TAGGTAGCGCGC\n",
       "chr2:148881654-148881927 0            13           1            0           \n",
       "chr8:99495798-99496023   0             8           0            1           \n",
       "chr22:21735444-21736416  0             0           0            0           \n",
       "chr3:28241304-28242015   0             0           0            0           \n",
       "chr5:154627638-154628386 0             0           0            0           \n",
       "chr15:79338695-79338894  0             0           0            0           \n",
       "                         CTCTACCCTTCA GCCCGTTATCTG ⋯ TTCCCCTACAAC TGTAATCATCTG\n",
       "chr2:148881654-148881927 0            2            ⋯ 0            0           \n",
       "chr8:99495798-99496023   0            0            ⋯ 0            1           \n",
       "chr22:21735444-21736416  0            0            ⋯ 0            1           \n",
       "chr3:28241304-28242015   0            0            ⋯ 0            0           \n",
       "chr5:154627638-154628386 0            0            ⋯ 0            0           \n",
       "chr15:79338695-79338894  0            0            ⋯ 0            0           \n",
       "                         ACATAAATTAGT ATAGTGCTCGCC GTTCTTCCTAGT ATCCGTTCAACG\n",
       "chr2:148881654-148881927 0            0            0            0           \n",
       "chr8:99495798-99496023   0            0            2            3           \n",
       "chr22:21735444-21736416  0            0            0            0           \n",
       "chr3:28241304-28242015   0            0            0            0           \n",
       "chr5:154627638-154628386 0            0            0            0           \n",
       "chr15:79338695-79338894  0            0            0            0           \n",
       "                         CCGACTAAGAAT AAGCCTGGGGGC CAGCTGGTGATG\n",
       "chr2:148881654-148881927 4            0            2           \n",
       "chr8:99495798-99496023   0            1            1           \n",
       "chr22:21735444-21736416  0            0            0           \n",
       "chr3:28241304-28242015   0            0            0           \n",
       "chr5:154627638-154628386 0            0            0           \n",
       "chr15:79338695-79338894  0            0            0           \n",
       "                         region                  \n",
       "chr2:148881654-148881927 chr2:148881654-148881927\n",
       "chr8:99495798-99496023   chr8:99495798-99496023  \n",
       "chr22:21735444-21736416  chr22:21735444-21736416 \n",
       "chr3:28241304-28242015   chr3:28241304-28242015  \n",
       "chr5:154627638-154628386 chr5:154627638-154628386\n",
       "chr15:79338695-79338894  chr15:79338695-79338894 "
      ]
     },
     "metadata": {},
     "output_type": "display_data"
    }
   ],
   "source": [
    "atac_counts$region = rownames(atac_counts)\n",
    "head(atac_counts)"
   ]
  },
  {
   "cell_type": "code",
   "execution_count": null,
   "id": "a8884169",
   "metadata": {
    "vscode": {
     "languageId": "r"
    }
   },
   "outputs": [
    {
     "data": {
      "text/html": [
       "<table class=\"dataframe\">\n",
       "<caption>A data.frame: 6 × 1049</caption>\n",
       "<thead>\n",
       "\t<tr><th></th><th scope=col>ACTTTCTAATCA</th><th scope=col>GAGAGAAAACCT</th><th scope=col>TACGGCTGTTAT</th><th scope=col>GACGCGTAAGTG</th><th scope=col>GAAAGGACTGCA</th><th scope=col>TGACCTGGATAA</th><th scope=col>ACTCCGTTCACT</th><th scope=col>TAGGTAGCGCGC</th><th scope=col>CTCTACCCTTCA</th><th scope=col>GCCCGTTATCTG</th><th scope=col>⋯</th><th scope=col>TGTAATCATCTG</th><th scope=col>ACATAAATTAGT</th><th scope=col>ATAGTGCTCGCC</th><th scope=col>GTTCTTCCTAGT</th><th scope=col>ATCCGTTCAACG</th><th scope=col>CCGACTAAGAAT</th><th scope=col>AAGCCTGGGGGC</th><th scope=col>CAGCTGGTGATG</th><th scope=col>region</th><th scope=col>erna_id</th></tr>\n",
       "\t<tr><th></th><th scope=col>&lt;int&gt;</th><th scope=col>&lt;int&gt;</th><th scope=col>&lt;int&gt;</th><th scope=col>&lt;int&gt;</th><th scope=col>&lt;int&gt;</th><th scope=col>&lt;int&gt;</th><th scope=col>&lt;int&gt;</th><th scope=col>&lt;int&gt;</th><th scope=col>&lt;int&gt;</th><th scope=col>&lt;int&gt;</th><th scope=col>⋯</th><th scope=col>&lt;int&gt;</th><th scope=col>&lt;int&gt;</th><th scope=col>&lt;int&gt;</th><th scope=col>&lt;int&gt;</th><th scope=col>&lt;int&gt;</th><th scope=col>&lt;int&gt;</th><th scope=col>&lt;int&gt;</th><th scope=col>&lt;int&gt;</th><th scope=col>&lt;chr&gt;</th><th scope=col>&lt;chr&gt;</th></tr>\n",
       "</thead>\n",
       "<tbody>\n",
       "\t<tr><th scope=row>1</th><td>0</td><td>0</td><td>0</td><td>0</td><td>0</td><td>0</td><td>0</td><td>0</td><td>0</td><td>0</td><td>⋯</td><td>0</td><td>0</td><td>0</td><td>0</td><td>0</td><td>0</td><td>0</td><td>0</td><td>chr5:154627638-154628386</td><td>ENSR5_B35NJX</td></tr>\n",
       "\t<tr><th scope=row>2</th><td>0</td><td>0</td><td>0</td><td>0</td><td>0</td><td>0</td><td>0</td><td>0</td><td>0</td><td>0</td><td>⋯</td><td>0</td><td>0</td><td>0</td><td>0</td><td>0</td><td>0</td><td>0</td><td>0</td><td>chr16:12646516-12646896 </td><td>ENSR16_B4HQN</td></tr>\n",
       "\t<tr><th scope=row>3</th><td>0</td><td>0</td><td>0</td><td>0</td><td>0</td><td>0</td><td>0</td><td>0</td><td>0</td><td>0</td><td>⋯</td><td>0</td><td>0</td><td>0</td><td>0</td><td>0</td><td>0</td><td>0</td><td>0</td><td>chr16:13873882-13874143 </td><td>ENSR16_8F2CX</td></tr>\n",
       "\t<tr><th scope=row>4</th><td>0</td><td>0</td><td>0</td><td>0</td><td>0</td><td>0</td><td>0</td><td>0</td><td>0</td><td>0</td><td>⋯</td><td>0</td><td>0</td><td>0</td><td>0</td><td>0</td><td>0</td><td>0</td><td>0</td><td>chr16:17497753-17497979 </td><td>ENSR16_8HW33</td></tr>\n",
       "\t<tr><th scope=row>5</th><td>0</td><td>0</td><td>0</td><td>0</td><td>0</td><td>0</td><td>0</td><td>0</td><td>0</td><td>0</td><td>⋯</td><td>0</td><td>0</td><td>0</td><td>0</td><td>0</td><td>0</td><td>0</td><td>0</td><td>chr16:17499494-17499825 </td><td>ENSR16_98XJK</td></tr>\n",
       "\t<tr><th scope=row>6</th><td>0</td><td>0</td><td>0</td><td>0</td><td>0</td><td>0</td><td>0</td><td>0</td><td>0</td><td>0</td><td>⋯</td><td>0</td><td>0</td><td>0</td><td>0</td><td>0</td><td>0</td><td>0</td><td>0</td><td>chr16:4123982-4124241   </td><td>ENSR16_859DL</td></tr>\n",
       "</tbody>\n",
       "</table>\n"
      ],
      "text/latex": [
       "A data.frame: 6 × 1049\n",
       "\\begin{tabular}{r|lllllllllllllllllllll}\n",
       "  & ACTTTCTAATCA & GAGAGAAAACCT & TACGGCTGTTAT & GACGCGTAAGTG & GAAAGGACTGCA & TGACCTGGATAA & ACTCCGTTCACT & TAGGTAGCGCGC & CTCTACCCTTCA & GCCCGTTATCTG & ⋯ & TGTAATCATCTG & ACATAAATTAGT & ATAGTGCTCGCC & GTTCTTCCTAGT & ATCCGTTCAACG & CCGACTAAGAAT & AAGCCTGGGGGC & CAGCTGGTGATG & region & erna\\_id\\\\\n",
       "  & <int> & <int> & <int> & <int> & <int> & <int> & <int> & <int> & <int> & <int> & ⋯ & <int> & <int> & <int> & <int> & <int> & <int> & <int> & <int> & <chr> & <chr>\\\\\n",
       "\\hline\n",
       "\t1 & 0 & 0 & 0 & 0 & 0 & 0 & 0 & 0 & 0 & 0 & ⋯ & 0 & 0 & 0 & 0 & 0 & 0 & 0 & 0 & chr5:154627638-154628386 & ENSR5\\_B35NJX\\\\\n",
       "\t2 & 0 & 0 & 0 & 0 & 0 & 0 & 0 & 0 & 0 & 0 & ⋯ & 0 & 0 & 0 & 0 & 0 & 0 & 0 & 0 & chr16:12646516-12646896  & ENSR16\\_B4HQN\\\\\n",
       "\t3 & 0 & 0 & 0 & 0 & 0 & 0 & 0 & 0 & 0 & 0 & ⋯ & 0 & 0 & 0 & 0 & 0 & 0 & 0 & 0 & chr16:13873882-13874143  & ENSR16\\_8F2CX\\\\\n",
       "\t4 & 0 & 0 & 0 & 0 & 0 & 0 & 0 & 0 & 0 & 0 & ⋯ & 0 & 0 & 0 & 0 & 0 & 0 & 0 & 0 & chr16:17497753-17497979  & ENSR16\\_8HW33\\\\\n",
       "\t5 & 0 & 0 & 0 & 0 & 0 & 0 & 0 & 0 & 0 & 0 & ⋯ & 0 & 0 & 0 & 0 & 0 & 0 & 0 & 0 & chr16:17499494-17499825  & ENSR16\\_98XJK\\\\\n",
       "\t6 & 0 & 0 & 0 & 0 & 0 & 0 & 0 & 0 & 0 & 0 & ⋯ & 0 & 0 & 0 & 0 & 0 & 0 & 0 & 0 & chr16:4123982-4124241    & ENSR16\\_859DL\\\\\n",
       "\\end{tabular}\n"
      ],
      "text/markdown": [
       "\n",
       "A data.frame: 6 × 1049\n",
       "\n",
       "| <!--/--> | ACTTTCTAATCA &lt;int&gt; | GAGAGAAAACCT &lt;int&gt; | TACGGCTGTTAT &lt;int&gt; | GACGCGTAAGTG &lt;int&gt; | GAAAGGACTGCA &lt;int&gt; | TGACCTGGATAA &lt;int&gt; | ACTCCGTTCACT &lt;int&gt; | TAGGTAGCGCGC &lt;int&gt; | CTCTACCCTTCA &lt;int&gt; | GCCCGTTATCTG &lt;int&gt; | ⋯ ⋯ | TGTAATCATCTG &lt;int&gt; | ACATAAATTAGT &lt;int&gt; | ATAGTGCTCGCC &lt;int&gt; | GTTCTTCCTAGT &lt;int&gt; | ATCCGTTCAACG &lt;int&gt; | CCGACTAAGAAT &lt;int&gt; | AAGCCTGGGGGC &lt;int&gt; | CAGCTGGTGATG &lt;int&gt; | region &lt;chr&gt; | erna_id &lt;chr&gt; |\n",
       "|---|---|---|---|---|---|---|---|---|---|---|---|---|---|---|---|---|---|---|---|---|---|\n",
       "| 1 | 0 | 0 | 0 | 0 | 0 | 0 | 0 | 0 | 0 | 0 | ⋯ | 0 | 0 | 0 | 0 | 0 | 0 | 0 | 0 | chr5:154627638-154628386 | ENSR5_B35NJX |\n",
       "| 2 | 0 | 0 | 0 | 0 | 0 | 0 | 0 | 0 | 0 | 0 | ⋯ | 0 | 0 | 0 | 0 | 0 | 0 | 0 | 0 | chr16:12646516-12646896  | ENSR16_B4HQN |\n",
       "| 3 | 0 | 0 | 0 | 0 | 0 | 0 | 0 | 0 | 0 | 0 | ⋯ | 0 | 0 | 0 | 0 | 0 | 0 | 0 | 0 | chr16:13873882-13874143  | ENSR16_8F2CX |\n",
       "| 4 | 0 | 0 | 0 | 0 | 0 | 0 | 0 | 0 | 0 | 0 | ⋯ | 0 | 0 | 0 | 0 | 0 | 0 | 0 | 0 | chr16:17497753-17497979  | ENSR16_8HW33 |\n",
       "| 5 | 0 | 0 | 0 | 0 | 0 | 0 | 0 | 0 | 0 | 0 | ⋯ | 0 | 0 | 0 | 0 | 0 | 0 | 0 | 0 | chr16:17499494-17499825  | ENSR16_98XJK |\n",
       "| 6 | 0 | 0 | 0 | 0 | 0 | 0 | 0 | 0 | 0 | 0 | ⋯ | 0 | 0 | 0 | 0 | 0 | 0 | 0 | 0 | chr16:4123982-4124241    | ENSR16_859DL |\n",
       "\n"
      ],
      "text/plain": [
       "  ACTTTCTAATCA GAGAGAAAACCT TACGGCTGTTAT GACGCGTAAGTG GAAAGGACTGCA TGACCTGGATAA\n",
       "1 0            0            0            0            0            0           \n",
       "2 0            0            0            0            0            0           \n",
       "3 0            0            0            0            0            0           \n",
       "4 0            0            0            0            0            0           \n",
       "5 0            0            0            0            0            0           \n",
       "6 0            0            0            0            0            0           \n",
       "  ACTCCGTTCACT TAGGTAGCGCGC CTCTACCCTTCA GCCCGTTATCTG ⋯ TGTAATCATCTG\n",
       "1 0            0            0            0            ⋯ 0           \n",
       "2 0            0            0            0            ⋯ 0           \n",
       "3 0            0            0            0            ⋯ 0           \n",
       "4 0            0            0            0            ⋯ 0           \n",
       "5 0            0            0            0            ⋯ 0           \n",
       "6 0            0            0            0            ⋯ 0           \n",
       "  ACATAAATTAGT ATAGTGCTCGCC GTTCTTCCTAGT ATCCGTTCAACG CCGACTAAGAAT AAGCCTGGGGGC\n",
       "1 0            0            0            0            0            0           \n",
       "2 0            0            0            0            0            0           \n",
       "3 0            0            0            0            0            0           \n",
       "4 0            0            0            0            0            0           \n",
       "5 0            0            0            0            0            0           \n",
       "6 0            0            0            0            0            0           \n",
       "  CAGCTGGTGATG region                   erna_id     \n",
       "1 0            chr5:154627638-154628386 ENSR5_B35NJX\n",
       "2 0            chr16:12646516-12646896  ENSR16_B4HQN\n",
       "3 0            chr16:13873882-13874143  ENSR16_8F2CX\n",
       "4 0            chr16:17497753-17497979  ENSR16_8HW33\n",
       "5 0            chr16:17499494-17499825  ENSR16_98XJK\n",
       "6 0            chr16:4123982-4124241    ENSR16_859DL"
      ]
     },
     "metadata": {},
     "output_type": "display_data"
    }
   ],
   "source": [
    "final_counts_df <- \n",
    "  left_join(atac_counts, all_regions_to_erna, by = \"region\") %>%\n",
    "  filter(!is.na(erna_id))   \n",
    "head(final_counts_df)\n",
    "\n"
   ]
  },
  {
   "cell_type": "code",
   "execution_count": null,
   "id": "01954cdc",
   "metadata": {
    "vscode": {
     "languageId": "r"
    }
   },
   "outputs": [
    {
     "name": "stdout",
     "output_type": "stream",
     "text": [
      "[1] 1\n",
      "[1] 1\n",
      "[1] \"-----\"\n",
      "[1] 0\n",
      "[1] 0\n",
      "[1] \"-----\"\n",
      "[1] 0\n",
      "[1] 0\n",
      "[1] \"-----\"\n",
      "[1] 0\n",
      "[1] 0\n",
      "[1] \"-----\"\n",
      "[1] 0\n",
      "[1] 0\n",
      "[1] \"-----\"\n",
      "[1] 0\n",
      "[1] 0\n",
      "[1] \"-----\"\n",
      "[1] 1\n",
      "[1] 1\n",
      "[1] \"-----\"\n"
     ]
    }
   ],
   "source": [
    "#sanity check - print any value from atac_counts and see if it is the same in final_counts_df\n",
    "all_regions = c(\"chr8:38588602-38588903\", \"chr9:107929412-107929812\", \"chr11:35588677-35588987\", \n",
    "\"chr14:53946599-53947210\", \"chr15:31197437-31197731\", \"chr1:220734567-220734790\", \n",
    "\"chr1:26083355-26083605\")\n",
    "for(region in all_regions){\n",
    "  print(atac_counts[region,'ACTTTCTAATCA'])\n",
    "  print(final_counts_df[final_counts_df$region == region,'ACTTTCTAATCA'])\n",
    "  print(\"-----\")\n",
    "}\n"
   ]
  },
  {
   "cell_type": "code",
   "execution_count": null,
   "id": "4d9d7230",
   "metadata": {
    "vscode": {
     "languageId": "r"
    }
   },
   "outputs": [
    {
     "data": {
      "text/html": [
       "607"
      ],
      "text/latex": [
       "607"
      ],
      "text/markdown": [
       "607"
      ],
      "text/plain": [
       "[1] 607"
      ]
     },
     "metadata": {},
     "output_type": "display_data"
    },
    {
     "data": {
      "text/html": [
       "<style>\n",
       ".list-inline {list-style: none; margin:0; padding: 0}\n",
       ".list-inline>li {display: inline-block}\n",
       ".list-inline>li:not(:last-child)::after {content: \"\\00b7\"; padding: 0 .5ex}\n",
       "</style>\n",
       "<ol class=list-inline><li>'ENSR11_CDZ84'</li><li>'ENSR5_C96GL'</li><li>'ENSR1_C3L79'</li><li>'ENSR9_CF5JW'</li><li>'ENSR14_BDQWP'</li><li>'ENSR6_C3LBL'</li></ol>\n"
      ],
      "text/latex": [
       "\\begin{enumerate*}\n",
       "\\item 'ENSR11\\_CDZ84'\n",
       "\\item 'ENSR5\\_C96GL'\n",
       "\\item 'ENSR1\\_C3L79'\n",
       "\\item 'ENSR9\\_CF5JW'\n",
       "\\item 'ENSR14\\_BDQWP'\n",
       "\\item 'ENSR6\\_C3LBL'\n",
       "\\end{enumerate*}\n"
      ],
      "text/markdown": [
       "1. 'ENSR11_CDZ84'\n",
       "2. 'ENSR5_C96GL'\n",
       "3. 'ENSR1_C3L79'\n",
       "4. 'ENSR9_CF5JW'\n",
       "5. 'ENSR14_BDQWP'\n",
       "6. 'ENSR6_C3LBL'\n",
       "\n",
       "\n"
      ],
      "text/plain": [
       "[1] \"ENSR11_CDZ84\" \"ENSR5_C96GL\"  \"ENSR1_C3L79\"  \"ENSR9_CF5JW\"  \"ENSR14_BDQWP\"\n",
       "[6] \"ENSR6_C3LBL\" "
      ]
     },
     "metadata": {},
     "output_type": "display_data"
    },
    {
     "data": {
      "text/html": [
       "<table class=\"dataframe\">\n",
       "<caption>A data.frame: 2 × 1049</caption>\n",
       "<thead>\n",
       "\t<tr><th></th><th scope=col>ACTTTCTAATCA</th><th scope=col>GAGAGAAAACCT</th><th scope=col>TACGGCTGTTAT</th><th scope=col>GACGCGTAAGTG</th><th scope=col>GAAAGGACTGCA</th><th scope=col>TGACCTGGATAA</th><th scope=col>ACTCCGTTCACT</th><th scope=col>TAGGTAGCGCGC</th><th scope=col>CTCTACCCTTCA</th><th scope=col>GCCCGTTATCTG</th><th scope=col>⋯</th><th scope=col>TGTAATCATCTG</th><th scope=col>ACATAAATTAGT</th><th scope=col>ATAGTGCTCGCC</th><th scope=col>GTTCTTCCTAGT</th><th scope=col>ATCCGTTCAACG</th><th scope=col>CCGACTAAGAAT</th><th scope=col>AAGCCTGGGGGC</th><th scope=col>CAGCTGGTGATG</th><th scope=col>region</th><th scope=col>erna_id</th></tr>\n",
       "\t<tr><th></th><th scope=col>&lt;int&gt;</th><th scope=col>&lt;int&gt;</th><th scope=col>&lt;int&gt;</th><th scope=col>&lt;int&gt;</th><th scope=col>&lt;int&gt;</th><th scope=col>&lt;int&gt;</th><th scope=col>&lt;int&gt;</th><th scope=col>&lt;int&gt;</th><th scope=col>&lt;int&gt;</th><th scope=col>&lt;int&gt;</th><th scope=col>⋯</th><th scope=col>&lt;int&gt;</th><th scope=col>&lt;int&gt;</th><th scope=col>&lt;int&gt;</th><th scope=col>&lt;int&gt;</th><th scope=col>&lt;int&gt;</th><th scope=col>&lt;int&gt;</th><th scope=col>&lt;int&gt;</th><th scope=col>&lt;int&gt;</th><th scope=col>&lt;chr&gt;</th><th scope=col>&lt;chr&gt;</th></tr>\n",
       "</thead>\n",
       "<tbody>\n",
       "\t<tr><th scope=row>1049</th><td>0</td><td>0</td><td>0</td><td>0</td><td>0</td><td>0</td><td>0</td><td>0</td><td>0</td><td>0</td><td>⋯</td><td>0</td><td>0</td><td>0</td><td>0</td><td>0</td><td>0</td><td>0</td><td>0</td><td>chr11:110564714-110564984</td><td>ENSR11_CDZ84</td></tr>\n",
       "\t<tr><th scope=row>1103</th><td>0</td><td>0</td><td>0</td><td>0</td><td>0</td><td>0</td><td>0</td><td>0</td><td>0</td><td>0</td><td>⋯</td><td>0</td><td>0</td><td>0</td><td>0</td><td>0</td><td>0</td><td>0</td><td>0</td><td>chr11:110565125-110565866</td><td>ENSR11_CDZ84</td></tr>\n",
       "</tbody>\n",
       "</table>\n"
      ],
      "text/latex": [
       "A data.frame: 2 × 1049\n",
       "\\begin{tabular}{r|lllllllllllllllllllll}\n",
       "  & ACTTTCTAATCA & GAGAGAAAACCT & TACGGCTGTTAT & GACGCGTAAGTG & GAAAGGACTGCA & TGACCTGGATAA & ACTCCGTTCACT & TAGGTAGCGCGC & CTCTACCCTTCA & GCCCGTTATCTG & ⋯ & TGTAATCATCTG & ACATAAATTAGT & ATAGTGCTCGCC & GTTCTTCCTAGT & ATCCGTTCAACG & CCGACTAAGAAT & AAGCCTGGGGGC & CAGCTGGTGATG & region & erna\\_id\\\\\n",
       "  & <int> & <int> & <int> & <int> & <int> & <int> & <int> & <int> & <int> & <int> & ⋯ & <int> & <int> & <int> & <int> & <int> & <int> & <int> & <int> & <chr> & <chr>\\\\\n",
       "\\hline\n",
       "\t1049 & 0 & 0 & 0 & 0 & 0 & 0 & 0 & 0 & 0 & 0 & ⋯ & 0 & 0 & 0 & 0 & 0 & 0 & 0 & 0 & chr11:110564714-110564984 & ENSR11\\_CDZ84\\\\\n",
       "\t1103 & 0 & 0 & 0 & 0 & 0 & 0 & 0 & 0 & 0 & 0 & ⋯ & 0 & 0 & 0 & 0 & 0 & 0 & 0 & 0 & chr11:110565125-110565866 & ENSR11\\_CDZ84\\\\\n",
       "\\end{tabular}\n"
      ],
      "text/markdown": [
       "\n",
       "A data.frame: 2 × 1049\n",
       "\n",
       "| <!--/--> | ACTTTCTAATCA &lt;int&gt; | GAGAGAAAACCT &lt;int&gt; | TACGGCTGTTAT &lt;int&gt; | GACGCGTAAGTG &lt;int&gt; | GAAAGGACTGCA &lt;int&gt; | TGACCTGGATAA &lt;int&gt; | ACTCCGTTCACT &lt;int&gt; | TAGGTAGCGCGC &lt;int&gt; | CTCTACCCTTCA &lt;int&gt; | GCCCGTTATCTG &lt;int&gt; | ⋯ ⋯ | TGTAATCATCTG &lt;int&gt; | ACATAAATTAGT &lt;int&gt; | ATAGTGCTCGCC &lt;int&gt; | GTTCTTCCTAGT &lt;int&gt; | ATCCGTTCAACG &lt;int&gt; | CCGACTAAGAAT &lt;int&gt; | AAGCCTGGGGGC &lt;int&gt; | CAGCTGGTGATG &lt;int&gt; | region &lt;chr&gt; | erna_id &lt;chr&gt; |\n",
       "|---|---|---|---|---|---|---|---|---|---|---|---|---|---|---|---|---|---|---|---|---|---|\n",
       "| 1049 | 0 | 0 | 0 | 0 | 0 | 0 | 0 | 0 | 0 | 0 | ⋯ | 0 | 0 | 0 | 0 | 0 | 0 | 0 | 0 | chr11:110564714-110564984 | ENSR11_CDZ84 |\n",
       "| 1103 | 0 | 0 | 0 | 0 | 0 | 0 | 0 | 0 | 0 | 0 | ⋯ | 0 | 0 | 0 | 0 | 0 | 0 | 0 | 0 | chr11:110565125-110565866 | ENSR11_CDZ84 |\n",
       "\n"
      ],
      "text/plain": [
       "     ACTTTCTAATCA GAGAGAAAACCT TACGGCTGTTAT GACGCGTAAGTG GAAAGGACTGCA\n",
       "1049 0            0            0            0            0           \n",
       "1103 0            0            0            0            0           \n",
       "     TGACCTGGATAA ACTCCGTTCACT TAGGTAGCGCGC CTCTACCCTTCA GCCCGTTATCTG ⋯\n",
       "1049 0            0            0            0            0            ⋯\n",
       "1103 0            0            0            0            0            ⋯\n",
       "     TGTAATCATCTG ACATAAATTAGT ATAGTGCTCGCC GTTCTTCCTAGT ATCCGTTCAACG\n",
       "1049 0            0            0            0            0           \n",
       "1103 0            0            0            0            0           \n",
       "     CCGACTAAGAAT AAGCCTGGGGGC CAGCTGGTGATG region                   \n",
       "1049 0            0            0            chr11:110564714-110564984\n",
       "1103 0            0            0            chr11:110565125-110565866\n",
       "     erna_id     \n",
       "1049 ENSR11_CDZ84\n",
       "1103 ENSR11_CDZ84"
      ]
     },
     "metadata": {},
     "output_type": "display_data"
    }
   ],
   "source": [
    "# are any duplicated erna ids?\n",
    "duplicated_erna_ids <- final_counts_df$erna_id[duplicated(final_counts_df$erna_id)]\n",
    "length(duplicated_erna_ids)\n",
    "head(duplicated_erna_ids)\n",
    "\n",
    "final_counts_df[final_counts_df$erna_id == \"ENSR11_CDZ84\",]"
   ]
  },
  {
   "cell_type": "code",
   "execution_count": null,
   "id": "b1ffb436",
   "metadata": {
    "vscode": {
     "languageId": "r"
    }
   },
   "outputs": [],
   "source": [
    "rownames(final_counts_df) <- make.unique(final_counts_df$erna_id)\n"
   ]
  },
  {
   "cell_type": "code",
   "execution_count": null,
   "id": "4e17346a",
   "metadata": {
    "vscode": {
     "languageId": "r"
    }
   },
   "outputs": [],
   "source": [
    "final_counts_df = final_counts_df %>% select(-region) %>% select(-erna_id)\n",
    "final_counts_df = final_counts_df[rownames(expressed_erna_exrs_matrix), colnames(expressed_erna_exrs_matrix) ]"
   ]
  },
  {
   "cell_type": "code",
   "execution_count": null,
   "id": "5b891058",
   "metadata": {
    "vscode": {
     "languageId": "r"
    }
   },
   "outputs": [
    {
     "data": {
      "text/plain": [
       "              erna_from_rnaseq\n",
       "erna_from_atac     0     1\n",
       "             0 54228   188\n",
       "             1   423     2"
      ]
     },
     "metadata": {},
     "output_type": "display_data"
    }
   ],
   "source": [
    "erna_from_atac <- c(as.matrix(final_counts_df))\n",
    "erna_from_rnaseq <- c(as.matrix(expressed_erna_exrs_matrix))\n",
    "#binarize the data\n",
    "erna_from_atac[erna_from_atac > 0] <- 1\n",
    "erna_from_rnaseq[erna_from_rnaseq > 0] <- 1\n",
    "contingency_df = data.frame('erna_from_atac' = erna_from_atac, 'erna_from_rnaseq' = erna_from_rnaseq)\n",
    "contingency_table <- table(contingency_df)\n",
    "contingency_table\n"
   ]
  },
  {
   "cell_type": "code",
   "execution_count": null,
   "id": "e784a12b",
   "metadata": {
    "vscode": {
     "languageId": "r"
    }
   },
   "outputs": [
    {
     "name": "stderr",
     "output_type": "stream",
     "text": [
      "You can cite this package as:\n",
      "     Patil, I. (2021). Visualizations with statistical details: The 'ggstatsplot' approach.\n",
      "     Journal of Open Source Software, 6(61), 3167, doi:10.21105/joss.03167\n",
      "\n"
     ]
    },
    {
     "data": {
      "image/png": "[encoded data removed]",
      "text/plain": [
       "plot without title"
      ]
     },
     "metadata": {
      "image/png": {
       "height": 420,
       "width": 420
      }
     },
     "output_type": "display_data"
    }
   ],
   "source": [
    "test <- fisher.test(contingency_table)\n",
    "\n",
    "# combine plot and statistical test with ggbarstats\n",
    "library(ggstatsplot)\n",
    "ggbarstats(\n",
    "  contingency_df, 'erna_from_atac', 'erna_from_rnaseq',\n",
    "  results.subtitle = FALSE,\n",
    "  subtitle = paste0(\n",
    "    \"Fisher's exact test\", \", p-value = \",\n",
    "    ifelse(test$p.value < 0.001, \"< 0.001\", round(test$p.value, 3))\n",
    "  )\n",
    ")"
   ]
  },
  {
   "cell_type": "code",
   "execution_count": null,
   "id": "b7bac291",
   "metadata": {
    "vscode": {
     "languageId": "r"
    }
   },
   "outputs": [],
   "source": []
  }
 ],
 "metadata": {
  "kernelspec": {
   "display_name": "R",
   "language": "R",
   "name": "ir"
  },
  "language_info": {
   "codemirror_mode": "r",
   "file_extension": ".r",
   "mimetype": "text/x-r-source",
   "name": "R",
   "pygments_lexer": "r",
   "version": "4.3.3"
  }
 },
 "nbformat": 4,
 "nbformat_minor": 5
}
